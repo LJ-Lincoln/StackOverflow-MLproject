{
 "cells": [
  {
   "cell_type": "code",
   "execution_count": 3,
   "metadata": {
    "collapsed": false
   },
   "outputs": [],
   "source": [
    "import sqlite3\n",
    "import pandas as pd\n",
    "import matplotlib.pyplot as plt\n",
    "import seaborn as sns\n",
    "%matplotlib inline \n",
    "sns.set_style(\"whitegrid\")"
   ]
  },
  {
   "cell_type": "code",
   "execution_count": 6,
   "metadata": {
    "collapsed": true
   },
   "outputs": [],
   "source": [
    "conn = sqlite3.connect('crossvalidated.db')"
   ]
  },
  {
   "cell_type": "code",
   "execution_count": 7,
   "metadata": {
    "collapsed": true
   },
   "outputs": [],
   "source": [
    "# return all the records from posts table\n",
    "query = \"SELECT * FROM posts\""
   ]
  },
  {
   "cell_type": "code",
   "execution_count": 8,
   "metadata": {
    "collapsed": false
   },
   "outputs": [],
   "source": [
    "post_df = pd.read_sql_query(query, conn)"
   ]
  },
  {
   "cell_type": "code",
   "execution_count": 9,
   "metadata": {
    "collapsed": false
   },
   "outputs": [
    {
     "data": {
      "text/html": [
       "<div>\n",
       "<table border=\"1\" class=\"dataframe\">\n",
       "  <thead>\n",
       "    <tr style=\"text-align: right;\">\n",
       "      <th></th>\n",
       "      <th>Body</th>\n",
       "      <th>ViewCount</th>\n",
       "      <th>LastEditorDisplayName</th>\n",
       "      <th>ClosedDate</th>\n",
       "      <th>CommunityOwnedDate</th>\n",
       "      <th>LastEditorUserId</th>\n",
       "      <th>ParentID</th>\n",
       "      <th>LastEditDate</th>\n",
       "      <th>CommentCount</th>\n",
       "      <th>AnswerCount</th>\n",
       "      <th>...</th>\n",
       "      <th>Score</th>\n",
       "      <th>OwnerDisplayName</th>\n",
       "      <th>Title</th>\n",
       "      <th>PostTypeId</th>\n",
       "      <th>OwnerUserId</th>\n",
       "      <th>Tags</th>\n",
       "      <th>CreationDate</th>\n",
       "      <th>FavoriteCount</th>\n",
       "      <th>Id</th>\n",
       "      <th>LastActivityDate</th>\n",
       "    </tr>\n",
       "  </thead>\n",
       "  <tbody>\n",
       "    <tr>\n",
       "      <th>0</th>\n",
       "      <td>&lt;p&gt;How should I elicit prior distributions fro...</td>\n",
       "      <td>1850.0</td>\n",
       "      <td>None</td>\n",
       "      <td>None</td>\n",
       "      <td>None</td>\n",
       "      <td>NaN</td>\n",
       "      <td>NaN</td>\n",
       "      <td>None</td>\n",
       "      <td>1</td>\n",
       "      <td>5.0</td>\n",
       "      <td>...</td>\n",
       "      <td>31</td>\n",
       "      <td>None</td>\n",
       "      <td>Eliciting priors from experts</td>\n",
       "      <td>1</td>\n",
       "      <td>8.0</td>\n",
       "      <td>&lt;bayesian&gt;&lt;prior&gt;&lt;elicitation&gt;</td>\n",
       "      <td>2010-07-19T19:12:12.510</td>\n",
       "      <td>19.0</td>\n",
       "      <td>1</td>\n",
       "      <td>2010-09-15T21:08:26.077</td>\n",
       "    </tr>\n",
       "    <tr>\n",
       "      <th>1</th>\n",
       "      <td>&lt;p&gt;In many different statistical methods there...</td>\n",
       "      <td>15519.0</td>\n",
       "      <td>None</td>\n",
       "      <td>None</td>\n",
       "      <td>None</td>\n",
       "      <td>88.0</td>\n",
       "      <td>NaN</td>\n",
       "      <td>2010-08-07T17:56:44.800</td>\n",
       "      <td>1</td>\n",
       "      <td>7.0</td>\n",
       "      <td>...</td>\n",
       "      <td>26</td>\n",
       "      <td>None</td>\n",
       "      <td>What is normality?</td>\n",
       "      <td>1</td>\n",
       "      <td>24.0</td>\n",
       "      <td>&lt;distributions&gt;&lt;normality&gt;</td>\n",
       "      <td>2010-07-19T19:12:57.157</td>\n",
       "      <td>9.0</td>\n",
       "      <td>2</td>\n",
       "      <td>2012-11-12T09:21:54.993</td>\n",
       "    </tr>\n",
       "    <tr>\n",
       "      <th>2</th>\n",
       "      <td>&lt;p&gt;What are some valuable Statistical Analysis...</td>\n",
       "      <td>5162.0</td>\n",
       "      <td>None</td>\n",
       "      <td>None</td>\n",
       "      <td>2010-07-19T19:13:28.577</td>\n",
       "      <td>183.0</td>\n",
       "      <td>NaN</td>\n",
       "      <td>2011-02-12T05:50:03.667</td>\n",
       "      <td>4</td>\n",
       "      <td>19.0</td>\n",
       "      <td>...</td>\n",
       "      <td>63</td>\n",
       "      <td>None</td>\n",
       "      <td>What are some valuable Statistical Analysis op...</td>\n",
       "      <td>1</td>\n",
       "      <td>18.0</td>\n",
       "      <td>&lt;software&gt;&lt;open-source&gt;</td>\n",
       "      <td>2010-07-19T19:13:28.577</td>\n",
       "      <td>38.0</td>\n",
       "      <td>3</td>\n",
       "      <td>2013-05-27T14:48:36.927</td>\n",
       "    </tr>\n",
       "    <tr>\n",
       "      <th>3</th>\n",
       "      <td>&lt;p&gt;I have two groups of data.  Each with a dif...</td>\n",
       "      <td>15443.0</td>\n",
       "      <td>None</td>\n",
       "      <td>None</td>\n",
       "      <td>None</td>\n",
       "      <td>NaN</td>\n",
       "      <td>NaN</td>\n",
       "      <td>None</td>\n",
       "      <td>2</td>\n",
       "      <td>5.0</td>\n",
       "      <td>...</td>\n",
       "      <td>15</td>\n",
       "      <td>None</td>\n",
       "      <td>Assessing the significance of differences in d...</td>\n",
       "      <td>1</td>\n",
       "      <td>23.0</td>\n",
       "      <td>&lt;distributions&gt;&lt;statistical-significance&gt;</td>\n",
       "      <td>2010-07-19T19:13:31.617</td>\n",
       "      <td>4.0</td>\n",
       "      <td>4</td>\n",
       "      <td>2010-09-08T03:00:19.690</td>\n",
       "    </tr>\n",
       "    <tr>\n",
       "      <th>4</th>\n",
       "      <td>&lt;p&gt;The R-project&lt;/p&gt;\\n\\n&lt;p&gt;&lt;a href=\"http://www...</td>\n",
       "      <td>NaN</td>\n",
       "      <td>None</td>\n",
       "      <td>None</td>\n",
       "      <td>2010-07-19T19:14:43.050</td>\n",
       "      <td>23.0</td>\n",
       "      <td>3.0</td>\n",
       "      <td>2010-07-19T19:21:15.063</td>\n",
       "      <td>3</td>\n",
       "      <td>NaN</td>\n",
       "      <td>...</td>\n",
       "      <td>84</td>\n",
       "      <td>None</td>\n",
       "      <td>None</td>\n",
       "      <td>2</td>\n",
       "      <td>23.0</td>\n",
       "      <td>None</td>\n",
       "      <td>2010-07-19T19:14:43.050</td>\n",
       "      <td>NaN</td>\n",
       "      <td>5</td>\n",
       "      <td>2010-07-19T19:21:15.063</td>\n",
       "    </tr>\n",
       "  </tbody>\n",
       "</table>\n",
       "<p>5 rows × 21 columns</p>\n",
       "</div>"
      ],
      "text/plain": [
       "                                                Body  ViewCount  \\\n",
       "0  <p>How should I elicit prior distributions fro...     1850.0   \n",
       "1  <p>In many different statistical methods there...    15519.0   \n",
       "2  <p>What are some valuable Statistical Analysis...     5162.0   \n",
       "3  <p>I have two groups of data.  Each with a dif...    15443.0   \n",
       "4  <p>The R-project</p>\\n\\n<p><a href=\"http://www...        NaN   \n",
       "\n",
       "  LastEditorDisplayName ClosedDate       CommunityOwnedDate  LastEditorUserId  \\\n",
       "0                  None       None                     None               NaN   \n",
       "1                  None       None                     None              88.0   \n",
       "2                  None       None  2010-07-19T19:13:28.577             183.0   \n",
       "3                  None       None                     None               NaN   \n",
       "4                  None       None  2010-07-19T19:14:43.050              23.0   \n",
       "\n",
       "   ParentID             LastEditDate  CommentCount  AnswerCount  \\\n",
       "0       NaN                     None             1          5.0   \n",
       "1       NaN  2010-08-07T17:56:44.800             1          7.0   \n",
       "2       NaN  2011-02-12T05:50:03.667             4         19.0   \n",
       "3       NaN                     None             2          5.0   \n",
       "4       3.0  2010-07-19T19:21:15.063             3          NaN   \n",
       "\n",
       "            ...             Score  OwnerDisplayName  \\\n",
       "0           ...                31              None   \n",
       "1           ...                26              None   \n",
       "2           ...                63              None   \n",
       "3           ...                15              None   \n",
       "4           ...                84              None   \n",
       "\n",
       "                                               Title PostTypeId  OwnerUserId  \\\n",
       "0                      Eliciting priors from experts          1          8.0   \n",
       "1                                 What is normality?          1         24.0   \n",
       "2  What are some valuable Statistical Analysis op...          1         18.0   \n",
       "3  Assessing the significance of differences in d...          1         23.0   \n",
       "4                                               None          2         23.0   \n",
       "\n",
       "                                        Tags             CreationDate  \\\n",
       "0             <bayesian><prior><elicitation>  2010-07-19T19:12:12.510   \n",
       "1                 <distributions><normality>  2010-07-19T19:12:57.157   \n",
       "2                    <software><open-source>  2010-07-19T19:13:28.577   \n",
       "3  <distributions><statistical-significance>  2010-07-19T19:13:31.617   \n",
       "4                                       None  2010-07-19T19:14:43.050   \n",
       "\n",
       "  FavoriteCount  Id         LastActivityDate  \n",
       "0          19.0   1  2010-09-15T21:08:26.077  \n",
       "1           9.0   2  2012-11-12T09:21:54.993  \n",
       "2          38.0   3  2013-05-27T14:48:36.927  \n",
       "3           4.0   4  2010-09-08T03:00:19.690  \n",
       "4           NaN   5  2010-07-19T19:21:15.063  \n",
       "\n",
       "[5 rows x 21 columns]"
      ]
     },
     "execution_count": 9,
     "metadata": {},
     "output_type": "execute_result"
    }
   ],
   "source": [
    "post_df.head()"
   ]
  },
  {
   "cell_type": "code",
   "execution_count": 11,
   "metadata": {
    "collapsed": false
   },
   "outputs": [
    {
     "data": {
      "text/plain": [
       "(151044, 21)"
      ]
     },
     "execution_count": 11,
     "metadata": {},
     "output_type": "execute_result"
    }
   ],
   "source": [
    "post_df.shape"
   ]
  },
  {
   "cell_type": "code",
   "execution_count": 10,
   "metadata": {
    "collapsed": false
   },
   "outputs": [
    {
     "data": {
      "text/plain": [
       "Index([u'Body', u'ViewCount', u'LastEditorDisplayName', u'ClosedDate',\n",
       "       u'CommunityOwnedDate', u'LastEditorUserId', u'ParentID',\n",
       "       u'LastEditDate', u'CommentCount', u'AnswerCount', u'AcceptedAnswerId',\n",
       "       u'Score', u'OwnerDisplayName', u'Title', u'PostTypeId', u'OwnerUserId',\n",
       "       u'Tags', u'CreationDate', u'FavoriteCount', u'Id', u'LastActivityDate'],\n",
       "      dtype='object')"
      ]
     },
     "execution_count": 10,
     "metadata": {},
     "output_type": "execute_result"
    }
   ],
   "source": [
    "post_df.columns"
   ]
  },
  {
   "cell_type": "code",
   "execution_count": 25,
   "metadata": {
    "collapsed": false
   },
   "outputs": [
    {
     "data": {
      "text/plain": [
       "Index([u'Comment', u'CreationDate', u'UserDisplayName', u'RevisionGUID',\n",
       "       u'UserId', u'PostId', u'PostHistoryTypeId', u'Id', u'Text'],\n",
       "      dtype='object')"
      ]
     },
     "execution_count": 25,
     "metadata": {},
     "output_type": "execute_result"
    }
   ],
   "source": [
    "posthist_df.columns"
   ]
  },
  {
   "cell_type": "code",
   "execution_count": 28,
   "metadata": {
    "collapsed": false
   },
   "outputs": [
    {
     "data": {
      "text/html": [
       "<div>\n",
       "<table border=\"1\" class=\"dataframe\">\n",
       "  <thead>\n",
       "    <tr style=\"text-align: right;\">\n",
       "      <th></th>\n",
       "      <th>Comment</th>\n",
       "      <th>CreationDate</th>\n",
       "      <th>UserDisplayName</th>\n",
       "      <th>RevisionGUID</th>\n",
       "      <th>UserId</th>\n",
       "      <th>PostId</th>\n",
       "      <th>PostHistoryTypeId</th>\n",
       "      <th>Id</th>\n",
       "      <th>Text</th>\n",
       "    </tr>\n",
       "  </thead>\n",
       "  <tbody>\n",
       "    <tr>\n",
       "      <th>0</th>\n",
       "      <td>None</td>\n",
       "      <td>2010-07-19T19:12:12.510</td>\n",
       "      <td>None</td>\n",
       "      <td>e58bf7fd-e60f-4c58-a6e4-dfc91cf98a69</td>\n",
       "      <td>8.0</td>\n",
       "      <td>1</td>\n",
       "      <td>2</td>\n",
       "      <td>1</td>\n",
       "      <td>How should I elicit prior distributions from e...</td>\n",
       "    </tr>\n",
       "    <tr>\n",
       "      <th>1</th>\n",
       "      <td>None</td>\n",
       "      <td>2010-07-19T19:12:12.510</td>\n",
       "      <td>None</td>\n",
       "      <td>e58bf7fd-e60f-4c58-a6e4-dfc91cf98a69</td>\n",
       "      <td>8.0</td>\n",
       "      <td>1</td>\n",
       "      <td>1</td>\n",
       "      <td>2</td>\n",
       "      <td>Eliciting priors from experts</td>\n",
       "    </tr>\n",
       "    <tr>\n",
       "      <th>2</th>\n",
       "      <td>None</td>\n",
       "      <td>2010-07-19T19:12:12.510</td>\n",
       "      <td>None</td>\n",
       "      <td>e58bf7fd-e60f-4c58-a6e4-dfc91cf98a69</td>\n",
       "      <td>8.0</td>\n",
       "      <td>1</td>\n",
       "      <td>3</td>\n",
       "      <td>3</td>\n",
       "      <td>&lt;bayesian&gt;&lt;prior&gt;&lt;elicitation&gt;</td>\n",
       "    </tr>\n",
       "    <tr>\n",
       "      <th>3</th>\n",
       "      <td>None</td>\n",
       "      <td>2010-07-19T19:12:57.157</td>\n",
       "      <td>None</td>\n",
       "      <td>18bf9150-f1cb-432d-b7b7-26d2f8e33581</td>\n",
       "      <td>24.0</td>\n",
       "      <td>2</td>\n",
       "      <td>2</td>\n",
       "      <td>4</td>\n",
       "      <td>In many different statistical methods there is...</td>\n",
       "    </tr>\n",
       "    <tr>\n",
       "      <th>4</th>\n",
       "      <td>None</td>\n",
       "      <td>2010-07-19T19:12:57.157</td>\n",
       "      <td>None</td>\n",
       "      <td>18bf9150-f1cb-432d-b7b7-26d2f8e33581</td>\n",
       "      <td>24.0</td>\n",
       "      <td>2</td>\n",
       "      <td>1</td>\n",
       "      <td>5</td>\n",
       "      <td>What is normality?</td>\n",
       "    </tr>\n",
       "  </tbody>\n",
       "</table>\n",
       "</div>"
      ],
      "text/plain": [
       "  Comment             CreationDate UserDisplayName  \\\n",
       "0    None  2010-07-19T19:12:12.510            None   \n",
       "1    None  2010-07-19T19:12:12.510            None   \n",
       "2    None  2010-07-19T19:12:12.510            None   \n",
       "3    None  2010-07-19T19:12:57.157            None   \n",
       "4    None  2010-07-19T19:12:57.157            None   \n",
       "\n",
       "                           RevisionGUID  UserId  PostId  PostHistoryTypeId  \\\n",
       "0  e58bf7fd-e60f-4c58-a6e4-dfc91cf98a69     8.0       1                  2   \n",
       "1  e58bf7fd-e60f-4c58-a6e4-dfc91cf98a69     8.0       1                  1   \n",
       "2  e58bf7fd-e60f-4c58-a6e4-dfc91cf98a69     8.0       1                  3   \n",
       "3  18bf9150-f1cb-432d-b7b7-26d2f8e33581    24.0       2                  2   \n",
       "4  18bf9150-f1cb-432d-b7b7-26d2f8e33581    24.0       2                  1   \n",
       "\n",
       "   Id                                               Text  \n",
       "0   1  How should I elicit prior distributions from e...  \n",
       "1   2                      Eliciting priors from experts  \n",
       "2   3                     <bayesian><prior><elicitation>  \n",
       "3   4  In many different statistical methods there is...  \n",
       "4   5                                 What is normality?  "
      ]
     },
     "execution_count": 28,
     "metadata": {},
     "output_type": "execute_result"
    }
   ],
   "source": [
    "posthist_df.head()"
   ]
  },
  {
   "cell_type": "code",
   "execution_count": 11,
   "metadata": {
    "collapsed": false
   },
   "outputs": [
    {
     "data": {
      "text/plain": [
       "Body                      object\n",
       "ViewCount                float64\n",
       "LastEditorDisplayName     object\n",
       "ClosedDate                object\n",
       "CommunityOwnedDate        object\n",
       "LastEditorUserId         float64\n",
       "ParentID                 float64\n",
       "LastEditDate              object\n",
       "CommentCount               int64\n",
       "AnswerCount              float64\n",
       "AcceptedAnswerId         float64\n",
       "Score                      int64\n",
       "OwnerDisplayName          object\n",
       "Title                     object\n",
       "PostTypeId                 int64\n",
       "OwnerUserId              float64\n",
       "Tags                      object\n",
       "CreationDate              object\n",
       "FavoriteCount            float64\n",
       "Id                         int64\n",
       "LastActivityDate          object\n",
       "dtype: object"
      ]
     },
     "execution_count": 11,
     "metadata": {},
     "output_type": "execute_result"
    }
   ],
   "source": [
    "post_df.dtypes"
   ]
  },
  {
   "cell_type": "code",
   "execution_count": 12,
   "metadata": {
    "collapsed": false
   },
   "outputs": [
    {
     "data": {
      "text/html": [
       "<div>\n",
       "<table border=\"1\" class=\"dataframe\">\n",
       "  <thead>\n",
       "    <tr style=\"text-align: right;\">\n",
       "      <th></th>\n",
       "      <th>ViewCount</th>\n",
       "      <th>LastEditorUserId</th>\n",
       "      <th>ParentID</th>\n",
       "      <th>CommentCount</th>\n",
       "      <th>AnswerCount</th>\n",
       "      <th>AcceptedAnswerId</th>\n",
       "      <th>Score</th>\n",
       "      <th>PostTypeId</th>\n",
       "      <th>OwnerUserId</th>\n",
       "      <th>FavoriteCount</th>\n",
       "      <th>Id</th>\n",
       "    </tr>\n",
       "  </thead>\n",
       "  <tbody>\n",
       "    <tr>\n",
       "      <th>count</th>\n",
       "      <td>75067.000000</td>\n",
       "      <td>72500.000000</td>\n",
       "      <td>74331.000000</td>\n",
       "      <td>151044.000000</td>\n",
       "      <td>75067.000000</td>\n",
       "      <td>23818.000000</td>\n",
       "      <td>151044.000000</td>\n",
       "      <td>151044.000000</td>\n",
       "      <td>149271.000000</td>\n",
       "      <td>22850.000000</td>\n",
       "      <td>151044.000000</td>\n",
       "    </tr>\n",
       "    <tr>\n",
       "      <th>mean</th>\n",
       "      <td>816.843660</td>\n",
       "      <td>22134.436566</td>\n",
       "      <td>83680.391479</td>\n",
       "      <td>1.922029</td>\n",
       "      <td>0.990195</td>\n",
       "      <td>90904.345117</td>\n",
       "      <td>2.736117</td>\n",
       "      <td>1.530408</td>\n",
       "      <td>31738.179479</td>\n",
       "      <td>2.731116</td>\n",
       "      <td>98085.845171</td>\n",
       "    </tr>\n",
       "    <tr>\n",
       "      <th>std</th>\n",
       "      <td>4281.584173</td>\n",
       "      <td>25574.054081</td>\n",
       "      <td>59199.273110</td>\n",
       "      <td>2.662302</td>\n",
       "      <td>1.336717</td>\n",
       "      <td>58499.459081</td>\n",
       "      <td>5.921776</td>\n",
       "      <td>0.590355</td>\n",
       "      <td>29888.893801</td>\n",
       "      <td>7.726070</td>\n",
       "      <td>59672.239119</td>\n",
       "    </tr>\n",
       "    <tr>\n",
       "      <th>min</th>\n",
       "      <td>2.000000</td>\n",
       "      <td>-1.000000</td>\n",
       "      <td>1.000000</td>\n",
       "      <td>0.000000</td>\n",
       "      <td>0.000000</td>\n",
       "      <td>5.000000</td>\n",
       "      <td>-35.000000</td>\n",
       "      <td>1.000000</td>\n",
       "      <td>-1.000000</td>\n",
       "      <td>0.000000</td>\n",
       "      <td>1.000000</td>\n",
       "    </tr>\n",
       "    <tr>\n",
       "      <th>25%</th>\n",
       "      <td>46.000000</td>\n",
       "      <td>2116.000000</td>\n",
       "      <td>29330.500000</td>\n",
       "      <td>0.000000</td>\n",
       "      <td>0.000000</td>\n",
       "      <td>37654.750000</td>\n",
       "      <td>0.000000</td>\n",
       "      <td>1.000000</td>\n",
       "      <td>6553.000000</td>\n",
       "      <td>1.000000</td>\n",
       "      <td>45750.750000</td>\n",
       "    </tr>\n",
       "    <tr>\n",
       "      <th>50%</th>\n",
       "      <td>118.000000</td>\n",
       "      <td>11032.000000</td>\n",
       "      <td>76590.000000</td>\n",
       "      <td>1.000000</td>\n",
       "      <td>1.000000</td>\n",
       "      <td>86705.500000</td>\n",
       "      <td>1.000000</td>\n",
       "      <td>2.000000</td>\n",
       "      <td>22452.000000</td>\n",
       "      <td>1.000000</td>\n",
       "      <td>95794.500000</td>\n",
       "    </tr>\n",
       "    <tr>\n",
       "      <th>75%</th>\n",
       "      <td>404.000000</td>\n",
       "      <td>31379.000000</td>\n",
       "      <td>134031.500000</td>\n",
       "      <td>3.000000</td>\n",
       "      <td>1.000000</td>\n",
       "      <td>141417.250000</td>\n",
       "      <td>3.000000</td>\n",
       "      <td>2.000000</td>\n",
       "      <td>52615.000000</td>\n",
       "      <td>2.000000</td>\n",
       "      <td>151788.250000</td>\n",
       "    </tr>\n",
       "    <tr>\n",
       "      <th>max</th>\n",
       "      <td>293679.000000</td>\n",
       "      <td>107565.000000</td>\n",
       "      <td>200147.000000</td>\n",
       "      <td>45.000000</td>\n",
       "      <td>143.000000</td>\n",
       "      <td>200143.000000</td>\n",
       "      <td>334.000000</td>\n",
       "      <td>7.000000</td>\n",
       "      <td>107587.000000</td>\n",
       "      <td>389.000000</td>\n",
       "      <td>200182.000000</td>\n",
       "    </tr>\n",
       "  </tbody>\n",
       "</table>\n",
       "</div>"
      ],
      "text/plain": [
       "           ViewCount  LastEditorUserId       ParentID   CommentCount  \\\n",
       "count   75067.000000      72500.000000   74331.000000  151044.000000   \n",
       "mean      816.843660      22134.436566   83680.391479       1.922029   \n",
       "std      4281.584173      25574.054081   59199.273110       2.662302   \n",
       "min         2.000000         -1.000000       1.000000       0.000000   \n",
       "25%        46.000000       2116.000000   29330.500000       0.000000   \n",
       "50%       118.000000      11032.000000   76590.000000       1.000000   \n",
       "75%       404.000000      31379.000000  134031.500000       3.000000   \n",
       "max    293679.000000     107565.000000  200147.000000      45.000000   \n",
       "\n",
       "        AnswerCount  AcceptedAnswerId          Score     PostTypeId  \\\n",
       "count  75067.000000      23818.000000  151044.000000  151044.000000   \n",
       "mean       0.990195      90904.345117       2.736117       1.530408   \n",
       "std        1.336717      58499.459081       5.921776       0.590355   \n",
       "min        0.000000          5.000000     -35.000000       1.000000   \n",
       "25%        0.000000      37654.750000       0.000000       1.000000   \n",
       "50%        1.000000      86705.500000       1.000000       2.000000   \n",
       "75%        1.000000     141417.250000       3.000000       2.000000   \n",
       "max      143.000000     200143.000000     334.000000       7.000000   \n",
       "\n",
       "         OwnerUserId  FavoriteCount             Id  \n",
       "count  149271.000000   22850.000000  151044.000000  \n",
       "mean    31738.179479       2.731116   98085.845171  \n",
       "std     29888.893801       7.726070   59672.239119  \n",
       "min        -1.000000       0.000000       1.000000  \n",
       "25%      6553.000000       1.000000   45750.750000  \n",
       "50%     22452.000000       1.000000   95794.500000  \n",
       "75%     52615.000000       2.000000  151788.250000  \n",
       "max    107587.000000     389.000000  200182.000000  "
      ]
     },
     "execution_count": 12,
     "metadata": {},
     "output_type": "execute_result"
    }
   ],
   "source": [
    "post_df.describe()"
   ]
  },
  {
   "cell_type": "code",
   "execution_count": 13,
   "metadata": {
    "collapsed": false
   },
   "outputs": [
    {
     "data": {
      "text/plain": [
       "Body                     False\n",
       "ViewCount                 True\n",
       "LastEditorDisplayName     True\n",
       "ClosedDate                True\n",
       "CommunityOwnedDate        True\n",
       "LastEditorUserId          True\n",
       "ParentID                  True\n",
       "LastEditDate              True\n",
       "CommentCount             False\n",
       "AnswerCount               True\n",
       "AcceptedAnswerId          True\n",
       "Score                    False\n",
       "OwnerDisplayName          True\n",
       "Title                     True\n",
       "PostTypeId               False\n",
       "OwnerUserId               True\n",
       "Tags                      True\n",
       "CreationDate             False\n",
       "FavoriteCount             True\n",
       "Id                       False\n",
       "LastActivityDate         False\n",
       "dtype: bool"
      ]
     },
     "execution_count": 13,
     "metadata": {},
     "output_type": "execute_result"
    }
   ],
   "source": [
    "#check columns with missing values \n",
    "pd.isnull(post_df).any()"
   ]
  },
  {
   "cell_type": "code",
   "execution_count": 15,
   "metadata": {
    "collapsed": false
   },
   "outputs": [
    {
     "data": {
      "text/plain": [
       "Body                          0\n",
       "ViewCount                 75977\n",
       "LastEditorDisplayName    150480\n",
       "ClosedDate               147372\n",
       "CommunityOwnedDate       147907\n",
       "LastEditorUserId          78544\n",
       "ParentID                  76713\n",
       "LastEditDate              78033\n",
       "CommentCount                  0\n",
       "AnswerCount               75977\n",
       "AcceptedAnswerId         127226\n",
       "Score                         0\n",
       "OwnerDisplayName         147467\n",
       "Title                     75977\n",
       "PostTypeId                    0\n",
       "OwnerUserId                1773\n",
       "Tags                      75977\n",
       "CreationDate                  0\n",
       "FavoriteCount            128194\n",
       "Id                            0\n",
       "LastActivityDate              0\n",
       "dtype: int64"
      ]
     },
     "execution_count": 15,
     "metadata": {},
     "output_type": "execute_result"
    }
   ],
   "source": [
    "pd.isnull(post_df).sum()"
   ]
  },
  {
   "cell_type": "code",
   "execution_count": 19,
   "metadata": {
    "collapsed": true
   },
   "outputs": [],
   "source": [
    "post_df.drop(['LastEditorDisplayName','CommunityOwnedDate','LastEditorUserId','LastEditDate',\n",
    "             'LastActivityDate'],axis=1,inplace=True)"
   ]
  },
  {
   "cell_type": "code",
   "execution_count": 19,
   "metadata": {
    "collapsed": false
   },
   "outputs": [
    {
     "data": {
      "text/plain": [
       "<matplotlib.axes._subplots.AxesSubplot at 0x126cf1650>"
      ]
     },
     "execution_count": 19,
     "metadata": {},
     "output_type": "execute_result"
    },
    {
     "data": {
      "image/png": "[encoded data removed]",
      "text/plain": [
       "<matplotlib.figure.Figure at 0x126eced10>"
      ]
     },
     "metadata": {},
     "output_type": "display_data"
    }
   ],
   "source": [
    "post_df['Score'].hist(bins=20)"
   ]
  },
  {
   "cell_type": "code",
   "execution_count": 20,
   "metadata": {
    "collapsed": false
   },
   "outputs": [
    {
     "data": {
      "text/plain": [
       "<matplotlib.axes._subplots.AxesSubplot at 0x111870490>"
      ]
     },
     "execution_count": 20,
     "metadata": {},
     "output_type": "execute_result"
    },
    {
     "data": {
      "image/png": "[encoded data removed]",
      "text/plain": [
       "<matplotlib.figure.Figure at 0x12551db90>"
      ]
     },
     "metadata": {},
     "output_type": "display_data"
    }
   ],
   "source": [
    "post_df['PostTypeId'].hist(bins=20)"
   ]
  },
  {
   "cell_type": "code",
   "execution_count": 17,
   "metadata": {
    "collapsed": false
   },
   "outputs": [
    {
     "data": {
      "text/plain": [
       "<matplotlib.axes._subplots.AxesSubplot at 0x132d7a6d0>"
      ]
     },
     "execution_count": 17,
     "metadata": {},
     "output_type": "execute_result"
    },
    {
     "data": {
      "image/png": "[encoded data removed]",
      "text/plain": [
       "<matplotlib.figure.Figure at 0x101929110>"
      ]
     },
     "metadata": {},
     "output_type": "display_data"
    }
   ],
   "source": [
    "sns.distplot(post_df['ViewCount'].dropna(), rug=True)"
   ]
  },
  {
   "cell_type": "code",
   "execution_count": 20,
   "metadata": {
    "collapsed": false
   },
   "outputs": [
    {
     "data": {
      "text/plain": [
       "Index([u'Body', u'ViewCount', u'ClosedDate', u'ParentID', u'CommentCount',\n",
       "       u'AnswerCount', u'AcceptedAnswerId', u'Score', u'OwnerDisplayName',\n",
       "       u'Title', u'PostTypeId', u'OwnerUserId', u'Tags', u'CreationDate',\n",
       "       u'FavoriteCount', u'Id'],\n",
       "      dtype='object')"
      ]
     },
     "execution_count": 20,
     "metadata": {},
     "output_type": "execute_result"
    }
   ],
   "source": [
    "post_df.columns"
   ]
  },
  {
   "cell_type": "code",
   "execution_count": 21,
   "metadata": {
    "collapsed": false
   },
   "outputs": [
    {
     "data": {
      "text/plain": [
       "Body                     0\n",
       "ViewCount            75977\n",
       "ClosedDate          147372\n",
       "ParentID             76713\n",
       "CommentCount             0\n",
       "AnswerCount          75977\n",
       "AcceptedAnswerId    127226\n",
       "Score                    0\n",
       "OwnerDisplayName    147467\n",
       "Title                75977\n",
       "PostTypeId               0\n",
       "OwnerUserId           1773\n",
       "Tags                 75977\n",
       "CreationDate             0\n",
       "FavoriteCount       128194\n",
       "Id                       0\n",
       "dtype: int64"
      ]
     },
     "execution_count": 21,
     "metadata": {},
     "output_type": "execute_result"
    }
   ],
   "source": [
    "pd.isnull(post_df).sum()"
   ]
  },
  {
   "cell_type": "code",
   "execution_count": 65,
   "metadata": {
    "collapsed": true
   },
   "outputs": [],
   "source": [
    "qpost_df = post_df[post_df.PostTypeId==1]  #posts for questions"
   ]
  },
  {
   "cell_type": "code",
   "execution_count": 66,
   "metadata": {
    "collapsed": false
   },
   "outputs": [
    {
     "data": {
      "text/plain": [
       "(75067, 16)"
      ]
     },
     "execution_count": 66,
     "metadata": {},
     "output_type": "execute_result"
    }
   ],
   "source": [
    "qpost_df.shape"
   ]
  },
  {
   "cell_type": "code",
   "execution_count": 86,
   "metadata": {
    "collapsed": true
   },
   "outputs": [],
   "source": [
    "import pickle\n",
    "with open('QuesPosts.pickle', 'wb') as handle:\n",
    "    pickle.dump(qpost_df, handle)"
   ]
  },
  {
   "cell_type": "code",
   "execution_count": 85,
   "metadata": {
    "collapsed": true
   },
   "outputs": [],
   "source": [
    "#Quality classes of the questions in our dataset."
   ]
  },
  {
   "cell_type": "code",
   "execution_count": 71,
   "metadata": {
    "collapsed": false
   },
   "outputs": [],
   "source": [
    "postA = qpost_df[(qpost_df.ClosedDate.isnull()) & (qpost_df.Score>=6)]"
   ]
  },
  {
   "cell_type": "code",
   "execution_count": 72,
   "metadata": {
    "collapsed": false
   },
   "outputs": [
    {
     "data": {
      "text/plain": [
       "(6933, 16)"
      ]
     },
     "execution_count": 72,
     "metadata": {},
     "output_type": "execute_result"
    }
   ],
   "source": [
    "postA.shape"
   ]
  },
  {
   "cell_type": "code",
   "execution_count": 73,
   "metadata": {
    "collapsed": true
   },
   "outputs": [],
   "source": [
    "postB = qpost_df[(qpost_df.ClosedDate.isnull()) & (qpost_df.Score>=1) & (qpost_df.Score<=5)]"
   ]
  },
  {
   "cell_type": "code",
   "execution_count": 74,
   "metadata": {
    "collapsed": false
   },
   "outputs": [
    {
     "data": {
      "text/plain": [
       "(42336, 16)"
      ]
     },
     "execution_count": 74,
     "metadata": {},
     "output_type": "execute_result"
    }
   ],
   "source": [
    "postB.shape"
   ]
  },
  {
   "cell_type": "code",
   "execution_count": 79,
   "metadata": {
    "collapsed": true
   },
   "outputs": [],
   "source": [
    "postC = qpost_df[(qpost_df.ClosedDate.isnull()) & (qpost_df.Score==0)]"
   ]
  },
  {
   "cell_type": "code",
   "execution_count": 80,
   "metadata": {
    "collapsed": false
   },
   "outputs": [
    {
     "data": {
      "text/plain": [
       "(21598, 16)"
      ]
     },
     "execution_count": 80,
     "metadata": {},
     "output_type": "execute_result"
    }
   ],
   "source": [
    "postC.shape"
   ]
  },
  {
   "cell_type": "code",
   "execution_count": 81,
   "metadata": {
    "collapsed": true
   },
   "outputs": [],
   "source": [
    "postD = qpost_df[(qpost_df.ClosedDate.isnull()) & (qpost_df.Score<0)]"
   ]
  },
  {
   "cell_type": "code",
   "execution_count": 82,
   "metadata": {
    "collapsed": false
   },
   "outputs": [
    {
     "data": {
      "text/plain": [
       "(528, 16)"
      ]
     },
     "execution_count": 82,
     "metadata": {},
     "output_type": "execute_result"
    }
   ],
   "source": [
    "postD.shape"
   ]
  },
  {
   "cell_type": "code",
   "execution_count": 83,
   "metadata": {
    "collapsed": true
   },
   "outputs": [],
   "source": [
    "postE = qpost_df[qpost_df.ClosedDate.notnull()]"
   ]
  },
  {
   "cell_type": "code",
   "execution_count": 84,
   "metadata": {
    "collapsed": false
   },
   "outputs": [
    {
     "data": {
      "text/plain": [
       "(3672, 16)"
      ]
     },
     "execution_count": 84,
     "metadata": {},
     "output_type": "execute_result"
    }
   ],
   "source": [
    "postE.shape"
   ]
  },
  {
   "cell_type": "code",
   "execution_count": null,
   "metadata": {
    "collapsed": true
   },
   "outputs": [],
   "source": []
  }
 ],
 "metadata": {
  "kernelspec": {
   "display_name": "Python 2",
   "language": "python",
   "name": "python2"
  },
  "language_info": {
   "codemirror_mode": {
    "name": "ipython",
    "version": 2
   },
   "file_extension": ".py",
   "mimetype": "text/x-python",
   "name": "python",
   "nbconvert_exporter": "python",
   "pygments_lexer": "ipython2",
   "version": "2.7.11"
  }
 },
 "nbformat": 4,
 "nbformat_minor": 0
}
