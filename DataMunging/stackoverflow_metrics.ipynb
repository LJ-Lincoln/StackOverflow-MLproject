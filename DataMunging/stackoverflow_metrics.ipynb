{
 "cells": [
  {
   "cell_type": "code",
   "execution_count": 1,
   "metadata": {
    "collapsed": false
   },
   "outputs": [],
   "source": [
    "import sqlite3\n",
    "import pandas as pd\n",
    "import random\n",
    "import re\n",
    "random.seed(1)\n",
    "from sklearn.feature_extraction.text import TfidfVectorizer\n",
    "import numpy as np\n",
    "import string\n",
    "import nltk\n",
    "from nltk.tokenize import word_tokenize\n",
    "from nltk.corpus import stopwords\n",
    "from nltk.sentiment.vader import SentimentIntensityAnalyzer\n",
    "from bs4 import BeautifulSoup"
   ]
  },
  {
   "cell_type": "code",
   "execution_count": 2,
   "metadata": {
    "collapsed": true
   },
   "outputs": [],
   "source": [
    "db_path = '/Users/boyaliu/Documents/UCD/STA 208/final project/data/so-dump.db'\n",
    "conn = sqlite3.connect(db_path)"
   ]
  },
  {
   "cell_type": "code",
   "execution_count": 3,
   "metadata": {
    "collapsed": true
   },
   "outputs": [],
   "source": [
    "query = \"SELECT * FROM posts\""
   ]
  },
  {
   "cell_type": "code",
   "execution_count": 4,
   "metadata": {
    "collapsed": true
   },
   "outputs": [],
   "source": [
    "post_df = pd.read_sql_query(query, conn)"
   ]
  },
  {
   "cell_type": "code",
   "execution_count": 5,
   "metadata": {
    "collapsed": true
   },
   "outputs": [],
   "source": [
    "post_df.drop(['LastEditorDisplayName','CommunityOwnedDate','LastEditorUserId','LastEditDate',\n",
    "             'LastActivityDate'],axis=1,inplace=True)"
   ]
  },
  {
   "cell_type": "code",
   "execution_count": 6,
   "metadata": {
    "collapsed": true
   },
   "outputs": [],
   "source": [
    "qpost_df = post_df[post_df.PostTypeId==1]"
   ]
  },
  {
   "cell_type": "code",
   "execution_count": 7,
   "metadata": {
    "collapsed": false
   },
   "outputs": [
    {
     "data": {
      "text/plain": [
       "(75067, 16)"
      ]
     },
     "execution_count": 7,
     "metadata": {},
     "output_type": "execute_result"
    }
   ],
   "source": [
    "qpost_df.shape"
   ]
  },
  {
   "cell_type": "code",
   "execution_count": 43,
   "metadata": {
    "collapsed": false
   },
   "outputs": [],
   "source": [
    "# create a list for stopwords including uppercase stopwords, lowercase stopwords and capitalized stopwords \n",
    "stop_words = stopwords.words('english') + [x.upper() for x in stopwords.words('english')] + [x.capitalize() for x in stopwords.words('english')]"
   ]
  },
  {
   "cell_type": "code",
   "execution_count": 92,
   "metadata": {
    "collapsed": true
   },
   "outputs": [],
   "source": [
    "# clean the data set\n",
    "\n",
    "Code = []\n",
    "\n",
    "def exact_from_html(row):\n",
    "    soup = BeautifulSoup(row, \"html.parser\")\n",
    "\n",
    "    #remove code\n",
    "    if soup.code is not None:\n",
    "        code = soup.code.extract()\n",
    "        Code.append(code)\n",
    "    else:\n",
    "        Code.append('NA')\n",
    "        \n",
    "    raw = soup.get_text()\n",
    "    #remove link\n",
    "    raw_no_link = re.sub(\"http[s]?://(?:[a-zA-Z]|[0-9]|[$-_@.&+]|[!*\\(\\),]|(?:%[0-9a-fA-F][0-9a-fA-F]))+\", '', raw)\n",
    "    #remove email\n",
    "    no_link_email = re.sub(r'[\\w\\.-]+@[\\w\\.-]+[\\.][com|org|ch|uk]{2,3}', \"\", raw_no_link)\n",
    "    #remove fomula\n",
    "    no_link_email_fomula= re.sub('(\\$.+?\\$)', \"\", no_link_email, flags=re.IGNORECASE)\n",
    "    #remove whitespace\n",
    "    tab_text = '\\t\\n\\r\\x0b\\x0c'\n",
    "    raw = \"\".join([ch for ch in no_link_email_fomula if ch not in set(tab_text)])\n",
    "    return(raw)\n",
    "\n",
    "def remove_stop(row):\n",
    "    raw = \" \".join([word for word in word_tokenize(row) if word not in stop_words])\n",
    "    return(raw)\n",
    "def remove_punc(row):\n",
    "    raw = \"\".join([ch for ch in row if ch not in set(string.punctuation)])\n",
    "    return(raw)\n",
    "\n",
    "\n"
   ]
  },
  {
   "cell_type": "code",
   "execution_count": 94,
   "metadata": {
    "collapsed": false
   },
   "outputs": [],
   "source": [
    "# get the body without removing stopwords and punctuation \n",
    "body_wo_sto_pun = qpost_df['Body'].map(lambda i: exact_from_html(i))"
   ]
  },
  {
   "cell_type": "code",
   "execution_count": 95,
   "metadata": {
    "collapsed": true
   },
   "outputs": [],
   "source": [
    "# get the title without removing stopwords and punctuation \n",
    "title_wo_sto_pun = qpost_df['Title'].map(lambda i: exact_from_html(i))"
   ]
  },
  {
   "cell_type": "code",
   "execution_count": 96,
   "metadata": {
    "collapsed": false
   },
   "outputs": [],
   "source": [
    "# get the body for sentimental analysis, did not remove punctuation \n",
    "body_senti = body_wo_sto_pun.map(lambda i: remove_stop(i))"
   ]
  },
  {
   "cell_type": "code",
   "execution_count": 97,
   "metadata": {
    "collapsed": true
   },
   "outputs": [],
   "source": [
    "# get the title for sentimental analysis, did not remove punctuation \n",
    "title_senti = title_wo_sto_pun.map(lambda i: remove_stop(i))"
   ]
  },
  {
   "cell_type": "code",
   "execution_count": 98,
   "metadata": {
    "collapsed": true
   },
   "outputs": [],
   "source": [
    "# get the clean title\n",
    "title_clean = title_senti.map(lambda i: remove_punc(i))"
   ]
  },
  {
   "cell_type": "code",
   "execution_count": 99,
   "metadata": {
    "collapsed": true
   },
   "outputs": [],
   "source": [
    "# get the clean body\n",
    "Body_clean = body_senti.map(lambda i: remove_punc(i))"
   ]
  },
  {
   "cell_type": "code",
   "execution_count": 100,
   "metadata": {
    "collapsed": true
   },
   "outputs": [],
   "source": [
    "# get the body and title without removing stopwords and punctuation \n",
    "body_title_wo = body_wo_sto_pun + title_wo_sto_pun"
   ]
  },
  {
   "cell_type": "code",
   "execution_count": 102,
   "metadata": {
    "collapsed": false
   },
   "outputs": [],
   "source": [
    "# count the space\n",
    "space_count = body_title_wo.map(lambda i: i.count(' '))"
   ]
  },
  {
   "cell_type": "code",
   "execution_count": 111,
   "metadata": {
    "collapsed": false
   },
   "outputs": [
    {
     "data": {
      "text/plain": [
       "75067"
      ]
     },
     "execution_count": 111,
     "metadata": {},
     "output_type": "execute_result"
    }
   ],
   "source": [
    "len(space_count)"
   ]
  },
  {
   "cell_type": "code",
   "execution_count": 103,
   "metadata": {
    "collapsed": true
   },
   "outputs": [],
   "source": [
    "# combine title and body together\n",
    "body_title = Body_clean + title_clean"
   ]
  },
  {
   "cell_type": "code",
   "execution_count": 104,
   "metadata": {
    "collapsed": true
   },
   "outputs": [],
   "source": [
    "def case_count(row):\n",
    "    # count lower_case percentage & upper_case percentage\n",
    "    up = []\n",
    "    row_nw = row.replace(\" \", \"\")\n",
    "    for c in row:\n",
    "        if c.isupper():\n",
    "            up.append(1)\n",
    "            \n",
    "    upper_per = sum(up)/len(row_nw)    \n",
    "    lower_per = 1 - upper_per\n",
    "    return((lower_per, upper_per))"
   ]
  },
  {
   "cell_type": "code",
   "execution_count": 105,
   "metadata": {
    "collapsed": false
   },
   "outputs": [
    {
     "data": {
      "text/plain": [
       "'many different statistical methods  assumption normality    normality  know normality normality '"
      ]
     },
     "execution_count": 105,
     "metadata": {},
     "output_type": "execute_result"
    }
   ],
   "source": [
    "body_title[1]"
   ]
  },
  {
   "cell_type": "code",
   "execution_count": 106,
   "metadata": {
    "collapsed": false
   },
   "outputs": [],
   "source": [
    "# count the case \n",
    "c_c = body_title.map(lambda i: case_count(i))\n",
    "upper_per = c_c.map(lambda i: i[1])\n",
    "lower_per = c_c.map(lambda i: i[0])\n",
    "\n"
   ]
  },
  {
   "cell_type": "code",
   "execution_count": 107,
   "metadata": {
    "collapsed": false
   },
   "outputs": [
    {
     "data": {
      "text/plain": [
       "75067"
      ]
     },
     "execution_count": 107,
     "metadata": {},
     "output_type": "execute_result"
    }
   ],
   "source": [
    "len(upper_per)"
   ]
  },
  {
   "cell_type": "code",
   "execution_count": 108,
   "metadata": {
    "collapsed": false
   },
   "outputs": [
    {
     "data": {
      "text/plain": [
       "0    0.027397\n",
       "1    0.000000\n",
       "2    0.034884\n",
       "3    0.019231\n",
       "5    0.038750\n",
       "dtype: float64"
      ]
     },
     "execution_count": 108,
     "metadata": {},
     "output_type": "execute_result"
    }
   ],
   "source": [
    "upper_per.head()"
   ]
  },
  {
   "cell_type": "code",
   "execution_count": 109,
   "metadata": {
    "collapsed": false
   },
   "outputs": [
    {
     "data": {
      "text/plain": [
       "0    0.972603\n",
       "1    1.000000\n",
       "2    0.965116\n",
       "3    0.980769\n",
       "5    0.961250\n",
       "dtype: float64"
      ]
     },
     "execution_count": 109,
     "metadata": {},
     "output_type": "execute_result"
    }
   ],
   "source": [
    "lower_per.head()"
   ]
  },
  {
   "cell_type": "code",
   "execution_count": 112,
   "metadata": {
    "collapsed": true
   },
   "outputs": [],
   "source": [
    "# count the url\n",
    "def url_count(row):\n",
    "    url = []\n",
    "    soup = BeautifulSoup(row, \"html.parser\")\n",
    "    raw = BeautifulSoup(row,\"html.parser\").get_text()\n",
    "    for a in soup.find_all('a', href=True):\n",
    "        url.append(a['href'])\n",
    "    url_re = re.findall(r'http[s]?://(?:[a-zA-Z]|[0-9]|[$-_@.&+]|[!*\\(\\),]|(?:%[0-9a-fA-F][0-9a-fA-F]))+', raw)\n",
    "    for i in url_re:\n",
    "        url.append(i)\n",
    "    return(len(set(url)))"
   ]
  },
  {
   "cell_type": "code",
   "execution_count": 113,
   "metadata": {
    "collapsed": true
   },
   "outputs": [],
   "source": [
    "# count the number of url\n",
    "url_count = qpost_df.Body.map(lambda i: url_count(i))"
   ]
  },
  {
   "cell_type": "code",
   "execution_count": 114,
   "metadata": {
    "collapsed": false
   },
   "outputs": [
    {
     "data": {
      "text/plain": [
       "0    0\n",
       "1    0\n",
       "2    0\n",
       "3    0\n",
       "5    4\n",
       "Name: Body, dtype: int64"
      ]
     },
     "execution_count": 114,
     "metadata": {},
     "output_type": "execute_result"
    }
   ],
   "source": [
    "url_count.head()"
   ]
  },
  {
   "cell_type": "code",
   "execution_count": 115,
   "metadata": {
    "collapsed": false
   },
   "outputs": [
    {
     "data": {
      "text/plain": [
       "75067"
      ]
     },
     "execution_count": 115,
     "metadata": {},
     "output_type": "execute_result"
    }
   ],
   "source": [
    "len(url_count)"
   ]
  },
  {
   "cell_type": "code",
   "execution_count": 116,
   "metadata": {
    "collapsed": false
   },
   "outputs": [
    {
     "data": {
      "text/plain": [
       "0      91\n",
       "1     146\n",
       "2     206\n",
       "3     497\n",
       "5    1628\n",
       "Name: Body, dtype: int64"
      ]
     },
     "execution_count": 116,
     "metadata": {},
     "output_type": "execute_result"
    }
   ],
   "source": [
    "# calculate the body length\n",
    "body_len = qpost_df.Body.str.len()\n",
    "body_len.head()"
   ]
  },
  {
   "cell_type": "code",
   "execution_count": 117,
   "metadata": {
    "collapsed": false
   },
   "outputs": [
    {
     "data": {
      "text/plain": [
       "75067"
      ]
     },
     "execution_count": 117,
     "metadata": {},
     "output_type": "execute_result"
    }
   ],
   "source": [
    "len(body_len)"
   ]
  },
  {
   "cell_type": "code",
   "execution_count": 118,
   "metadata": {
    "collapsed": false
   },
   "outputs": [
    {
     "data": {
      "text/plain": [
       "0    29\n",
       "1    18\n",
       "2    65\n",
       "3    58\n",
       "5    50\n",
       "Name: Title, dtype: int64"
      ]
     },
     "execution_count": 118,
     "metadata": {},
     "output_type": "execute_result"
    }
   ],
   "source": [
    "# calculate the title length\n",
    "title_len = qpost_df.Title.str.len()\n",
    "title_len.head()\n"
   ]
  },
  {
   "cell_type": "code",
   "execution_count": 119,
   "metadata": {
    "collapsed": false
   },
   "outputs": [
    {
     "data": {
      "text/plain": [
       "0    3\n",
       "1    2\n",
       "2    2\n",
       "3    2\n",
       "5    1\n",
       "Name: Tags, dtype: int64"
      ]
     },
     "execution_count": 119,
     "metadata": {},
     "output_type": "execute_result"
    }
   ],
   "source": [
    "# count the number of tags\n",
    "tag_count = qpost_df.Tags.map(lambda i: i.count('<'))\n",
    "tag_count.head()"
   ]
  },
  {
   "cell_type": "code",
   "execution_count": 120,
   "metadata": {
    "collapsed": false
   },
   "outputs": [],
   "source": [
    "# check the similarity between title and body\n",
    "simil = []\n",
    "for i in range(0,len(Body_clean)):\n",
    "    aa = []\n",
    "    aa.append(Body_clean.tolist()[i])\n",
    "    aa.append(title_clean.tolist()[i])\n",
    "    tfidf = TfidfVectorizer().fit_transform(aa)\n",
    "    pairwise_similarity = tfidf * tfidf.T\n",
    "    simil.append(pairwise_similarity[0,1])"
   ]
  },
  {
   "cell_type": "code",
   "execution_count": 121,
   "metadata": {
    "collapsed": false
   },
   "outputs": [
    {
     "data": {
      "text/plain": [
       "75067"
      ]
     },
     "execution_count": 121,
     "metadata": {},
     "output_type": "execute_result"
    }
   ],
   "source": [
    "len(simil)"
   ]
  },
  {
   "cell_type": "code",
   "execution_count": 124,
   "metadata": {
    "collapsed": false
   },
   "outputs": [],
   "source": [
    "# sentimental analysis for title\n",
    "sen_score_title = title_senti.map(lambda i: nltk.sentiment.vader.SentimentIntensityAnalyzer().polarity_scores(i)['compound'])"
   ]
  },
  {
   "cell_type": "code",
   "execution_count": 125,
   "metadata": {
    "collapsed": true
   },
   "outputs": [],
   "source": [
    "# sentimental analysis for body\n",
    "sen_score_body = body_senti.map(lambda i: nltk.sentiment.vader.SentimentIntensityAnalyzer().polarity_scores(i)['compound'])"
   ]
  },
  {
   "cell_type": "code",
   "execution_count": 126,
   "metadata": {
    "collapsed": false,
    "scrolled": true
   },
   "outputs": [
    {
     "name": "stderr",
     "output_type": "stream",
     "text": [
      "/Users/boyaliu/anaconda/lib/python3.5/site-packages/ipykernel/__main__.py:2: SettingWithCopyWarning: \n",
      "A value is trying to be set on a copy of a slice from a DataFrame.\n",
      "Try using .loc[row_indexer,col_indexer] = value instead\n",
      "\n",
      "See the caveats in the documentation: http://pandas.pydata.org/pandas-docs/stable/indexing.html#indexing-view-versus-copy\n",
      "  from ipykernel import kernelapp as app\n",
      "/Users/boyaliu/anaconda/lib/python3.5/site-packages/ipykernel/__main__.py:3: SettingWithCopyWarning: \n",
      "A value is trying to be set on a copy of a slice from a DataFrame.\n",
      "Try using .loc[row_indexer,col_indexer] = value instead\n",
      "\n",
      "See the caveats in the documentation: http://pandas.pydata.org/pandas-docs/stable/indexing.html#indexing-view-versus-copy\n",
      "  app.launch_new_instance()\n",
      "/Users/boyaliu/anaconda/lib/python3.5/site-packages/ipykernel/__main__.py:4: SettingWithCopyWarning: \n",
      "A value is trying to be set on a copy of a slice from a DataFrame.\n",
      "Try using .loc[row_indexer,col_indexer] = value instead\n",
      "\n",
      "See the caveats in the documentation: http://pandas.pydata.org/pandas-docs/stable/indexing.html#indexing-view-versus-copy\n",
      "/Users/boyaliu/anaconda/lib/python3.5/site-packages/ipykernel/__main__.py:5: SettingWithCopyWarning: \n",
      "A value is trying to be set on a copy of a slice from a DataFrame.\n",
      "Try using .loc[row_indexer,col_indexer] = value instead\n",
      "\n",
      "See the caveats in the documentation: http://pandas.pydata.org/pandas-docs/stable/indexing.html#indexing-view-versus-copy\n",
      "/Users/boyaliu/anaconda/lib/python3.5/site-packages/ipykernel/__main__.py:6: SettingWithCopyWarning: \n",
      "A value is trying to be set on a copy of a slice from a DataFrame.\n",
      "Try using .loc[row_indexer,col_indexer] = value instead\n",
      "\n",
      "See the caveats in the documentation: http://pandas.pydata.org/pandas-docs/stable/indexing.html#indexing-view-versus-copy\n",
      "/Users/boyaliu/anaconda/lib/python3.5/site-packages/ipykernel/__main__.py:7: SettingWithCopyWarning: \n",
      "A value is trying to be set on a copy of a slice from a DataFrame.\n",
      "Try using .loc[row_indexer,col_indexer] = value instead\n",
      "\n",
      "See the caveats in the documentation: http://pandas.pydata.org/pandas-docs/stable/indexing.html#indexing-view-versus-copy\n",
      "/Users/boyaliu/anaconda/lib/python3.5/site-packages/ipykernel/__main__.py:8: SettingWithCopyWarning: \n",
      "A value is trying to be set on a copy of a slice from a DataFrame.\n",
      "Try using .loc[row_indexer,col_indexer] = value instead\n",
      "\n",
      "See the caveats in the documentation: http://pandas.pydata.org/pandas-docs/stable/indexing.html#indexing-view-versus-copy\n",
      "/Users/boyaliu/anaconda/lib/python3.5/site-packages/ipykernel/__main__.py:9: SettingWithCopyWarning: \n",
      "A value is trying to be set on a copy of a slice from a DataFrame.\n",
      "Try using .loc[row_indexer,col_indexer] = value instead\n",
      "\n",
      "See the caveats in the documentation: http://pandas.pydata.org/pandas-docs/stable/indexing.html#indexing-view-versus-copy\n",
      "/Users/boyaliu/anaconda/lib/python3.5/site-packages/ipykernel/__main__.py:10: SettingWithCopyWarning: \n",
      "A value is trying to be set on a copy of a slice from a DataFrame.\n",
      "Try using .loc[row_indexer,col_indexer] = value instead\n",
      "\n",
      "See the caveats in the documentation: http://pandas.pydata.org/pandas-docs/stable/indexing.html#indexing-view-versus-copy\n",
      "/Users/boyaliu/anaconda/lib/python3.5/site-packages/ipykernel/__main__.py:11: SettingWithCopyWarning: \n",
      "A value is trying to be set on a copy of a slice from a DataFrame.\n",
      "Try using .loc[row_indexer,col_indexer] = value instead\n",
      "\n",
      "See the caveats in the documentation: http://pandas.pydata.org/pandas-docs/stable/indexing.html#indexing-view-versus-copy\n",
      "/Users/boyaliu/anaconda/lib/python3.5/site-packages/ipykernel/__main__.py:12: SettingWithCopyWarning: \n",
      "A value is trying to be set on a copy of a slice from a DataFrame.\n",
      "Try using .loc[row_indexer,col_indexer] = value instead\n",
      "\n",
      "See the caveats in the documentation: http://pandas.pydata.org/pandas-docs/stable/indexing.html#indexing-view-versus-copy\n",
      "/Users/boyaliu/anaconda/lib/python3.5/site-packages/ipykernel/__main__.py:13: SettingWithCopyWarning: \n",
      "A value is trying to be set on a copy of a slice from a DataFrame.\n",
      "Try using .loc[row_indexer,col_indexer] = value instead\n",
      "\n",
      "See the caveats in the documentation: http://pandas.pydata.org/pandas-docs/stable/indexing.html#indexing-view-versus-copy\n",
      "/Users/boyaliu/anaconda/lib/python3.5/site-packages/ipykernel/__main__.py:14: SettingWithCopyWarning: \n",
      "A value is trying to be set on a copy of a slice from a DataFrame.\n",
      "Try using .loc[row_indexer,col_indexer] = value instead\n",
      "\n",
      "See the caveats in the documentation: http://pandas.pydata.org/pandas-docs/stable/indexing.html#indexing-view-versus-copy\n",
      "/Users/boyaliu/anaconda/lib/python3.5/site-packages/ipykernel/__main__.py:15: SettingWithCopyWarning: \n",
      "A value is trying to be set on a copy of a slice from a DataFrame.\n",
      "Try using .loc[row_indexer,col_indexer] = value instead\n",
      "\n",
      "See the caveats in the documentation: http://pandas.pydata.org/pandas-docs/stable/indexing.html#indexing-view-versus-copy\n",
      "/Users/boyaliu/anaconda/lib/python3.5/site-packages/ipykernel/__main__.py:16: SettingWithCopyWarning: \n",
      "A value is trying to be set on a copy of a slice from a DataFrame.\n",
      "Try using .loc[row_indexer,col_indexer] = value instead\n",
      "\n",
      "See the caveats in the documentation: http://pandas.pydata.org/pandas-docs/stable/indexing.html#indexing-view-versus-copy\n"
     ]
    }
   ],
   "source": [
    "# integrate all StackOverflow Metrics features\n",
    "qpost_df['BodyLen'] = body_len\n",
    "qpost_df['LowerCasePer'] = lower_per\n",
    "qpost_df['UpperCasePer'] = upper_per\n",
    "qpost_df['SpaceCnt'] = space_count\n",
    "qpost_df['TagCnt'] = tag_count\n",
    "qpost_df['BodySenScore'] = sen_score_body\n",
    "qpost_df['TitleSenScore'] = sen_score_title\n",
    "qpost_df['TitleLen'] = title_len\n",
    "qpost_df['UrlCnt'] = url_count\n",
    "qpost_df['CleanBody'] = Body_clean\n",
    "qpost_df['CleanTitle'] = title_clean\n",
    "qpost_df['SentiBody'] = body_senti\n",
    "qpost_df['SentiTitle'] = title_senti\n",
    "qpost_df['Ntprocess_stop_pun_Body'] = body_wo_sto_pun\n",
    "qpost_df['Ntprocess_stop_pun_Title'] = title_wo_sto_pun"
   ]
  },
  {
   "cell_type": "code",
   "execution_count": 127,
   "metadata": {
    "collapsed": false
   },
   "outputs": [
    {
     "data": {
      "text/plain": [
       "(75067, 31)"
      ]
     },
     "execution_count": 127,
     "metadata": {},
     "output_type": "execute_result"
    }
   ],
   "source": [
    "qpost_df.shape"
   ]
  },
  {
   "cell_type": "code",
   "execution_count": 128,
   "metadata": {
    "collapsed": true
   },
   "outputs": [],
   "source": [
    "target_cols = ['Id','ClosedDate','Score','BodyLen','LowerCasePer','UpperCasePer','SpaceCnt','TagCnt', 'BodySenScore',\n",
    "             'TitleSenScore',  'TitleLen','UrlCnt']"
   ]
  },
  {
   "cell_type": "code",
   "execution_count": 129,
   "metadata": {
    "collapsed": false
   },
   "outputs": [],
   "source": [
    "stackoverflow_metric_df = qpost_df[target_cols]\n"
   ]
  },
  {
   "cell_type": "code",
   "execution_count": 137,
   "metadata": {
    "collapsed": false
   },
   "outputs": [
    {
     "data": {
      "text/html": [
       "<div>\n",
       "<table border=\"1\" class=\"dataframe\">\n",
       "  <thead>\n",
       "    <tr style=\"text-align: right;\">\n",
       "      <th></th>\n",
       "      <th>Id</th>\n",
       "      <th>ClosedDate</th>\n",
       "      <th>Score</th>\n",
       "      <th>BodyLen</th>\n",
       "      <th>LowerCasePer</th>\n",
       "      <th>UpperCasePer</th>\n",
       "      <th>SpaceCnt</th>\n",
       "      <th>TagCnt</th>\n",
       "      <th>BodySenScore</th>\n",
       "      <th>TitleSenScore</th>\n",
       "      <th>TitleLen</th>\n",
       "      <th>UrlCnt</th>\n",
       "    </tr>\n",
       "  </thead>\n",
       "  <tbody>\n",
       "    <tr>\n",
       "      <th>0</th>\n",
       "      <td>1</td>\n",
       "      <td>None</td>\n",
       "      <td>31</td>\n",
       "      <td>91</td>\n",
       "      <td>0.972603</td>\n",
       "      <td>0.027397</td>\n",
       "      <td>15</td>\n",
       "      <td>3</td>\n",
       "      <td>0.0000</td>\n",
       "      <td>0.0000</td>\n",
       "      <td>29</td>\n",
       "      <td>0</td>\n",
       "    </tr>\n",
       "    <tr>\n",
       "      <th>1</th>\n",
       "      <td>2</td>\n",
       "      <td>None</td>\n",
       "      <td>26</td>\n",
       "      <td>146</td>\n",
       "      <td>1.000000</td>\n",
       "      <td>0.000000</td>\n",
       "      <td>25</td>\n",
       "      <td>2</td>\n",
       "      <td>0.0000</td>\n",
       "      <td>0.0000</td>\n",
       "      <td>18</td>\n",
       "      <td>0</td>\n",
       "    </tr>\n",
       "    <tr>\n",
       "      <th>2</th>\n",
       "      <td>3</td>\n",
       "      <td>None</td>\n",
       "      <td>63</td>\n",
       "      <td>206</td>\n",
       "      <td>0.965116</td>\n",
       "      <td>0.034884</td>\n",
       "      <td>36</td>\n",
       "      <td>2</td>\n",
       "      <td>0.8126</td>\n",
       "      <td>0.4767</td>\n",
       "      <td>65</td>\n",
       "      <td>0</td>\n",
       "    </tr>\n",
       "    <tr>\n",
       "      <th>3</th>\n",
       "      <td>4</td>\n",
       "      <td>None</td>\n",
       "      <td>15</td>\n",
       "      <td>497</td>\n",
       "      <td>0.980769</td>\n",
       "      <td>0.019231</td>\n",
       "      <td>90</td>\n",
       "      <td>2</td>\n",
       "      <td>0.5574</td>\n",
       "      <td>0.2732</td>\n",
       "      <td>58</td>\n",
       "      <td>0</td>\n",
       "    </tr>\n",
       "    <tr>\n",
       "      <th>5</th>\n",
       "      <td>6</td>\n",
       "      <td>None</td>\n",
       "      <td>226</td>\n",
       "      <td>1628</td>\n",
       "      <td>0.961250</td>\n",
       "      <td>0.038750</td>\n",
       "      <td>204</td>\n",
       "      <td>1</td>\n",
       "      <td>0.8917</td>\n",
       "      <td>0.0000</td>\n",
       "      <td>50</td>\n",
       "      <td>4</td>\n",
       "    </tr>\n",
       "    <tr>\n",
       "      <th>6</th>\n",
       "      <td>7</td>\n",
       "      <td>None</td>\n",
       "      <td>87</td>\n",
       "      <td>721</td>\n",
       "      <td>0.994071</td>\n",
       "      <td>0.005929</td>\n",
       "      <td>109</td>\n",
       "      <td>4</td>\n",
       "      <td>0.8442</td>\n",
       "      <td>0.4404</td>\n",
       "      <td>38</td>\n",
       "      <td>0</td>\n",
       "    </tr>\n",
       "    <tr>\n",
       "      <th>7</th>\n",
       "      <td>8</td>\n",
       "      <td>2010-07-19T20:19:46.577</td>\n",
       "      <td>0</td>\n",
       "      <td>121</td>\n",
       "      <td>0.978495</td>\n",
       "      <td>0.021505</td>\n",
       "      <td>32</td>\n",
       "      <td>1</td>\n",
       "      <td>-0.3802</td>\n",
       "      <td>-0.1027</td>\n",
       "      <td>62</td>\n",
       "      <td>0</td>\n",
       "    </tr>\n",
       "    <tr>\n",
       "      <th>9</th>\n",
       "      <td>10</td>\n",
       "      <td>None</td>\n",
       "      <td>32</td>\n",
       "      <td>171</td>\n",
       "      <td>0.971831</td>\n",
       "      <td>0.028169</td>\n",
       "      <td>42</td>\n",
       "      <td>5</td>\n",
       "      <td>0.0000</td>\n",
       "      <td>0.0000</td>\n",
       "      <td>79</td>\n",
       "      <td>0</td>\n",
       "    </tr>\n",
       "    <tr>\n",
       "      <th>10</th>\n",
       "      <td>11</td>\n",
       "      <td>None</td>\n",
       "      <td>3</td>\n",
       "      <td>738</td>\n",
       "      <td>0.986957</td>\n",
       "      <td>0.013043</td>\n",
       "      <td>86</td>\n",
       "      <td>2</td>\n",
       "      <td>0.7550</td>\n",
       "      <td>0.0000</td>\n",
       "      <td>37</td>\n",
       "      <td>1</td>\n",
       "    </tr>\n",
       "    <tr>\n",
       "      <th>16</th>\n",
       "      <td>17</td>\n",
       "      <td>None</td>\n",
       "      <td>10</td>\n",
       "      <td>573</td>\n",
       "      <td>0.942197</td>\n",
       "      <td>0.057803</td>\n",
       "      <td>103</td>\n",
       "      <td>3</td>\n",
       "      <td>0.3182</td>\n",
       "      <td>0.0000</td>\n",
       "      <td>38</td>\n",
       "      <td>0</td>\n",
       "    </tr>\n",
       "  </tbody>\n",
       "</table>\n",
       "</div>"
      ],
      "text/plain": [
       "    Id               ClosedDate  Score  BodyLen  LowerCasePer  UpperCasePer  \\\n",
       "0    1                     None     31       91      0.972603      0.027397   \n",
       "1    2                     None     26      146      1.000000      0.000000   \n",
       "2    3                     None     63      206      0.965116      0.034884   \n",
       "3    4                     None     15      497      0.980769      0.019231   \n",
       "5    6                     None    226     1628      0.961250      0.038750   \n",
       "6    7                     None     87      721      0.994071      0.005929   \n",
       "7    8  2010-07-19T20:19:46.577      0      121      0.978495      0.021505   \n",
       "9   10                     None     32      171      0.971831      0.028169   \n",
       "10  11                     None      3      738      0.986957      0.013043   \n",
       "16  17                     None     10      573      0.942197      0.057803   \n",
       "\n",
       "    SpaceCnt  TagCnt  BodySenScore  TitleSenScore  TitleLen  UrlCnt  \n",
       "0         15       3        0.0000         0.0000        29       0  \n",
       "1         25       2        0.0000         0.0000        18       0  \n",
       "2         36       2        0.8126         0.4767        65       0  \n",
       "3         90       2        0.5574         0.2732        58       0  \n",
       "5        204       1        0.8917         0.0000        50       4  \n",
       "6        109       4        0.8442         0.4404        38       0  \n",
       "7         32       1       -0.3802        -0.1027        62       0  \n",
       "9         42       5        0.0000         0.0000        79       0  \n",
       "10        86       2        0.7550         0.0000        37       1  \n",
       "16       103       3        0.3182         0.0000        38       0  "
      ]
     },
     "execution_count": 137,
     "metadata": {},
     "output_type": "execute_result"
    }
   ],
   "source": [
    "stackoverflow_metric_df.head(10)\n"
   ]
  },
  {
   "cell_type": "code",
   "execution_count": 134,
   "metadata": {
    "collapsed": true
   },
   "outputs": [],
   "source": [
    "stackoverflow_metric_df.to_pickle('/Users/boyaliu/Documents/UCD/STA 208/final project/stackoverflow_metric_df.pkl')\n"
   ]
  },
  {
   "cell_type": "code",
   "execution_count": 135,
   "metadata": {
    "collapsed": true
   },
   "outputs": [],
   "source": [
    "qpost_df.to_pickle('/Users/boyaliu/Documents/UCD/STA 208/final project/qpost_df_new.pkl')\n"
   ]
  }
 ],
 "metadata": {
  "kernelspec": {
   "display_name": "Python 3",
   "language": "python",
   "name": "python3"
  },
  "language_info": {
   "codemirror_mode": {
    "name": "ipython",
    "version": 3
   },
   "file_extension": ".py",
   "mimetype": "text/x-python",
   "name": "python",
   "nbconvert_exporter": "python",
   "pygments_lexer": "ipython3",
   "version": "3.5.1"
  }
 },
 "nbformat": 4,
 "nbformat_minor": 0
}
