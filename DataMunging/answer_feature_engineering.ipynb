{
 "cells": [
  {
   "cell_type": "code",
   "execution_count": 1,
   "metadata": {
    "collapsed": false
   },
   "outputs": [
    {
     "name": "stderr",
     "output_type": "stream",
     "text": [
      "/Users/boyaliu/anaconda/lib/python3.5/site-packages/nltk/twitter/__init__.py:20: UserWarning: The twython library has not been installed. Some functionality from the twitter package will not be available.\n",
      "  warnings.warn(\"The twython library has not been installed. \"\n"
     ]
    }
   ],
   "source": [
    "import sqlite3\n",
    "import pandas as pd\n",
    "import random\n",
    "import re\n",
    "random.seed(1)\n",
    "from sklearn.feature_extraction.text import TfidfVectorizer\n",
    "import numpy as np\n",
    "import string\n",
    "import nltk\n",
    "from nltk.tokenize import word_tokenize\n",
    "from nltk.corpus import stopwords\n",
    "from nltk.sentiment.vader import SentimentIntensityAnalyzer\n",
    "from bs4 import BeautifulSoup\n",
    "from nltk.stem import WordNetLemmatizer\n",
    "from textblob import TextBlob\n",
    "from textblob import Word"
   ]
  },
  {
   "cell_type": "code",
   "execution_count": 2,
   "metadata": {
    "collapsed": false
   },
   "outputs": [],
   "source": [
    "db_path = '/Users/boyaliu/Documents/UCD/STA 208/final project/data/so-dump.db'\n",
    "conn = sqlite3.connect(db_path)"
   ]
  },
  {
   "cell_type": "code",
   "execution_count": 3,
   "metadata": {
    "collapsed": true
   },
   "outputs": [],
   "source": [
    "query = \"SELECT * FROM posts\""
   ]
  },
  {
   "cell_type": "code",
   "execution_count": 4,
   "metadata": {
    "collapsed": true
   },
   "outputs": [],
   "source": [
    "post_df = pd.read_sql_query(query, conn)"
   ]
  },
  {
   "cell_type": "code",
   "execution_count": 7,
   "metadata": {
    "collapsed": true
   },
   "outputs": [],
   "source": [
    "anpost_df = post_df[post_df.PostTypeId==2]"
   ]
  },
  {
   "cell_type": "code",
   "execution_count": 8,
   "metadata": {
    "collapsed": false
   },
   "outputs": [
    {
     "data": {
      "text/plain": [
       "(74331, 21)"
      ]
     },
     "execution_count": 8,
     "metadata": {},
     "output_type": "execute_result"
    }
   ],
   "source": [
    "anpost_df.shape"
   ]
  },
  {
   "cell_type": "code",
   "execution_count": 25,
   "metadata": {
    "collapsed": true
   },
   "outputs": [],
   "source": [
    "# clean data\n",
    "verb_exp = ['VB', 'VBZ', 'VBP', 'VBD','VBN','VBG']\n",
    "stop_words = pd.read_pickle('/Users/boyaliu/Documents/UCD/STA 208/final project/stop_words.pickle.txt')\n",
    "\n",
    "def clean_text(row):\n",
    "    soup = BeautifulSoup(row, 'html.parser')\n",
    "    #remove code\n",
    "    for tag in soup.find_all('code'):\n",
    "        tag.replaceWith(' ')\n",
    "        \n",
    "    raw = soup.get_text()\n",
    "    #remove link\n",
    "    raw_no_link = re.sub('http[s]?://(?:[a-zA-Z]|[0-9]|[$-_@.&+]|[!*\\(\\),]|(?:%[0-9a-fA-F][0-9a-fA-F]))+', '', raw)\n",
    "    #remove email\n",
    "    no_link_email = re.sub(r'[\\w\\.-]+@[\\w\\.-]+[\\.][com|org|ch|uk]{2,3}', \"\", raw_no_link)\n",
    "    #remove whitespace\n",
    "    tab_text = '\\t\\n\\r\\x0b\\x0c'\n",
    "    no_link_email_space = \"\".join([ch for ch in no_link_email if ch not in set(tab_text)])\n",
    "    #remove fomula\n",
    "    reg = '(\\$.+?\\$)|((\\\\\\\\begin\\{.+?\\})(.+?)(\\\\\\\\end\\{(.+?)\\}))'\n",
    "    raw = re.sub(reg, \"\", no_link_email_space, flags=re.IGNORECASE)   \n",
    "\n",
    "    row = raw.lower()\n",
    "    #remove numbers\n",
    "    raw = re.sub('[0-9]+?', ' ', row) \n",
    "    # remove punctuation\n",
    "    regex = re.compile('[%s]' % re.escape(string.punctuation))\n",
    "    raw = regex.sub(' ', raw)\n",
    "    #clean out the characters left out after the above step, like we’re, I’m, It’s, i.e.\n",
    "    raw = re.sub('( s )|( re )|( m )|( i e )',' ',raw) \n",
    "    # lementize\n",
    "    row_t = TextBlob(raw)\n",
    "    raw = []\n",
    "    for word, pos in row_t.tags:\n",
    "        if pos in verb_exp:\n",
    "            word = Word(word)\n",
    "            word = word.lemmatize(\"v\")\n",
    "        else:\n",
    "            word = Word(word)\n",
    "            word = word.lemmatize()\n",
    "        raw.append(word)\n",
    "    clean = ' '.join(raw)       \n",
    "    # remove stop words\n",
    "    cleaned_text = \" \".join([word for word in word_tokenize(clean) if word not in stop_words])      \n",
    "    return(cleaned_text)"
   ]
  },
  {
   "cell_type": "code",
   "execution_count": 26,
   "metadata": {
    "collapsed": false
   },
   "outputs": [],
   "source": [
    "ans_clean = anpost_df['Body'].map(lambda i: clean_text(i))"
   ]
  },
  {
   "cell_type": "code",
   "execution_count": 24,
   "metadata": {
    "collapsed": false
   },
   "outputs": [
    {
     "data": {
      "text/plain": [
       "['projectr valuable significant widely accept open source alternative big box package mature support standard scientific community reason valuable nice tutorial',\n",
       " 'incanter clojure base platform environment library statistical compute graphic',\n",
       " 'response datasets run statistical analysis reference datasets',\n",
       " 'machine learn basis pragmatic practical observation simulation reality statistic mindless check model assumption lead discard method year ago commercially work bankruptcy model implement credit bureau create plain linear regression model target outcome technically bad approach practically work',\n",
       " 'jay valuable short list reason check ggplot nice graphic package nice tutorial']"
      ]
     },
     "execution_count": 24,
     "metadata": {},
     "output_type": "execute_result"
    }
   ],
   "source": [
    "ans_clean[0:5].tolist()"
   ]
  },
  {
   "cell_type": "markdown",
   "metadata": {},
   "source": [
    "# Stack Overflow Metrics"
   ]
  },
  {
   "cell_type": "code",
   "execution_count": null,
   "metadata": {
    "collapsed": true
   },
   "outputs": [],
   "source": [
    "# count the space\n",
    "space_count = ans_clean.map(lambda i: i.count(' '))"
   ]
  },
  {
   "cell_type": "code",
   "execution_count": null,
   "metadata": {
    "collapsed": true
   },
   "outputs": [],
   "source": [
    "def case_count(row):\n",
    "    # count lower_case percentage & upper_case percentage\n",
    "    up = []\n",
    "    row_nw = row.replace(\" \", \"\")\n",
    "    for c in row:\n",
    "        if c.isupper():\n",
    "            up.append(1)\n",
    "            \n",
    "    upper_per = sum(up)/len(row_nw)    \n",
    "    lower_per = 1 - upper_per\n",
    "    return((lower_per, upper_per))"
   ]
  },
  {
   "cell_type": "code",
   "execution_count": null,
   "metadata": {
    "collapsed": true
   },
   "outputs": [],
   "source": [
    "# count the case \n",
    "c_c = anpost_df.Body.map(lambda i: case_count(i))\n",
    "upper_per = c_c.map(lambda i: i[1])\n",
    "lower_per = c_c.map(lambda i: i[0])"
   ]
  },
  {
   "cell_type": "code",
   "execution_count": null,
   "metadata": {
    "collapsed": true
   },
   "outputs": [],
   "source": [
    "# count the url\n",
    "def url_count(row):\n",
    "    url = []\n",
    "    soup = BeautifulSoup(row, \"html.parser\")\n",
    "    raw = BeautifulSoup(row,\"html.parser\").get_text()\n",
    "    for a in soup.find_all('a', href=True):\n",
    "        url.append(a['href'])\n",
    "    url_re = re.findall(r'http[s]?://(?:[a-zA-Z]|[0-9]|[$-_@.&+]|[!*\\(\\),]|(?:%[0-9a-fA-F][0-9a-fA-F]))+', raw)\n",
    "    for i in url_re:\n",
    "        url.append(i)\n",
    "    return(len(set(url)))"
   ]
  },
  {
   "cell_type": "code",
   "execution_count": null,
   "metadata": {
    "collapsed": true
   },
   "outputs": [],
   "source": [
    "# count the number of url\n",
    "url_count = anpost_df.Body.map(lambda i: url_count(i))"
   ]
  },
  {
   "cell_type": "code",
   "execution_count": null,
   "metadata": {
    "collapsed": true
   },
   "outputs": [],
   "source": [
    "# calculate the body length\n",
    "body_len = anpost_df.Body.str.len()"
   ]
  },
  {
   "cell_type": "code",
   "execution_count": null,
   "metadata": {
    "collapsed": true
   },
   "outputs": [],
   "source": [
    "# sentiment analysis\n",
    "def sentiment_ana(i):\n",
    "    i_tr = TextBlob(i)\n",
    "    return(i_tr.sentiment[0], i_tr.sentiment[1])"
   ]
  },
  {
   "cell_type": "code",
   "execution_count": null,
   "metadata": {
    "collapsed": true
   },
   "outputs": [],
   "source": [
    "sentiment_ans = ans_clean.map(lambda i: sentiment_ana(i))"
   ]
  },
  {
   "cell_type": "markdown",
   "metadata": {},
   "source": [
    "# Readablity Matrix"
   ]
  },
  {
   "cell_type": "markdown",
   "metadata": {},
   "source": [
    "## clean body"
   ]
  },
  {
   "cell_type": "code",
   "execution_count": null,
   "metadata": {
    "collapsed": true
   },
   "outputs": [],
   "source": [
    "def exact_from_html(row, puc=0):\n",
    "    soup = BeautifulSoup(row, \"html.parser\")\n",
    "\n",
    "    #remove code\n",
    "    #chunck_num = len(soup.find_all('code'))\n",
    "    #i=1\n",
    "    #while True:\n",
    "      #  if i <= chunck_num:\n",
    "            #soup.code.extract()\n",
    "            #i = i + 1\n",
    "        #else:\n",
    "            #break\n",
    "    for tag in soup.find_all('code'):\n",
    "        tag.replaceWith(' ')\n",
    "    ######\n",
    "    raw = soup.get_text()\n",
    "    #remove link\n",
    "    raw_no_link = re.sub(\"http[s]?://(?:[a-zA-Z]|[0-9]|[$-_@.&+]|[!*\\(\\),]|(?:%[0-9a-fA-F][0-9a-fA-F]))+\", '', raw)\n",
    "    #remove email\n",
    "    no_link_email = re.sub(r'[\\w\\.-]+@[\\w\\.-]+[\\.][com|org|ch|uk]{2,3}', \"\", raw_no_link)\n",
    "    #remove whitespace\n",
    "    tab_text = '\\t\\n\\r\\x0b\\x0c'\n",
    "    no_link_email_space = \"\".join([ch for ch in no_link_email if ch not in set(tab_text)])\n",
    "    #remove fomula\n",
    "    reg = '(\\$.+?\\$)|((\\\\\\\\begin\\{.+?\\})(.+?)(\\\\\\\\end\\{(.+?)\\}))'\n",
    "    raw = re.sub(reg, \"\", no_link_email_space, flags=re.IGNORECASE)\n",
    "    #remove numbers\n",
    "    raw = re.sub('[0-9]+?', ' ', raw)\n",
    "    #remove punctuation\n",
    "    #if puc == 1:\n",
    "     #   raw = \"\".join([ch for ch in raw if ch not in set(string.punctuation)])\n",
    "    # remove stop words\n",
    "    #raw = \" \".join([word for word in word_tokenize(raw.lower()) if word not in stopwords.words('english')])\n",
    "    return(raw)"
   ]
  },
  {
   "cell_type": "code",
   "execution_count": null,
   "metadata": {
    "collapsed": true
   },
   "outputs": [],
   "source": [
    "fun_clean = lambda i: exact_from_html(i)\n",
    "Body_clean_puc = anpost_df['Body'].map(fun_clean)"
   ]
  },
  {
   "cell_type": "code",
   "execution_count": null,
   "metadata": {
    "collapsed": true
   },
   "outputs": [],
   "source": [
    "Body_clean_puc.head()"
   ]
  },
  {
   "cell_type": "code",
   "execution_count": null,
   "metadata": {
    "collapsed": true
   },
   "outputs": [],
   "source": [
    "import pickle\n",
    "with open('Body_clean_puc.pickle', 'wb') as handle:\n",
    "    pickle.dump(Body_clean_puc, handle,protocol=2)"
   ]
  },
  {
   "cell_type": "markdown",
   "metadata": {},
   "source": [
    "## Exact code and formula"
   ]
  },
  {
   "cell_type": "code",
   "execution_count": null,
   "metadata": {
    "collapsed": true
   },
   "outputs": [],
   "source": [
    "fomula_num = []\n",
    "Code = []\n",
    "def exact_formula(row):\n",
    "    soup = BeautifulSoup(row, \"html.parser\")\n",
    "    #remove code\n",
    "    chunck_num = len(soup.find_all('code'))\n",
    "    i=1\n",
    "    while True:\n",
    "        if chunck_num == 0:\n",
    "            Code.append(0)\n",
    "            break\n",
    "        elif i <= chunck_num:\n",
    "            code_num = 0\n",
    "            code = soup.code.get_text()\n",
    "            code = code.split('\\n')\n",
    "            codes = [x for x in code if x != '']\n",
    "            code_num = code_num + len(codes)\n",
    "            soup.code.extract()\n",
    "            i = i + 1\n",
    "        else:\n",
    "            Code.append(code_num)\n",
    "            break\n",
    "\n",
    "    ######\n",
    "    raw = soup.get_text()\n",
    "    #remove link\n",
    "    raw_no_link = re.sub(\"http[s]?://(?:[a-zA-Z]|[0-9]|[$-_@.&+]|[!*\\(\\),]|(?:%[0-9a-fA-F][0-9a-fA-F]))+\", '', raw)\n",
    "    #remove email\n",
    "    no_link_email = re.sub(r'[\\w\\.-]+@[\\w\\.-]+[\\.][com|org|ch|uk]{2,3}', \"\", raw_no_link)\n",
    "    #remove whitespace\n",
    "    tab_text = '\\t\\n\\r\\x0b\\x0c'\n",
    "    no_link_email_space = \"\".join([ch for ch in no_link_email if ch not in set(tab_text)])\n",
    "    # remove fomula\n",
    "    reg = '(\\$.+?\\$)|((\\\\\\\\begin\\{.+?\\})(.+?)(\\\\\\\\end\\{(.+?)\\}))'\n",
    "    re_fomula = re.findall(reg, no_link_email_space, flags=re.IGNORECASE)\n",
    "    if re_fomula != []:\n",
    "        for item in re_fomula:\n",
    "            no_link_email_space = no_link_email_space.replace(str(item), '')\n",
    "        fomula_num.append(int(1))\n",
    "    else:\n",
    "        fomula_num.append(int(0))"
   ]
  },
  {
   "cell_type": "code",
   "execution_count": null,
   "metadata": {
    "collapsed": true
   },
   "outputs": [],
   "source": [
    "fun_clean = lambda i: exact_formula(i)\n",
    "get_result = anpost_df['Body'].map(fun_clean)"
   ]
  },
  {
   "cell_type": "code",
   "execution_count": null,
   "metadata": {
    "collapsed": true
   },
   "outputs": [],
   "source": [
    "Code_df = pd.Series(data=Code)\n",
    "Code_df.describe()"
   ]
  },
  {
   "cell_type": "code",
   "execution_count": null,
   "metadata": {
    "collapsed": true
   },
   "outputs": [],
   "source": [
    "fomula_num_df = pd.Series(data=fomula_num)\n",
    "fomula_num_df.value_counts()"
   ]
  },
  {
   "cell_type": "code",
   "execution_count": null,
   "metadata": {
    "collapsed": true
   },
   "outputs": [],
   "source": [
    "Body_clean_puc_df = pd.DataFrame(Body_clean_puc)\n",
    "Body_clean_puc_df['Code number'] = Code_df\n",
    "Body_clean_puc_df['formula'] = fomula_num_df\n",
    "Body_clean_puc_df.head()"
   ]
  },
  {
   "cell_type": "code",
   "execution_count": null,
   "metadata": {
    "collapsed": true
   },
   "outputs": [],
   "source": [
    "qpost_df['Code number'] = Code_df\n",
    "qpost_df['formula'] = fomula_num_df"
   ]
  },
  {
   "cell_type": "markdown",
   "metadata": {},
   "source": [
    "## Word Counts"
   ]
  },
  {
   "cell_type": "code",
   "execution_count": null,
   "metadata": {
    "collapsed": true
   },
   "outputs": [],
   "source": [
    "# words count\n",
    "def word_num(text):\n",
    "    text = \"\".join(x for x in text if x not in list(set(string.punctuation)))\n",
    "    text = word_tokenize(text)\n",
    "    return (len(text))"
   ]
  },
  {
   "cell_type": "code",
   "execution_count": null,
   "metadata": {
    "collapsed": true
   },
   "outputs": [],
   "source": [
    "Words_num = Body_clean_puc_df['Body'].apply(word_num)\n",
    "Words_num_df = pd.Series(data=Words_num)\n",
    "Words_num_df.value_counts().head()"
   ]
  },
  {
   "cell_type": "markdown",
   "metadata": {},
   "source": [
    "## Sentence Counts\n"
   ]
  },
  {
   "cell_type": "code",
   "execution_count": null,
   "metadata": {
    "collapsed": true
   },
   "outputs": [],
   "source": [
    "# sentence count\n",
    "def sent_num(text):\n",
    "    return (len(sent_tokenize(text)))"
   ]
  },
  {
   "cell_type": "code",
   "execution_count": null,
   "metadata": {
    "collapsed": true
   },
   "outputs": [],
   "source": [
    "Sents_num = Body_clean_puc_df['Body'].apply(sent_num)\n",
    "Sents_num_df = pd.Series(data=Sents_num)\n",
    "Sents_num_df.value_counts().head()"
   ]
  },
  {
   "cell_type": "markdown",
   "metadata": {},
   "source": [
    "## Syllables Count"
   ]
  },
  {
   "cell_type": "code",
   "execution_count": null,
   "metadata": {
    "collapsed": true
   },
   "outputs": [],
   "source": [
    "\n",
    "# syllables count The \"Written Method\" Rules:http://www.howmanysyllables.com/howtocountsyllables\n",
    "def syllable_num(text):\n",
    "    count = 0\n",
    "    vowels = 'aeiouy'\n",
    "    text = text.lower()\n",
    "    text = \"\".join(x for x in text if x not in list(set(string.punctuation)))\n",
    "\n",
    "    if text == None:\n",
    "        return 0\n",
    "    elif len(text) == 0:\n",
    "        return 0\n",
    "    else:\n",
    "        if text[0] in vowels: \n",
    "            count += 1\n",
    "        for index in range(1, len(text)):\n",
    "            if text[index] in vowels and text[index-1] not in vowels:\n",
    "                count += 1\n",
    "        if text.endswith('e'): \n",
    "            count -= 1\n",
    "        if text.endswith('le'):\n",
    "            count += 1\n",
    "        if text.endswith('les'):\n",
    "            count += 1\n",
    "        if count == 0:\n",
    "            count += 1\n",
    "    return count"
   ]
  },
  {
   "cell_type": "markdown",
   "metadata": {},
   "source": [
    "## polysyllables count"
   ]
  },
  {
   "cell_type": "code",
   "execution_count": null,
   "metadata": {
    "collapsed": true
   },
   "outputs": [],
   "source": [
    "# polysyllables count\n",
    "def polysyllab_num(text):\n",
    "    count = 0\n",
    "    for word in text.split():\n",
    "        wrds = syllable_num(word)\n",
    "        if wrds >= 3:\n",
    "            count += 1\n",
    "    return count"
   ]
  },
  {
   "cell_type": "markdown",
   "metadata": {},
   "source": [
    "## Characters Count"
   ]
  },
  {
   "cell_type": "code",
   "execution_count": null,
   "metadata": {
    "collapsed": true
   },
   "outputs": [],
   "source": [
    "# characters count\n",
    "def char_num(text, ignore_spaces=True):\n",
    "    if ignore_spaces:\n",
    "        text = text.replace(\" \", \"\")\n",
    "    text = \"\".join(x for x in text if x not in list(set(string.punctuation)))\n",
    "    return len(text)"
   ]
  },
  {
   "cell_type": "markdown",
   "metadata": {},
   "source": [
    "## Complex Words"
   ]
  },
  {
   "cell_type": "code",
   "execution_count": null,
   "metadata": {
    "collapsed": true
   },
   "outputs": [],
   "source": [
    "easy_words = \"\"\"a able aboard about above absent accept accident account ache aching acorn acre across act acts add address admire adventure afar\tafraid after afternoon afterward afterwards again against age aged ago agree ah ahead aid aim air airfield airplane airport airship airy\talarm alike alive all alley alligator allow almost alone along aloud already also always am America American among amount an and\tangel anger angry animal another answer ant any anybody anyhow anyone anything anyway anywhere apart apartment ape apiece appear apple April\tapron are aren't arise arithmetic arm armful army arose around arrange arrive arrived arrow art artist as ash ashes aside ask\tasleep at ate attack attend attention August aunt author auto automobile autumn avenue awake awaken away awful awfully awhile ax axe baa babe babies back background backward backwards bacon bad badge badly bag bake baker bakery baking ball balloon banana band bandage bang banjo bank banker bar barber bare barefoot barely bark barn barrel base baseball basement basket bat batch bath bathe bathing bathroom bathtub\tbattle battleship bay be beach bead beam bean bear beard beast beat beating beautiful beautify beauty became because become becoming bed bedbug bedroom bedspread bedtime bee beech beef beefsteak beehive been beer beet before beg began beggar begged begin beginning begun behave behind being\tbelieve bell belong below belt bench bend beneath bent berries berry beside besides best bet better between bib bible bicycle bid big bigger bill billboard bin bind bird birth birthday biscuit bit bite biting bitter black blackberry blackbird blackboard blackness blacksmith blame blank blanket\tblast blaze bleed bless blessing blew blind blindfold blinds block blood bloom blossom blot blow blue blueberry bluebird blush board boast boat bob bobwhite bodies body boil boiler bold bone bonnet boo book bookcase bookkeeper boom boot born borrow boss both bother bottle bottom\tbought bounce bow bowl bow-wow box boxcar boxer boxes boy boyhood bracelet brain brake bran branch brass brave bread break breakfast breast breath breathe breeze brick bride bridge bright brightness bring broad broadcast broke broken brook broom brother brought brown brush bubble bucket buckle\tbud buffalo bug buggy build building built bulb bull bullet bum bumblebee bump bun bunch bundle bunny burn burst bury bus bush bushel business busy but butcher butt butter buttercup butterfly buttermilk butterscotch button buttonhole buy buzz by bye cab cabbage cabin cabinet cackle cage cake calendar calf call caller calling came camel camp campfire can canal canary candle candlestick candy cane cannon cannot canoe can't canyon cap cape capital captain car card cardboard care careful careless carelessness carload carpenter carpet carriage carrot carry cart\tcarve case cash cashier castle cat catbird catch catcher caterpillar catfish catsup cattle caught cause cave ceiling cell cellar cent center cereal certain certainly chain chair chalk champion chance change chap charge charm chart chase chatter cheap cheat check checkers cheek cheer cheese cherry chest chew\tchick chicken chief child childhood children chill chilly chimney chin china chip chipmunk chocolate choice choose chop chorus chose chosen christen Christmas church churn cigarette circle circus citizen city clang clap class classmate classroom claw clay clean cleaner clear clerk clever click cliff climb clip cloak\tclock close closet cloth clothes clothing cloud cloudy clover clown club cluck clump coach coal coast coat cob cobbler cocoa coconut cocoon cod codfish coffee coffeepot coin cold collar college color colored colt column comb come comfort comic coming company compare conductor cone connect coo cook\tcooked cooking cookie cookies cool cooler coop copper copy cord cork corn corner correct cost cot cottage cotton couch cough could couldn't count counter country county course court cousin cover cow coward cowardly cowboy cozy crab crack cracker cradle cramps cranberry crank cranky crash crawl crazy\tcream creamy creek creep crept cried croak crook crooked crop cross crossing cross-eyed crow crowd crowded crown cruel crumb crumble crush crust cry cries cub cuff cup cuff cup cupboard cupful cure curl curly curtain curve cushion custard customer cut cute cutting dab dad daddy daily dairy daisy dam damage dame damp dance dancer dancing dandy danger dangerous dare dark darkness darling darn dart dash date daughter\tdawn day daybreak daytime dead deaf deal dear death December decide deck deed deep deer defeat defend defense delight den dentist depend deposit describe desert\tdeserve desire desk destroy devil dew diamond did didn't die died dies difference different dig dim dime dine ding-dong dinner dip direct direction dirt dirty\tdiscover dish dislike dismiss ditch dive diver divide do dock doctor does doesn't dog doll dollar dolly done donkey don't door doorbell doorknob doorstep dope\tdot double dough dove down downstairs downtown dozen drag drain drank draw drawer draw drawing dream dress dresser dressmaker drew dried drift drill drink drip\tdrive driven driver drop drove drown drowsy drub drum drunk dry duck due dug dull dumb dump during dust dusty duty dwarf dwell dwelt dying each eager eagle ear early earn earth east eastern easy eat eaten\tedge egg eh eight eighteen eighth eighty either elbow elder eldest electric\telectricity elephant eleven elf elm else elsewhere empty end ending enemy engine\tengineer English enjoy enough enter envelope equal erase eraser errand escape eve\teven evening ever every everybody everyday everyone everything everywhere evil exact except\texchange excited exciting excuse exit expect explain extra eye eyebrow fable face facing fact factory fail faint fair fairy faith fake fall false family fan fancy far faraway fare farmer farm farming far-off farther fashion fast fasten fat father\tfault favor favorite fear feast feather February fed feed feel feet fell fellow felt fence fever few fib fiddle field fife fifteen fifth fifty fig fight figure file fill\tfilm finally find fine finger finish fire firearm firecracker fireplace fireworks firing first fish fisherman fist fit fits five fix flag flake flame flap flash flashlight flat flea flesh\tflew flies flight flip flip-flop float flock flood floor flop flour flow flower flowery flutter fly foam fog foggy fold folks follow following fond food fool foolish foot football\tfootprint for forehead forest forget forgive forgot forgotten fork form fort forth fortune forty forward fought found fountain four fourteen fourth fox frame free freedom freeze freight French fresh\tfret Friday fried friend friendly friendship frighten frog from front frost frown froze fruit fry fudge fuel full fully fun funny fur furniture further fuzzy gain gallon gallop game gang garage garbage garden gas gasoline gate gather gave gay gear geese general gentle gentleman gentlemen\tgeography get getting giant gift gingerbread girl give given giving glad gladly glance glass glasses gleam glide glory glove glow\tglue go going goes goal goat gobble God god godmother gold golden goldfish golf gone good goods goodbye good-by goodbye\tgood-bye good-looking goodness goody goose gooseberry got govern government gown grab gracious grade grain grand grandchild grandchildren granddaughter grandfather grandma\tgrandmother grandpa grandson grandstand grape grapes grapefruit grass grasshopper grateful grave gravel graveyard gravy gray graze grease great green greet\tgrew grind groan grocery ground group grove grow guard guess guest guide gulf gum gun gunpowder guy ha habit had hadn't hail hair haircut hairpin half hall halt ham hammer hand handful handkerchief handle handwriting hang happen happily happiness happy harbor hard hardly hardship hardware hare hark\tharm harness harp harvest has hasn't haste hasten hasty hat hatch hatchet hate haul have haven't having hawk hay hayfield haystack he head headache heal health healthy heap hear hearing\theard heart heat heater heaven heavy he'd heel height held hell he'll hello helmet help helper helpful hem hen henhouse her hers herd here here's hero herself he's hey hickory\thid hidden hide high highway hill hillside hilltop hilly him himself hind hint hip hire his hiss history hit hitch hive ho hoe hog hold holder hole holiday hollow holy\thome homely homesick honest honey honeybee honeymoon honk honor hood hoof hook hoop hop hope hopeful hopeless horn horse horseback horseshoe hose hospital host hot hotel hound hour house housetop\thousewife housework how however howl hug huge hum humble hump hundred hung hunger hungry hunk hunt hunter hurrah hurried hurry hurt husband hush hut hymn I ice icy I'd idea ideal if ill\tI'll I'm important impossible improve in inch inches\tincome indeed Indian indoors ink inn insect inside\tinstant instead insult intend interested interesting into invite\tiron is island isn't it its it's itself\tI've ivory ivy jacket jacks jail jam January jar\tjaw jay jelly jellyfish jerk jig\tjob jockey join joke joking jolly\tjourney joy joyful joyous judge jug\tjuice juicy July jump June junior\tjunk just keen keep kept kettle key\tkick kid kill killed kind\tkindly kindness king kingdom kiss\tkitchen kite kitten kitty knee\tkneel knew knife knit knives\tknob knock knot know known lace lad ladder ladies lady laid lake lamb lame lamp land lane language lantern lap lard large lash lass last\tlate laugh laundry law lawn lawyer lay lazy lead leader leaf leak lean leap learn learned least leather leave leaving\tled left leg lemon lemonade lend length less lesson let let's letter letting lettuce level liberty library lice lick lid\tlie life lift light lightness lightning like likely liking lily limb lime limp line linen lion lip list listen lit\tlittle live lives lively liver living lizard load loaf loan loaves lock locomotive log lone lonely lonesome long look lookout\tloop loose lord lose loser loss lost lot loud love lovely lover low luck lucky lumber lump lunch lying machine machinery mad made magazine magic maid mail mailbox mailman major make making male mama mamma man manager mane manger many map\tmaple marble march March mare mark market marriage married marry mask mast master mat match matter mattress may May maybe mayor maypole me\tmeadow meal mean means meant measure meat medicine meet meeting melt member men mend meow merry mess message met metal mew mice middle\tmidnight might mighty mile milk milkman mill miler million mind mine miner mint minute mirror mischief miss Miss misspell mistake misty mitt mitten\tmix moment Monday money monkey month moo moon moonlight moose mop more morning morrow moss most mostly mother motor mount mountain mouse mouth\tmove movie movies moving mow Mr. Mrs. much mud muddy mug mule multiply murder music must my myself nail name nap napkin narrow nasty naughty navy near nearby\tnearly neat neck necktie need needle needn't Negro neighbor neighborhood\tneither nerve nest net never nevermore new news newspaper next\tnibble nice nickel night nightgown nine nineteen ninety no nobody\tnod noise noisy none noon nor north northern nose not\tnote nothing notice November now nowhere number nurse nut oak oar oatmeal oats obey ocean o'clock October odd of off\toffer office officer often oh oil old old-fashioned on once one\tonion only onward open or orange orchard order ore organ other\totherwise ouch ought our ours ourselves out outdoors outfit outlaw outline\toutside outward oven over overalls overcoat overeat overhead overhear overnight overturn\towe owing owl own owner ox pa pace pack package pad page paid pail pain painful paint painter painting pair pal palace pale pan pancake pane pansy pants papa paper parade pardon parent park part partly partner party\tpass passenger past paste pasture pat patch path patter pave pavement paw pay payment pea peas peace peaceful peach peaches peak peanut pear pearl peck peek peel peep peg pen pencil penny\tpeople pepper peppermint perfume perhaps person pet phone piano pick pickle picnic picture pie piece pig pigeon piggy pile pill pillow pin pine pineapple pink pint pipe pistol pit pitch pitcher pity\tplace plain plan plane plant plate platform platter play player playground playhouse playmate plaything pleasant please pleasure plenty plow plug plum pocket pocketbook poem point poison poke pole police policeman polish polite\tpond ponies pony pool poor pop popcorn popped porch pork possible post postage postman pot potato potatoes pound pour powder power powerful praise pray prayer prepare present pretty price prick prince princess\tprint prison prize promise proper protect proud prove prune public puddle puff pull pump pumpkin punch punish pup pupil puppy pure purple purse push puss pussy pussycat put putting puzzle quack quart\tquarter queen\tqueer question\tquick quickly\tquiet quilt\tquit quite rabbit race rack radio radish rag rail railroad railway rain rainy rainbow raise raisin rake ram ran ranch rang rap rapidly\trat rate rather rattle raw ray reach read reader reading ready real really reap rear reason rebuild receive recess record red\tredbird redbreast refuse reindeer rejoice remain remember remind remove rent repair repay repeat report rest return review reward rib ribbon rice\trich rid riddle ride rider riding right rim ring rip ripe rise rising river road roadside roar roast rob robber robe\trobin rock rocky rocket rode roll roller roof room rooster root rope rose rosebud rot rotten rough round route row rowboat\troyal rub rubbed rubber rubbish rug rule ruler rumble run rung runner running rush rust rusty rye sack sad saddle sadness safe safety said sail sailboat sailor saint salad sale salt same sand sandy sandwich sang sank sap sash sat satin satisfactory Saturday sausage savage save savings saw say scab scales scare scarf school schoolboy schoolhouse schoolmaster schoolroom scorch score scrap scrape scratch scream screen screw scrub sea seal seam search season seat second secret see seeing seed seek seem seen seesaw select self selfish\tsell send sense sent sentence separate September servant serve service set setting settle settlement seven seventeen seventh seventy several sew shade shadow shady shake shaker shaking shall shame shan't shape share sharp shave she she'd she'll she's shear shears shed sheep sheet shelf shell shepherd shine shining shiny ship shirt shock shoe shoemaker shone shook shoot shop shopping shore short shot should shoulder shouldn't shout shovel show shower\tshut shy sick sickness side sidewalk sideways sigh sight sign silence silent silk sill silly silver simple sin since sing singer single sink sip sir sis sissy sister sit sitting six sixteen sixth sixty size skate skater ski skin skip skirt sky slam slap slate slave sled sleep sleepy sleeve sleigh slept slice slid slide sling slip slipped slipper slippery slit slow slowly sly smack small smart smell\tsmile smoke smooth snail snake snap snapping sneeze snow snowy snowball snowflake snuff snug so soak soap sob socks sod soda sofa soft soil sold soldier sole some somebody somehow someone something sometime sometimes somewhere son song soon sore sorrow sorry sort soul sound soup sour south southern space spade spank sparrow speak speaker spear speech speed spell spelling spend spent spider spike spill spin spinach spirit spit\tsplash spoil spoke spook spoon sport spot spread spring springtime sprinkle square squash squeak squeeze squirrel stable stack stage stair stall stamp stand star stare start starve state station stay steak steal steam steamboat steamer steel steep steeple steer stem step stepping stick sticky stiff still stillness sting stir stitch stock stocking stole stone stood stool stoop stop stopped stopping store stork stories storm stormy story stove straight\tstrange stranger strap straw strawberry stream street stretch string strip stripes strong stuck study stuff stump stung subject such suck sudden suffer sugar suit sum summer sun Sunday sunflower sung sunk sunlight sunny sunrise sunset sunshine supper suppose sure surely surface surprise swallow swam swamp swan swat swear sweat sweater sweep sweet sweetness sweetheart swell swept swift swim swimming swing switch sword swore table tablecloth tablespoon tablet tack tag tail tailor take taken taking tale talk talker tall tame tan tank tap tape tar tardy task taste taught tax tea teach teacher team tear\ttease teaspoon teeth telephone tell temper ten tennis tent term terrible test than thank thanks thankful Thanksgiving that that's the theater thee their them then there these they they'd they'll they're\tthey've thick thief thimble thin thing think third thirsty thirteen thirty this thorn those though thought thousand thread three threw throat throne through throw thrown thumb thunder Thursday thy tick ticket\ttickle tie tiger tight till time tin tinkle tiny tip tiptoe tire tired title to toad toadstool toast tobacco today toe together toilet told tomato tomorrow ton tone tongue tonight too\ttook tool toot tooth toothbrush toothpick top tore torn toss touch tow toward towards towel tower town toy trace track trade train tramp trap tray treasure treat tree trick tricycle tried\ttrim trip trolley trouble truck true truly trunk trust truth try tub Tuesday tug tulip tumble tune tunnel turkey turn turtle twelve twenty twice twig twin two ugly umbrella uncle under understand underwear\tundress unfair unfinished unfold unfriendly unhappy\tunhurt uniform United States unkind unknown\tunless unpleasant until unwilling up upon\tupper upset upside upstairs uptown upward\tus use used useful valentine valley valuable\tvalue vase vegetable\tvelvet very vessel\tvictory view village\tvine violet visit\tvisitor voice vote wag wagon waist wait wake waken walk wall walnut want war warm warn was wash washer washtub wasn't waste watch watchman water watermelon waterproof wave wax\tway wayside we weak weakness weaken wealth weapon wear weary weather weave web we'd wedding Wednesday wee weed week we'll weep weigh welcome well went were\twe're west western wet we've whale what what's wheat wheel when whenever where which while whip whipped whirl whisky whiskey whisper whistle white who who'd whole\twho'll whom who's whose why wicked wide wife wiggle wild wildcat will willing willow win wind windy windmill window wine wing wink winner winter wipe wire\twise wish wit witch with without woke wolf woman women won wonder wonderful won't wood wooden woodpecker woods wool woolen word wore work worker workman world\tworm worn worry worse worst worth would wouldn't wound wove wrap wrapped wreck wren wring write writing written wrong wrote wrung yard yarn year yell\tyellow yes yesterday yet\tyolk yonder you you'd\tyou'll young youngster your\tyours you're yourself yourselves\tyouth you've\"\"\"\n",
    "easy_word_set = set(easy_words.split())\n",
    "def complex_words_num(text):\n",
    "\ttext_list = text.split()\n",
    "\tdiff_words_set = set()\n",
    "\tfor value in text_list:\n",
    "\t\tif value not in easy_word_set:\n",
    "\t\t\tif syllable_num(value) > 1:\n",
    "\t\t\t\tif value not in diff_words_set:\n",
    "\t\t\t\t\tdiff_words_set.add(value)\n",
    "\treturn len(diff_words_set)"
   ]
  },
  {
   "cell_type": "markdown",
   "metadata": {},
   "source": [
    "## Some functions"
   ]
  },
  {
   "cell_type": "code",
   "execution_count": null,
   "metadata": {
    "collapsed": true
   },
   "outputs": [],
   "source": [
    "def word_sent(text): #avg_sentence_length\n",
    "    lc = word_num(text)\n",
    "    sc = sent_num(text)\n",
    "    return float(lc)/float(sc)\n",
    "\n",
    "\n",
    "def syll_word(text): #avg_syllables_per_word\n",
    "    syllable = syllable_num(text)\n",
    "    words = word_num(text)\n",
    "    ASPW = float(syllable)/float(words)\n",
    "    return ASPW\n",
    "\n",
    "\n",
    "\n",
    "def char_word(text): #avg_letter_per_word\n",
    "    ALPW = float(float(char_num(text))/float(word_num(text)))\n",
    "    return ALPW\n",
    "\n",
    "\n",
    "\n",
    "def word_sent(text):\n",
    "    AWPS = float(float(word_num(text))/float(sent_num(text)))\n",
    "    return AWPS\n",
    "\n",
    "def sent_word(text): #avg_sentence_per_word\n",
    "    ASPW = float(float(sent_num(text))/float(word_num(text)))\n",
    "    return ASPW"
   ]
  },
  {
   "cell_type": "markdown",
   "metadata": {},
   "source": [
    "## Automated Reading Index"
   ]
  },
  {
   "cell_type": "code",
   "execution_count": null,
   "metadata": {
    "collapsed": true
   },
   "outputs": [],
   "source": [
    "def Automated_Readability_Index(text):\n",
    "    try:\n",
    "        a = char_word(text)\n",
    "        b = word_sent(text)\n",
    "        ARI = (4.71 * round(a, 2)) + (0.5*round(b, 2)) - 21.43\n",
    "        return round(ARI, 2)\n",
    "    except:\n",
    "        return 'NaN'"
   ]
  },
  {
   "cell_type": "code",
   "execution_count": null,
   "metadata": {
    "collapsed": true
   },
   "outputs": [],
   "source": [
    "ARI = Body_clean_puc_df['Body'].apply(Automated_Readability_Index)"
   ]
  },
  {
   "cell_type": "code",
   "execution_count": null,
   "metadata": {
    "collapsed": true
   },
   "outputs": [],
   "source": [
    "ARI.value_counts().head()"
   ]
  },
  {
   "cell_type": "markdown",
   "metadata": {},
   "source": [
    "## Coleman Liau Index"
   ]
  },
  {
   "cell_type": "code",
   "execution_count": null,
   "metadata": {
    "collapsed": true
   },
   "outputs": [],
   "source": [
    "def Coleman_Liau_Index(text):\n",
    "    try:\n",
    "        L = char_word(text)*100\n",
    "        S = sent_word(text)*100\n",
    "        CLI = float((0.058 * L) - (0.296 * S) - 15.8)\n",
    "        return round(CLI, 2)\n",
    "    except:\n",
    "        return 'NaN'"
   ]
  },
  {
   "cell_type": "code",
   "execution_count": null,
   "metadata": {
    "collapsed": true
   },
   "outputs": [],
   "source": [
    "Coleman_Liau_Index(test_data)"
   ]
  },
  {
   "cell_type": "code",
   "execution_count": null,
   "metadata": {
    "collapsed": true
   },
   "outputs": [],
   "source": [
    "CLI = Body_clean_puc_df['Body'].apply(Coleman_Liau_Index)"
   ]
  },
  {
   "cell_type": "code",
   "execution_count": null,
   "metadata": {
    "collapsed": true
   },
   "outputs": [],
   "source": [
    "CLI.value_counts().head()"
   ]
  },
  {
   "cell_type": "markdown",
   "metadata": {},
   "source": [
    "## Flesch Kincaid Grade Level"
   ]
  },
  {
   "cell_type": "code",
   "execution_count": null,
   "metadata": {
    "collapsed": true
   },
   "outputs": [],
   "source": [
    "def Flesch_Kincaid_Grade(text):\n",
    "    try:\n",
    "        ASL = word_sent(text)\n",
    "        ASW = syll_word(text)\n",
    "        FKRA = float(0.39 * ASL) + float(11.8 * ASW) - 15.59\n",
    "        return round(FKRA, 2)\n",
    "    except:\n",
    "        return 'NaN'"
   ]
  },
  {
   "cell_type": "code",
   "execution_count": null,
   "metadata": {
    "collapsed": true
   },
   "outputs": [],
   "source": [
    "FKG = Body_clean_puc_df['Body'].apply(Flesch_Kincaid_Grade)"
   ]
  },
  {
   "cell_type": "code",
   "execution_count": null,
   "metadata": {
    "collapsed": true
   },
   "outputs": [],
   "source": [
    "FKG.value_counts().head()"
   ]
  },
  {
   "cell_type": "markdown",
   "metadata": {},
   "source": [
    "## Flesch reading ease"
   ]
  },
  {
   "cell_type": "code",
   "execution_count": null,
   "metadata": {
    "collapsed": true
   },
   "outputs": [],
   "source": [
    "def Flesch_Reading_Ease(text):\n",
    "    try:\n",
    "        ASL = word_sent(text)\n",
    "        ASW = syll_word(text)\n",
    "        FRE = 206.835 - float(1.015 * ASL) - float(84.6 * ASW)\n",
    "        return round(FRE, 2)\n",
    "    except:\n",
    "        return 'NaN'"
   ]
  },
  {
   "cell_type": "code",
   "execution_count": null,
   "metadata": {
    "collapsed": true
   },
   "outputs": [],
   "source": [
    "FRE = Body_clean_puc_df['Body'].apply(Flesch_Reading_Ease)\n"
   ]
  },
  {
   "cell_type": "code",
   "execution_count": null,
   "metadata": {
    "collapsed": true
   },
   "outputs": [],
   "source": [
    "FRE.value_counts().head()"
   ]
  },
  {
   "cell_type": "markdown",
   "metadata": {},
   "source": [
    "## Gunning fog index"
   ]
  },
  {
   "cell_type": "code",
   "execution_count": null,
   "metadata": {
    "collapsed": true
   },
   "outputs": [],
   "source": [
    "def Gunning_Fog(text):\n",
    "    try:\n",
    "        per_diff_words = (complex_words_num(test_data)/word_num(text)*100)\n",
    "        grade = 0.4*(word_sent(text) + per_diff_words)\n",
    "        return round(grade,2)\n",
    "    except:\n",
    "        return 'NaN'"
   ]
  },
  {
   "cell_type": "code",
   "execution_count": null,
   "metadata": {
    "collapsed": true
   },
   "outputs": [],
   "source": [
    "GFI = Body_clean_puc_df['Body'].apply(Gunning_Fog)"
   ]
  },
  {
   "cell_type": "code",
   "execution_count": null,
   "metadata": {
    "collapsed": true
   },
   "outputs": [],
   "source": [
    "GFI.value_counts().head()"
   ]
  },
  {
   "cell_type": "markdown",
   "metadata": {},
   "source": [
    "## Metric Entropy"
   ]
  },
  {
   "cell_type": "code",
   "execution_count": null,
   "metadata": {
    "collapsed": true
   },
   "outputs": [],
   "source": [
    "def Metric_Entropy(original): #original body with tags\n",
    "    try:\n",
    "        sentropy = entropy.shannon_entropy(original)\n",
    "        body_length = len(original)\n",
    "        ME = float(sentropy/body_length)\n",
    "        return ME\n",
    "    except:\n",
    "        return 'NaN'"
   ]
  },
  {
   "cell_type": "code",
   "execution_count": null,
   "metadata": {
    "collapsed": true
   },
   "outputs": [],
   "source": [
    "ME = anpost_df['Body'].apply(Metric_Entropy)"
   ]
  },
  {
   "cell_type": "code",
   "execution_count": null,
   "metadata": {
    "collapsed": true
   },
   "outputs": [],
   "source": [
    "ME.value_counts().head()"
   ]
  },
  {
   "cell_type": "markdown",
   "metadata": {},
   "source": [
    "## LOC Percentage"
   ]
  },
  {
   "cell_type": "code",
   "execution_count": null,
   "metadata": {
    "collapsed": true
   },
   "outputs": [],
   "source": [
    "def LOC_ptg(data):\n",
    "    try:\n",
    "        LOC = data['Code number']\n",
    "        LOB = sent_num(data['Body'])\n",
    "        LP = float(LOC/(LOC+LOB))\n",
    "        return LP\n",
    "    except:\n",
    "        return 'NaN'"
   ]
  },
  {
   "cell_type": "code",
   "execution_count": null,
   "metadata": {
    "collapsed": true
   },
   "outputs": [],
   "source": [
    "LOC_Per = anpost_df.apply(LOC_ptg,axis=1)"
   ]
  },
  {
   "cell_type": "code",
   "execution_count": null,
   "metadata": {
    "collapsed": true
   },
   "outputs": [],
   "source": [
    "LOC_Per.value_counts().head()"
   ]
  },
  {
   "cell_type": "markdown",
   "metadata": {},
   "source": [
    "## Generate pickle"
   ]
  },
  {
   "cell_type": "code",
   "execution_count": null,
   "metadata": {
    "collapsed": true
   },
   "outputs": [],
   "source": [
    "Body_clean_puc_df['Id'] = qpost_df['Id']\n",
    "Body_clean_puc_df['word_count'] = Words_num_df\n",
    "Body_clean_puc_df['sentence_count'] = Sents_num_df\n",
    "Body_clean_puc_df['ARI'] = ARI\n",
    "Body_clean_puc_df['CLI'] = CLI\n",
    "Body_clean_puc_df['FKG'] = FKG\n",
    "Body_clean_puc_df['FRE'] = FRE\n",
    "Body_clean_puc_df['GFI'] = GFI\n",
    "Body_clean_puc_df['M_Entropy'] = ME\n",
    "Body_clean_puc_df['LOC_Per'] = LOC_Per\n",
    "Body_clean_puc_df['Score'] = qpost_df['Score']"
   ]
  },
  {
   "cell_type": "code",
   "execution_count": null,
   "metadata": {
    "collapsed": true
   },
   "outputs": [],
   "source": [
    "Body_clean_puc_df.head()"
   ]
  },
  {
   "cell_type": "code",
   "execution_count": null,
   "metadata": {
    "collapsed": true
   },
   "outputs": [],
   "source": [
    "import pickle\n",
    "with open('Readability_Metrics.pickle', 'wb') as handle:\n",
    "    pickle.dump(Body_clean_puc_df, handle,protocol=2)"
   ]
  },
  {
   "cell_type": "code",
   "execution_count": null,
   "metadata": {
    "collapsed": true
   },
   "outputs": [],
   "source": [
    "target = ['Id','Code number','formula','word_count','sentence_count','ARI','CLI','FKG','FRE','GFI','M_Entropy','LOC_Per','Score']\n",
    "RM = Body_clean_puc_df[target]\n",
    "RM.head()"
   ]
  },
  {
   "cell_type": "code",
   "execution_count": null,
   "metadata": {
    "collapsed": true
   },
   "outputs": [],
   "source": [
    "import pickle\n",
    "with open('Readability_Metrics_wtbody.pickle', 'wb') as handle:\n",
    "    pickle.dump(RM, handle,protocol=2)"
   ]
  },
  {
   "cell_type": "markdown",
   "metadata": {},
   "source": [
    "## Popularity Matrix"
   ]
  },
  {
   "cell_type": "code",
   "execution_count": null,
   "metadata": {
    "collapsed": true
   },
   "outputs": [],
   "source": [
    "import datetime\n",
    "cutoff1 = datetime.datetime(2015, 6, 1)"
   ]
  },
  {
   "cell_type": "code",
   "execution_count": null,
   "metadata": {
    "collapsed": true
   },
   "outputs": [],
   "source": [
    "import matplotlib.pyplot as plt\n",
    "import seaborn as sns\n",
    "%matplotlib inline \n",
    "sns.set_style(\"whitegrid\")"
   ]
  },
  {
   "cell_type": "code",
   "execution_count": null,
   "metadata": {
    "collapsed": true
   },
   "outputs": [],
   "source": [
    "anpost_df.CreationDate = pd.to_datetime(anpost_df.CreationDate)"
   ]
  },
  {
   "cell_type": "markdown",
   "metadata": {},
   "source": [
    "## Accepted by Originator Votes"
   ]
  },
  {
   "cell_type": "code",
   "execution_count": null,
   "metadata": {
    "collapsed": true
   },
   "outputs": [],
   "source": [
    "def getAnsCount(row):\n",
    "    records = apost_df[(apost_df['OwnerUserId']== row['OwnerUserId']) & (apost_df['CreationDate']< row['CreationDate'])]\n",
    "    return records.shape[0]"
   ]
  },
  {
   "cell_type": "code",
   "execution_count": null,
   "metadata": {
    "collapsed": true
   },
   "outputs": [],
   "source": [
    "#Accepted by Originator Votes\n",
    "tt = anpost_df.apply(getAnsCount,axis=1)"
   ]
  },
  {
   "cell_type": "code",
   "execution_count": null,
   "metadata": {
    "collapsed": true
   },
   "outputs": [],
   "source": [
    "sns.distplot(tt, rug=False)"
   ]
  },
  {
   "cell_type": "markdown",
   "metadata": {},
   "source": [
    "## Approved Edited Suggestions Count"
   ]
  },
  {
   "cell_type": "code",
   "execution_count": null,
   "metadata": {
    "collapsed": true
   },
   "outputs": [],
   "source": [
    "# return all the records for questions posts from posts table\n",
    "posthist_query = \"SELECT PostHistoryTypeId,CreationDate,UserId FROM posthistory\"\n",
    "posthist_df = pd.read_sql_query(posthist_query, conn)\n",
    "posthist_df.CreationDate = pd.to_datetime(posthist_df.CreationDate)"
   ]
  },
  {
   "cell_type": "code",
   "execution_count": null,
   "metadata": {
    "collapsed": true
   },
   "outputs": [],
   "source": [
    "postsedited = posthist_df[posthist_df['PostHistoryTypeId'].isin([4,5,6])]\n"
   ]
  },
  {
   "cell_type": "code",
   "execution_count": null,
   "metadata": {
    "collapsed": true
   },
   "outputs": [],
   "source": [
    "def getAppEditsCount(row):    \n",
    "    records = postsedited[(postsedited['UserId']== row['OwnerUserId']) & (postsedited['CreationDate']< row['CreationDate'])]\n",
    "    return records.shape[0]"
   ]
  },
  {
   "cell_type": "code",
   "execution_count": null,
   "metadata": {
    "collapsed": true
   },
   "outputs": [],
   "source": [
    "#Approved Edited Suggestions Count\n",
    "AESC = anpost_df.apply(getAppEditsCount,axis=1)"
   ]
  },
  {
   "cell_type": "code",
   "execution_count": null,
   "metadata": {
    "collapsed": true
   },
   "outputs": [],
   "source": [
    "sns.distplot(AESC, rug=False)"
   ]
  },
  {
   "cell_type": "code",
   "execution_count": null,
   "metadata": {
    "collapsed": true
   },
   "outputs": [],
   "source": [
    "AESC.value_counts().head()"
   ]
  },
  {
   "cell_type": "markdown",
   "metadata": {},
   "source": [
    "## Total Badge Count"
   ]
  },
  {
   "cell_type": "code",
   "execution_count": null,
   "metadata": {
    "collapsed": true
   },
   "outputs": [],
   "source": [
    "# return all the records from badges table\n",
    "badges_query = \"SELECT Name,Date,UserId FROM badges\"\n",
    "badges_df = pd.read_sql_query(badges_query, conn)\n",
    "badges_df.Date = pd.to_datetime(badges_df.Date)"
   ]
  },
  {
   "cell_type": "code",
   "execution_count": null,
   "metadata": {
    "collapsed": true
   },
   "outputs": [],
   "source": [
    "badges_df.shape"
   ]
  },
  {
   "cell_type": "code",
   "execution_count": null,
   "metadata": {
    "collapsed": true
   },
   "outputs": [],
   "source": [
    "def getBadgeCount(row):    \n",
    "    records = badges_df[(badges_df['UserId']== row['OwnerUserId']) & (badges_df['Date']< row['CreationDate'])]\n",
    "    return records.shape[0]"
   ]
  },
  {
   "cell_type": "code",
   "execution_count": null,
   "metadata": {
    "collapsed": true
   },
   "outputs": [],
   "source": [
    "#Total Badge Count\n",
    "TBC = anpost_df.apply(getBadgeCount,axis=1)"
   ]
  },
  {
   "cell_type": "code",
   "execution_count": null,
   "metadata": {
    "collapsed": true
   },
   "outputs": [],
   "source": [
    "TBC.value_counts().head()"
   ]
  },
  {
   "cell_type": "markdown",
   "metadata": {},
   "source": [
    "## Total Close and Deletion Votes"
   ]
  },
  {
   "cell_type": "code",
   "execution_count": null,
   "metadata": {
    "collapsed": true
   },
   "outputs": [],
   "source": [
    "# return all the records from votes table\n",
    "votes_query = \"SELECT VoteTypeId,CreationDate,PostId,UserId FROM votes\"\n",
    "votes_df = pd.read_sql_query(votes_query, conn)\n",
    "votes_df.CreationDate = pd.to_datetime(votes_df.CreationDate)"
   ]
  },
  {
   "cell_type": "code",
   "execution_count": null,
   "metadata": {
    "collapsed": true
   },
   "outputs": [],
   "source": [
    "votes_df = votes_df[votes_df['VoteTypeId'].isin([6,10])]"
   ]
  },
  {
   "cell_type": "code",
   "execution_count": null,
   "metadata": {
    "collapsed": true
   },
   "outputs": [],
   "source": [
    "def getTCDVCount(row):    \n",
    "    postid_target = post_df[(post_df['OwnerUserId']== row['OwnerUserId'])&(post_df['CreationDate']< row['CreationDate'])].Id.tolist()\n",
    "    records = votes_df[(votes_df['PostId'].isin(postid_target)) & (votes_df['CreationDate']< row['CreationDate'])]\n",
    "    return records.shape[0]"
   ]
  },
  {
   "cell_type": "code",
   "execution_count": null,
   "metadata": {
    "collapsed": true
   },
   "outputs": [],
   "source": [
    "#Total Close and Deletion Votes¶\n",
    "TCDV = anpost_df.apply(getTCDVCount,axis=1)"
   ]
  },
  {
   "cell_type": "code",
   "execution_count": null,
   "metadata": {
    "collapsed": true
   },
   "outputs": [],
   "source": [
    "TCDV.value_counts()"
   ]
  },
  {
   "cell_type": "markdown",
   "metadata": {},
   "source": [
    "## Total Up Votes received"
   ]
  },
  {
   "cell_type": "code",
   "execution_count": null,
   "metadata": {
    "collapsed": true
   },
   "outputs": [],
   "source": [
    "# return all the records from votes table\n",
    "votes_query = \"SELECT VoteTypeId,CreationDate,PostId,UserId FROM votes\"\n",
    "votes_df = pd.read_sql_query(votes_query, conn)\n",
    "votes_df.CreationDate = pd.to_datetime(votes_df.CreationDate)"
   ]
  },
  {
   "cell_type": "code",
   "execution_count": null,
   "metadata": {
    "collapsed": true
   },
   "outputs": [],
   "source": [
    "votes_df = votes_df[votes_df['VoteTypeId']==2]"
   ]
  },
  {
   "cell_type": "code",
   "execution_count": null,
   "metadata": {
    "collapsed": true
   },
   "outputs": [],
   "source": [
    "def getUpVoteCount(row):    \n",
    "    #get the past post ids from the user\n",
    "    postid_target = post_df[(post_df['OwnerUserId']== row['OwnerUserId'])&(post_df['CreationDate']< row['CreationDate'])].Id.tolist()\n",
    "    records = votes_df[(votes_df['PostId'].isin(postid_target)) & (votes_df['CreationDate']< row['CreationDate'])]\n",
    "    return records.shape[0]"
   ]
  },
  {
   "cell_type": "code",
   "execution_count": null,
   "metadata": {
    "collapsed": true
   },
   "outputs": [],
   "source": [
    "#Total Up Votes by the time of new post\n",
    "TUVC = anpost_df.apply(getTCDVCount,axis=1)"
   ]
  },
  {
   "cell_type": "code",
   "execution_count": null,
   "metadata": {
    "collapsed": true
   },
   "outputs": [],
   "source": [
    "TUVC.value_counts().head()"
   ]
  },
  {
   "cell_type": "markdown",
   "metadata": {},
   "source": [
    "## Total Down Votes received¶"
   ]
  },
  {
   "cell_type": "code",
   "execution_count": null,
   "metadata": {
    "collapsed": true
   },
   "outputs": [],
   "source": [
    "# return all the records from votes table\n",
    "votes_query = \"SELECT VoteTypeId,CreationDate,PostId,UserId FROM votes\"\n",
    "votes_df = pd.read_sql_query(votes_query, conn)\n",
    "votes_df.CreationDate = pd.to_datetime(votes_df.CreationDate)\n",
    "votes_df = votes_df[votes_df['VoteTypeId']==3]"
   ]
  },
  {
   "cell_type": "code",
   "execution_count": null,
   "metadata": {
    "collapsed": true
   },
   "outputs": [],
   "source": [
    "def getDownVoteCount(row):    \n",
    "    #get the past post ids from the user\n",
    "    postid_target = post_df[(post_df['OwnerUserId']== row['OwnerUserId'])&(post_df['CreationDate']< row['CreationDate'])].Id.tolist()\n",
    "    records = votes_df[(votes_df['PostId'].isin(postid_target)) & (votes_df['CreationDate']< row['CreationDate'])]\n",
    "    return records.shape[0]"
   ]
  },
  {
   "cell_type": "code",
   "execution_count": null,
   "metadata": {
    "collapsed": true
   },
   "outputs": [],
   "source": [
    "#Total Up Votes by the time of new post\n",
    "TDVC = anpost_df.apply(getDownVoteCount,axis=1)"
   ]
  },
  {
   "cell_type": "code",
   "execution_count": null,
   "metadata": {
    "collapsed": true
   },
   "outputs": [],
   "source": [
    "TDVC.value_counts().head()"
   ]
  },
  {
   "cell_type": "markdown",
   "metadata": {},
   "source": [
    "## Total Favorite Votes received"
   ]
  },
  {
   "cell_type": "code",
   "execution_count": null,
   "metadata": {
    "collapsed": true
   },
   "outputs": [],
   "source": [
    "votes_query = \"SELECT VoteTypeId,CreationDate,PostId,UserId FROM votes WHERE VoteTypeId==5\"\n",
    "votes_df = pd.read_sql_query(votes_query, conn)\n",
    "votes_df.CreationDate = pd.to_datetime(votes_df.CreationDate)"
   ]
  },
  {
   "cell_type": "code",
   "execution_count": null,
   "metadata": {
    "collapsed": true
   },
   "outputs": [],
   "source": [
    "def getFavVoteCount(row):    \n",
    "    #get the past post ids from the user\n",
    "    postid_target = post_df[(post_df['OwnerUserId']== row['OwnerUserId'])&(post_df['CreationDate']< row['CreationDate'])].Id.tolist()\n",
    "    records = votes_df[(votes_df['PostId'].isin(postid_target)) & (votes_df['CreationDate']< row['CreationDate'])]\n",
    "    return records.shape[0]"
   ]
  },
  {
   "cell_type": "code",
   "execution_count": null,
   "metadata": {
    "collapsed": true
   },
   "outputs": [],
   "source": [
    "#Total Up Votes by the time of new post\n",
    "TFVC = anpost_df.apply(getFavVoteCount,axis=1)"
   ]
  },
  {
   "cell_type": "code",
   "execution_count": null,
   "metadata": {
    "collapsed": true
   },
   "outputs": [],
   "source": [
    "TFVC.value_counts().head()"
   ]
  },
  {
   "cell_type": "markdown",
   "metadata": {},
   "source": [
    "## Integrate all the Popularity Metrics features"
   ]
  },
  {
   "cell_type": "code",
   "execution_count": null,
   "metadata": {
    "collapsed": true
   },
   "outputs": [],
   "source": [
    "anpost_df['AccpAnsCnt'] = tt\n",
    "anpost_df['AppEditCnt'] = AESC\n",
    "anpost_df['BadgeCnt'] = TBC\n",
    "anpost_df['CloDelVCnt'] = TCDV\n",
    "anpost_df['UpVoteCnt'] = TUVC\n",
    "anpost_df['DownVoteCnt'] = TDVC\n",
    "anpost_df['FavVoteCnt'] = TFVC"
   ]
  },
  {
   "cell_type": "code",
   "execution_count": null,
   "metadata": {
    "collapsed": true
   },
   "outputs": [],
   "source": [
    "target_cols = ['Id','CreationDate','OwnerUserId','AccpAnsCnt','AppEditCnt','BadgeCnt','CloDelVCnt','UpVoteCnt',\\\n",
    "               'DownVoteCnt','FavVoteCnt','Score']"
   ]
  },
  {
   "cell_type": "code",
   "execution_count": null,
   "metadata": {
    "collapsed": true
   },
   "outputs": [],
   "source": [
    "popularity_metric_df = qpost_df[target_cols]"
   ]
  },
  {
   "cell_type": "code",
   "execution_count": null,
   "metadata": {
    "collapsed": true
   },
   "outputs": [],
   "source": [
    "popularity_metric_df.head(10)"
   ]
  }
 ],
 "metadata": {
  "kernelspec": {
   "display_name": "Python 3",
   "language": "python",
   "name": "python3"
  },
  "language_info": {
   "codemirror_mode": {
    "name": "ipython",
    "version": 3
   },
   "file_extension": ".py",
   "mimetype": "text/x-python",
   "name": "python",
   "nbconvert_exporter": "python",
   "pygments_lexer": "ipython3",
   "version": "3.5.1"
  }
 },
 "nbformat": 4,
 "nbformat_minor": 0
}
