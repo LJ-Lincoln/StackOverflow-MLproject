{
 "cells": [
  {
   "cell_type": "code",
   "execution_count": 1,
   "metadata": {
    "collapsed": true
   },
   "outputs": [],
   "source": [
    "import pickle"
   ]
  },
  {
   "cell_type": "code",
   "execution_count": 2,
   "metadata": {
    "collapsed": false
   },
   "outputs": [
    {
     "name": "stderr",
     "output_type": "stream",
     "text": [
      ":0: FutureWarning: IPython widgets are experimental and may change in the future.\n"
     ]
    }
   ],
   "source": [
    "import matplotlib.pyplot as plt\n",
    "import seaborn as sns\n",
    "%matplotlib inline \n",
    "sns.set_style(\"whitegrid\")"
   ]
  },
  {
   "cell_type": "code",
   "execution_count": 3,
   "metadata": {
    "collapsed": true
   },
   "outputs": [],
   "source": [
    "import sqlite3\n",
    "import pandas as pd"
   ]
  },
  {
   "cell_type": "code",
   "execution_count": 107,
   "metadata": {
    "collapsed": true
   },
   "outputs": [],
   "source": [
    "import datetime\n",
    "cutoff1 = datetime.datetime(2015, 6, 1)"
   ]
  },
  {
   "cell_type": "code",
   "execution_count": 10,
   "metadata": {
    "collapsed": false
   },
   "outputs": [],
   "source": [
    "import re"
   ]
  },
  {
   "cell_type": "code",
   "execution_count": 8,
   "metadata": {
    "collapsed": true
   },
   "outputs": [],
   "source": [
    "conn = sqlite3.connect('crossvalidated.db')"
   ]
  },
  {
   "cell_type": "code",
   "execution_count": 12,
   "metadata": {
    "collapsed": false
   },
   "outputs": [],
   "source": [
    "# return all the records for questions posts from posts table\n",
    "ques_query = \"SELECT * FROM posts WHERE PostTypeId==1\""
   ]
  },
  {
   "cell_type": "code",
   "execution_count": 13,
   "metadata": {
    "collapsed": true
   },
   "outputs": [],
   "source": [
    "qpost_df = pd.read_sql_query(ques_query, conn)"
   ]
  },
  {
   "cell_type": "code",
   "execution_count": 14,
   "metadata": {
    "collapsed": false
   },
   "outputs": [
    {
     "data": {
      "text/plain": [
       "(75067, 21)"
      ]
     },
     "execution_count": 14,
     "metadata": {},
     "output_type": "execute_result"
    }
   ],
   "source": [
    "qpost_df.shape"
   ]
  },
  {
   "cell_type": "code",
   "execution_count": 7,
   "metadata": {
    "collapsed": true
   },
   "outputs": [],
   "source": [
    "# return all the records for answer posts from posts table\n",
    "ans_query = \"SELECT * FROM posts WHERE PostTypeId==2\""
   ]
  },
  {
   "cell_type": "code",
   "execution_count": 9,
   "metadata": {
    "collapsed": false
   },
   "outputs": [],
   "source": [
    "apost_df = pd.read_sql_query(ans_query, conn)"
   ]
  },
  {
   "cell_type": "code",
   "execution_count": 66,
   "metadata": {
    "collapsed": false
   },
   "outputs": [],
   "source": [
    "post_df = pd.concat([qpost_df,apost_df])"
   ]
  },
  {
   "cell_type": "code",
   "execution_count": 19,
   "metadata": {
    "collapsed": false
   },
   "outputs": [
    {
     "data": {
      "text/html": [
       "<div>\n",
       "<table border=\"1\" class=\"dataframe\">\n",
       "  <thead>\n",
       "    <tr style=\"text-align: right;\">\n",
       "      <th></th>\n",
       "      <th>Body</th>\n",
       "      <th>ViewCount</th>\n",
       "      <th>LastEditorDisplayName</th>\n",
       "      <th>ClosedDate</th>\n",
       "      <th>CommunityOwnedDate</th>\n",
       "      <th>LastEditorUserId</th>\n",
       "      <th>ParentID</th>\n",
       "      <th>LastEditDate</th>\n",
       "      <th>CommentCount</th>\n",
       "      <th>AnswerCount</th>\n",
       "      <th>...</th>\n",
       "      <th>Score</th>\n",
       "      <th>OwnerDisplayName</th>\n",
       "      <th>Title</th>\n",
       "      <th>PostTypeId</th>\n",
       "      <th>OwnerUserId</th>\n",
       "      <th>Tags</th>\n",
       "      <th>CreationDate</th>\n",
       "      <th>FavoriteCount</th>\n",
       "      <th>Id</th>\n",
       "      <th>LastActivityDate</th>\n",
       "    </tr>\n",
       "  </thead>\n",
       "  <tbody>\n",
       "    <tr>\n",
       "      <th>0</th>\n",
       "      <td>&lt;p&gt;The R-project&lt;/p&gt;\\n\\n&lt;p&gt;&lt;a href=\"http://www...</td>\n",
       "      <td>None</td>\n",
       "      <td>None</td>\n",
       "      <td>None</td>\n",
       "      <td>2010-07-19T19:14:43.050</td>\n",
       "      <td>23.0</td>\n",
       "      <td>3</td>\n",
       "      <td>2010-07-19T19:21:15.063</td>\n",
       "      <td>3</td>\n",
       "      <td>None</td>\n",
       "      <td>...</td>\n",
       "      <td>84</td>\n",
       "      <td>None</td>\n",
       "      <td>None</td>\n",
       "      <td>2</td>\n",
       "      <td>23.0</td>\n",
       "      <td>None</td>\n",
       "      <td>2010-07-19 19:14:43.050</td>\n",
       "      <td>None</td>\n",
       "      <td>5</td>\n",
       "      <td>2010-07-19T19:21:15.063</td>\n",
       "    </tr>\n",
       "    <tr>\n",
       "      <th>1</th>\n",
       "      <td>&lt;p&gt;&lt;a href=\"http://incanter.org/\"&gt;Incanter&lt;/a&gt;...</td>\n",
       "      <td>None</td>\n",
       "      <td>None</td>\n",
       "      <td>None</td>\n",
       "      <td>2010-07-19T19:16:27.553</td>\n",
       "      <td>NaN</td>\n",
       "      <td>3</td>\n",
       "      <td>None</td>\n",
       "      <td>3</td>\n",
       "      <td>None</td>\n",
       "      <td>...</td>\n",
       "      <td>13</td>\n",
       "      <td>None</td>\n",
       "      <td>None</td>\n",
       "      <td>2</td>\n",
       "      <td>50.0</td>\n",
       "      <td>None</td>\n",
       "      <td>2010-07-19 19:16:27.553</td>\n",
       "      <td>None</td>\n",
       "      <td>9</td>\n",
       "      <td>2010-07-19T19:16:27.553</td>\n",
       "    </tr>\n",
       "    <tr>\n",
       "      <th>2</th>\n",
       "      <td>&lt;p&gt;See my response to &lt;a href=\"http://stackove...</td>\n",
       "      <td>None</td>\n",
       "      <td>None</td>\n",
       "      <td>None</td>\n",
       "      <td>2011-08-12T20:29:33.010</td>\n",
       "      <td>NaN</td>\n",
       "      <td>7</td>\n",
       "      <td>None</td>\n",
       "      <td>1</td>\n",
       "      <td>None</td>\n",
       "      <td>...</td>\n",
       "      <td>20</td>\n",
       "      <td>None</td>\n",
       "      <td>None</td>\n",
       "      <td>2</td>\n",
       "      <td>5.0</td>\n",
       "      <td>None</td>\n",
       "      <td>2010-07-19 19:18:41.370</td>\n",
       "      <td>None</td>\n",
       "      <td>12</td>\n",
       "      <td>2010-07-19T19:18:41.370</td>\n",
       "    </tr>\n",
       "    <tr>\n",
       "      <th>3</th>\n",
       "      <td>&lt;p&gt;Machine Learning seems to have its basis in...</td>\n",
       "      <td>None</td>\n",
       "      <td>None</td>\n",
       "      <td>None</td>\n",
       "      <td>None</td>\n",
       "      <td>NaN</td>\n",
       "      <td>6</td>\n",
       "      <td>None</td>\n",
       "      <td>4</td>\n",
       "      <td>None</td>\n",
       "      <td>...</td>\n",
       "      <td>16</td>\n",
       "      <td>None</td>\n",
       "      <td>None</td>\n",
       "      <td>2</td>\n",
       "      <td>23.0</td>\n",
       "      <td>None</td>\n",
       "      <td>2010-07-19 19:18:56.800</td>\n",
       "      <td>None</td>\n",
       "      <td>13</td>\n",
       "      <td>2010-07-19T19:18:56.800</td>\n",
       "    </tr>\n",
       "    <tr>\n",
       "      <th>4</th>\n",
       "      <td>&lt;p&gt;I second that Jay. Why is R valuable? Here'...</td>\n",
       "      <td>None</td>\n",
       "      <td>None</td>\n",
       "      <td>None</td>\n",
       "      <td>2010-07-19T19:19:03.990</td>\n",
       "      <td>NaN</td>\n",
       "      <td>3</td>\n",
       "      <td>None</td>\n",
       "      <td>1</td>\n",
       "      <td>None</td>\n",
       "      <td>...</td>\n",
       "      <td>5</td>\n",
       "      <td>None</td>\n",
       "      <td>None</td>\n",
       "      <td>2</td>\n",
       "      <td>36.0</td>\n",
       "      <td>None</td>\n",
       "      <td>2010-07-19 19:19:03.990</td>\n",
       "      <td>None</td>\n",
       "      <td>14</td>\n",
       "      <td>2010-07-19T19:19:03.990</td>\n",
       "    </tr>\n",
       "  </tbody>\n",
       "</table>\n",
       "<p>5 rows × 21 columns</p>\n",
       "</div>"
      ],
      "text/plain": [
       "                                                Body ViewCount  \\\n",
       "0  <p>The R-project</p>\\n\\n<p><a href=\"http://www...      None   \n",
       "1  <p><a href=\"http://incanter.org/\">Incanter</a>...      None   \n",
       "2  <p>See my response to <a href=\"http://stackove...      None   \n",
       "3  <p>Machine Learning seems to have its basis in...      None   \n",
       "4  <p>I second that Jay. Why is R valuable? Here'...      None   \n",
       "\n",
       "  LastEditorDisplayName ClosedDate       CommunityOwnedDate  LastEditorUserId  \\\n",
       "0                  None       None  2010-07-19T19:14:43.050              23.0   \n",
       "1                  None       None  2010-07-19T19:16:27.553               NaN   \n",
       "2                  None       None  2011-08-12T20:29:33.010               NaN   \n",
       "3                  None       None                     None               NaN   \n",
       "4                  None       None  2010-07-19T19:19:03.990               NaN   \n",
       "\n",
       "   ParentID             LastEditDate  CommentCount AnswerCount  \\\n",
       "0         3  2010-07-19T19:21:15.063             3        None   \n",
       "1         3                     None             3        None   \n",
       "2         7                     None             1        None   \n",
       "3         6                     None             4        None   \n",
       "4         3                     None             1        None   \n",
       "\n",
       "            ...            Score  OwnerDisplayName Title PostTypeId  \\\n",
       "0           ...               84              None  None          2   \n",
       "1           ...               13              None  None          2   \n",
       "2           ...               20              None  None          2   \n",
       "3           ...               16              None  None          2   \n",
       "4           ...                5              None  None          2   \n",
       "\n",
       "   OwnerUserId  Tags            CreationDate FavoriteCount  Id  \\\n",
       "0         23.0  None 2010-07-19 19:14:43.050          None   5   \n",
       "1         50.0  None 2010-07-19 19:16:27.553          None   9   \n",
       "2          5.0  None 2010-07-19 19:18:41.370          None  12   \n",
       "3         23.0  None 2010-07-19 19:18:56.800          None  13   \n",
       "4         36.0  None 2010-07-19 19:19:03.990          None  14   \n",
       "\n",
       "          LastActivityDate  \n",
       "0  2010-07-19T19:21:15.063  \n",
       "1  2010-07-19T19:16:27.553  \n",
       "2  2010-07-19T19:18:41.370  \n",
       "3  2010-07-19T19:18:56.800  \n",
       "4  2010-07-19T19:19:03.990  \n",
       "\n",
       "[5 rows x 21 columns]"
      ]
     },
     "execution_count": 19,
     "metadata": {},
     "output_type": "execute_result"
    }
   ],
   "source": [
    "apost_df.head()"
   ]
  },
  {
   "cell_type": "code",
   "execution_count": 17,
   "metadata": {
    "collapsed": true
   },
   "outputs": [],
   "source": [
    "qpost_df.CreationDate = pd.to_datetime(qpost_df.CreationDate)\n",
    "apost_df.CreationDate = pd.to_datetime(apost_df.CreationDate)"
   ]
  },
  {
   "cell_type": "markdown",
   "metadata": {},
   "source": [
    "###Accepted by Originator Votes"
   ]
  },
  {
   "cell_type": "code",
   "execution_count": 20,
   "metadata": {
    "collapsed": true
   },
   "outputs": [],
   "source": [
    "def getAnsCount(row):\n",
    "    records = apost_df[(apost_df['OwnerUserId']== row['OwnerUserId']) & (apost_df['CreationDate']< row['CreationDate'])]\n",
    "    return records.shape[0]"
   ]
  },
  {
   "cell_type": "code",
   "execution_count": 21,
   "metadata": {
    "collapsed": true
   },
   "outputs": [],
   "source": [
    "#Accepted by Originator Votes\n",
    "tt = qpost_df.apply(getAnsCount,axis=1)"
   ]
  },
  {
   "cell_type": "code",
   "execution_count": 26,
   "metadata": {
    "collapsed": false
   },
   "outputs": [
    {
     "data": {
      "text/plain": [
       "<matplotlib.axes._subplots.AxesSubplot at 0x11a40a290>"
      ]
     },
     "execution_count": 26,
     "metadata": {},
     "output_type": "execute_result"
    },
    {
     "data": {
      "image/png": "[encoded data removed]",
      "text/plain": [
       "<matplotlib.figure.Figure at 0x120aec6d0>"
      ]
     },
     "metadata": {},
     "output_type": "display_data"
    }
   ],
   "source": [
    "sns.distplot(tt, rug=False)"
   ]
  },
  {
   "cell_type": "code",
   "execution_count": 27,
   "metadata": {
    "collapsed": true
   },
   "outputs": [],
   "source": [
    "#qpost_df = qpost_df.merge(tt, left_index=True, right_index=True)"
   ]
  },
  {
   "cell_type": "markdown",
   "metadata": {},
   "source": [
    "###Approved Edited Suggestions Count"
   ]
  },
  {
   "cell_type": "code",
   "execution_count": 31,
   "metadata": {
    "collapsed": true
   },
   "outputs": [],
   "source": [
    "# return all the records for questions posts from posts table\n",
    "posthist_query = \"SELECT PostHistoryTypeId,CreationDate,UserId FROM posthistory\"\n",
    "posthist_df = pd.read_sql_query(posthist_query, conn)\n",
    "posthist_df.CreationDate = pd.to_datetime(posthist_df.CreationDate)"
   ]
  },
  {
   "cell_type": "code",
   "execution_count": 34,
   "metadata": {
    "collapsed": false
   },
   "outputs": [],
   "source": [
    "postsedited = posthist_df[posthist_df['PostHistoryTypeId'].isin([4,5,6])]"
   ]
  },
  {
   "cell_type": "code",
   "execution_count": 35,
   "metadata": {
    "collapsed": false
   },
   "outputs": [],
   "source": [
    "def getAppEditsCount(row):    \n",
    "    records = postsedited[(postsedited['UserId']== row['OwnerUserId']) & (postsedited['CreationDate']< row['CreationDate'])]\n",
    "    return records.shape[0]"
   ]
  },
  {
   "cell_type": "code",
   "execution_count": 36,
   "metadata": {
    "collapsed": true
   },
   "outputs": [],
   "source": [
    "#Approved Edited Suggestions Count\n",
    "AESC = qpost_df.apply(getAppEditsCount,axis=1)"
   ]
  },
  {
   "cell_type": "code",
   "execution_count": 37,
   "metadata": {
    "collapsed": false
   },
   "outputs": [
    {
     "data": {
      "text/plain": [
       "<matplotlib.axes._subplots.AxesSubplot at 0x1228950d0>"
      ]
     },
     "execution_count": 37,
     "metadata": {},
     "output_type": "execute_result"
    },
    {
     "data": {
      "image/png": "[encoded data removed]",
      "text/plain": [
       "<matplotlib.figure.Figure at 0x122b964d0>"
      ]
     },
     "metadata": {},
     "output_type": "display_data"
    }
   ],
   "source": [
    "sns.distplot(AESC, rug=False)"
   ]
  },
  {
   "cell_type": "code",
   "execution_count": 40,
   "metadata": {
    "collapsed": false
   },
   "outputs": [
    {
     "data": {
      "text/plain": [
       "0    46605\n",
       "1     6041\n",
       "2     3829\n",
       "3     2628\n",
       "4     1869\n",
       "dtype: int64"
      ]
     },
     "execution_count": 40,
     "metadata": {},
     "output_type": "execute_result"
    }
   ],
   "source": [
    "AESC.value_counts().head()"
   ]
  },
  {
   "cell_type": "markdown",
   "metadata": {
    "collapsed": false
   },
   "source": [
    "###Total Badge Count"
   ]
  },
  {
   "cell_type": "code",
   "execution_count": 47,
   "metadata": {
    "collapsed": false
   },
   "outputs": [],
   "source": [
    "# return all the records from badges table\n",
    "badges_query = \"SELECT Name,Date,UserId FROM badges\"\n",
    "badges_df = pd.read_sql_query(badges_query, conn)\n",
    "badges_df.Date = pd.to_datetime(badges_df.Date)"
   ]
  },
  {
   "cell_type": "code",
   "execution_count": 50,
   "metadata": {
    "collapsed": false
   },
   "outputs": [
    {
     "data": {
      "text/plain": [
       "(159170, 3)"
      ]
     },
     "execution_count": 50,
     "metadata": {},
     "output_type": "execute_result"
    }
   ],
   "source": [
    "badges_df.shape"
   ]
  },
  {
   "cell_type": "code",
   "execution_count": 49,
   "metadata": {
    "collapsed": true
   },
   "outputs": [],
   "source": [
    "#target = ['Great Answer', 'Good Answer', 'Nice Answer','Favorite Question', 'Stellar Question', 'Good Question','Nice Question']\n",
    "#badges_df = badges_df[badges_df['Name'].isin(target)]  \n",
    "#relatively small set, count all the badges received by the user"
   ]
  },
  {
   "cell_type": "code",
   "execution_count": 53,
   "metadata": {
    "collapsed": true
   },
   "outputs": [],
   "source": [
    "def getBadgeCount(row):    \n",
    "    records = badges_df[(badges_df['UserId']== row['OwnerUserId']) & (badges_df['Date']< row['CreationDate'])]\n",
    "    return records.shape[0]"
   ]
  },
  {
   "cell_type": "code",
   "execution_count": 54,
   "metadata": {
    "collapsed": false
   },
   "outputs": [],
   "source": [
    "#Total Badge Count\n",
    "TBC = qpost_df.apply(getBadgeCount,axis=1)"
   ]
  },
  {
   "cell_type": "code",
   "execution_count": 57,
   "metadata": {
    "collapsed": false
   },
   "outputs": [
    {
     "data": {
      "text/plain": [
       "0    30974\n",
       "1     8000\n",
       "2     5546\n",
       "3     4842\n",
       "4     4472\n",
       "dtype: int64"
      ]
     },
     "execution_count": 57,
     "metadata": {},
     "output_type": "execute_result"
    }
   ],
   "source": [
    "TBC.value_counts().head()"
   ]
  },
  {
   "cell_type": "markdown",
   "metadata": {},
   "source": [
    "###Total Close and Deletion Votes"
   ]
  },
  {
   "cell_type": "code",
   "execution_count": 70,
   "metadata": {
    "collapsed": true
   },
   "outputs": [],
   "source": [
    "# return all the records from votes table\n",
    "votes_query = \"SELECT VoteTypeId,CreationDate,PostId,UserId FROM votes\"\n",
    "votes_df = pd.read_sql_query(votes_query, conn)\n",
    "votes_df.CreationDate = pd.to_datetime(votes_df.CreationDate)"
   ]
  },
  {
   "cell_type": "code",
   "execution_count": 71,
   "metadata": {
    "collapsed": true
   },
   "outputs": [],
   "source": [
    "votes_df = votes_df[votes_df['VoteTypeId'].isin([6,10])]"
   ]
  },
  {
   "cell_type": "code",
   "execution_count": 72,
   "metadata": {
    "collapsed": true
   },
   "outputs": [],
   "source": [
    "def getTCDVCount(row):    \n",
    "    postid_target = post_df[(post_df['OwnerUserId']== row['OwnerUserId'])&(post_df['CreationDate']< row['CreationDate'])].Id.tolist()\n",
    "    records = votes_df[(votes_df['PostId'].isin(postid_target)) & (votes_df['CreationDate']< row['CreationDate'])]\n",
    "    return records.shape[0]"
   ]
  },
  {
   "cell_type": "code",
   "execution_count": 73,
   "metadata": {
    "collapsed": false
   },
   "outputs": [],
   "source": [
    "#Total Close and Deletion Votes¶\n",
    "TCDV = qpost_df.apply(getTCDVCount,axis=1)"
   ]
  },
  {
   "cell_type": "code",
   "execution_count": 74,
   "metadata": {
    "collapsed": false
   },
   "outputs": [
    {
     "data": {
      "text/plain": [
       "0    73439\n",
       "1      820\n",
       "5      298\n",
       "2      212\n",
       "3      167\n",
       "4       70\n",
       "9       34\n",
       "6       19\n",
       "7        8\n",
       "dtype: int64"
      ]
     },
     "execution_count": 74,
     "metadata": {},
     "output_type": "execute_result"
    }
   ],
   "source": [
    "TCDV.value_counts()"
   ]
  },
  {
   "cell_type": "markdown",
   "metadata": {},
   "source": [
    "###Total Up Votes received"
   ]
  },
  {
   "cell_type": "code",
   "execution_count": 75,
   "metadata": {
    "collapsed": true
   },
   "outputs": [],
   "source": [
    "# return all the records from votes table\n",
    "votes_query = \"SELECT VoteTypeId,CreationDate,PostId,UserId FROM votes\"\n",
    "votes_df = pd.read_sql_query(votes_query, conn)\n",
    "votes_df.CreationDate = pd.to_datetime(votes_df.CreationDate)"
   ]
  },
  {
   "cell_type": "code",
   "execution_count": 76,
   "metadata": {
    "collapsed": true
   },
   "outputs": [],
   "source": [
    "votes_df = votes_df[votes_df['VoteTypeId']==2]"
   ]
  },
  {
   "cell_type": "code",
   "execution_count": 77,
   "metadata": {
    "collapsed": true
   },
   "outputs": [],
   "source": [
    "def getUpVoteCount(row):    \n",
    "    #get the past post ids from the user\n",
    "    postid_target = post_df[(post_df['OwnerUserId']== row['OwnerUserId'])&(post_df['CreationDate']< row['CreationDate'])].Id.tolist()\n",
    "    records = votes_df[(votes_df['PostId'].isin(postid_target)) & (votes_df['CreationDate']< row['CreationDate'])]\n",
    "    return records.shape[0]"
   ]
  },
  {
   "cell_type": "code",
   "execution_count": 78,
   "metadata": {
    "collapsed": true
   },
   "outputs": [],
   "source": [
    "#Total Up Votes by the time of new post\n",
    "TUVC = qpost_df.apply(getTCDVCount,axis=1)"
   ]
  },
  {
   "cell_type": "code",
   "execution_count": 81,
   "metadata": {
    "collapsed": false
   },
   "outputs": [
    {
     "data": {
      "text/plain": [
       "0    37767\n",
       "1     4462\n",
       "2     3510\n",
       "3     2846\n",
       "4     2342\n",
       "dtype: int64"
      ]
     },
     "execution_count": 81,
     "metadata": {},
     "output_type": "execute_result"
    }
   ],
   "source": [
    "TUVC.value_counts().head()"
   ]
  },
  {
   "cell_type": "markdown",
   "metadata": {},
   "source": [
    "###Total Down Votes received"
   ]
  },
  {
   "cell_type": "code",
   "execution_count": 82,
   "metadata": {
    "collapsed": true
   },
   "outputs": [],
   "source": [
    "# return all the records from votes table\n",
    "votes_query = \"SELECT VoteTypeId,CreationDate,PostId,UserId FROM votes\"\n",
    "votes_df = pd.read_sql_query(votes_query, conn)\n",
    "votes_df.CreationDate = pd.to_datetime(votes_df.CreationDate)\n",
    "votes_df = votes_df[votes_df['VoteTypeId']==3]"
   ]
  },
  {
   "cell_type": "code",
   "execution_count": 83,
   "metadata": {
    "collapsed": true
   },
   "outputs": [],
   "source": [
    "def getDownVoteCount(row):    \n",
    "    #get the past post ids from the user\n",
    "    postid_target = post_df[(post_df['OwnerUserId']== row['OwnerUserId'])&(post_df['CreationDate']< row['CreationDate'])].Id.tolist()\n",
    "    records = votes_df[(votes_df['PostId'].isin(postid_target)) & (votes_df['CreationDate']< row['CreationDate'])]\n",
    "    return records.shape[0]"
   ]
  },
  {
   "cell_type": "code",
   "execution_count": 84,
   "metadata": {
    "collapsed": true
   },
   "outputs": [],
   "source": [
    "#Total Up Votes by the time of new post\n",
    "TDVC = qpost_df.apply(getDownVoteCount,axis=1)"
   ]
  },
  {
   "cell_type": "code",
   "execution_count": 85,
   "metadata": {
    "collapsed": false
   },
   "outputs": [
    {
     "data": {
      "text/plain": [
       "0    64023\n",
       "1     5436\n",
       "2     2054\n",
       "3     1076\n",
       "4      709\n",
       "dtype: int64"
      ]
     },
     "execution_count": 85,
     "metadata": {},
     "output_type": "execute_result"
    }
   ],
   "source": [
    "TDVC.value_counts().head()"
   ]
  },
  {
   "cell_type": "markdown",
   "metadata": {},
   "source": [
    "###Total Favorite Votes received"
   ]
  },
  {
   "cell_type": "code",
   "execution_count": 90,
   "metadata": {
    "collapsed": true
   },
   "outputs": [],
   "source": [
    "votes_query = \"SELECT VoteTypeId,CreationDate,PostId,UserId FROM votes WHERE VoteTypeId==5\"\n",
    "votes_df = pd.read_sql_query(votes_query, conn)\n",
    "votes_df.CreationDate = pd.to_datetime(votes_df.CreationDate)"
   ]
  },
  {
   "cell_type": "code",
   "execution_count": 91,
   "metadata": {
    "collapsed": true
   },
   "outputs": [],
   "source": [
    "def getFavVoteCount(row):    \n",
    "    #get the past post ids from the user\n",
    "    postid_target = post_df[(post_df['OwnerUserId']== row['OwnerUserId'])&(post_df['CreationDate']< row['CreationDate'])].Id.tolist()\n",
    "    records = votes_df[(votes_df['PostId'].isin(postid_target)) & (votes_df['CreationDate']< row['CreationDate'])]\n",
    "    return records.shape[0]"
   ]
  },
  {
   "cell_type": "code",
   "execution_count": 92,
   "metadata": {
    "collapsed": true
   },
   "outputs": [],
   "source": [
    "#Total Up Votes by the time of new post\n",
    "TFVC = qpost_df.apply(getFavVoteCount,axis=1)"
   ]
  },
  {
   "cell_type": "code",
   "execution_count": 93,
   "metadata": {
    "collapsed": false
   },
   "outputs": [
    {
     "data": {
      "text/plain": [
       "0    51902\n",
       "1     6202\n",
       "2     3626\n",
       "3     2073\n",
       "4     1493\n",
       "dtype: int64"
      ]
     },
     "execution_count": 93,
     "metadata": {},
     "output_type": "execute_result"
    }
   ],
   "source": [
    "TFVC.value_counts().head()"
   ]
  },
  {
   "cell_type": "markdown",
   "metadata": {},
   "source": [
    "##Integrate all the Popularity Metrics features"
   ]
  },
  {
   "cell_type": "code",
   "execution_count": 94,
   "metadata": {
    "collapsed": true
   },
   "outputs": [],
   "source": [
    "qpost_df['AccpAnsCnt'] = tt\n",
    "qpost_df['AppEditCnt'] = AESC\n",
    "qpost_df['BadgeCnt'] = TBC\n",
    "qpost_df['CloDelVCnt'] = TCDV\n",
    "qpost_df['UpVoteCnt'] = TUVC\n",
    "qpost_df['DownVoteCnt'] = TDVC\n",
    "qpost_df['FavVoteCnt'] = TFVC"
   ]
  },
  {
   "cell_type": "code",
   "execution_count": 97,
   "metadata": {
    "collapsed": true
   },
   "outputs": [],
   "source": [
    "target_cols = ['Id','CreationDate','OwnerUserId','AccpAnsCnt','AppEditCnt','BadgeCnt','CloDelVCnt','UpVoteCnt',\\\n",
    "               'DownVoteCnt','FavVoteCnt','Score']"
   ]
  },
  {
   "cell_type": "code",
   "execution_count": 98,
   "metadata": {
    "collapsed": false
   },
   "outputs": [],
   "source": [
    "popularity_metric_df = qpost_df[target_cols]"
   ]
  },
  {
   "cell_type": "code",
   "execution_count": 102,
   "metadata": {
    "collapsed": false
   },
   "outputs": [
    {
     "data": {
      "text/html": [
       "<div>\n",
       "<table border=\"1\" class=\"dataframe\">\n",
       "  <thead>\n",
       "    <tr style=\"text-align: right;\">\n",
       "      <th></th>\n",
       "      <th>Id</th>\n",
       "      <th>CreationDate</th>\n",
       "      <th>OwnerUserId</th>\n",
       "      <th>AccpAnsCnt</th>\n",
       "      <th>AppEditCnt</th>\n",
       "      <th>BadgeCnt</th>\n",
       "      <th>CloDelVCnt</th>\n",
       "      <th>UpVoteCnt</th>\n",
       "      <th>DownVoteCnt</th>\n",
       "      <th>FavVoteCnt</th>\n",
       "      <th>Score</th>\n",
       "    </tr>\n",
       "  </thead>\n",
       "  <tbody>\n",
       "    <tr>\n",
       "      <th>0</th>\n",
       "      <td>1</td>\n",
       "      <td>2010-07-19 19:12:12.510</td>\n",
       "      <td>8.0</td>\n",
       "      <td>0</td>\n",
       "      <td>0</td>\n",
       "      <td>0</td>\n",
       "      <td>0</td>\n",
       "      <td>0</td>\n",
       "      <td>0</td>\n",
       "      <td>0</td>\n",
       "      <td>31</td>\n",
       "    </tr>\n",
       "    <tr>\n",
       "      <th>1</th>\n",
       "      <td>2</td>\n",
       "      <td>2010-07-19 19:12:57.157</td>\n",
       "      <td>24.0</td>\n",
       "      <td>0</td>\n",
       "      <td>0</td>\n",
       "      <td>0</td>\n",
       "      <td>0</td>\n",
       "      <td>0</td>\n",
       "      <td>0</td>\n",
       "      <td>0</td>\n",
       "      <td>26</td>\n",
       "    </tr>\n",
       "    <tr>\n",
       "      <th>2</th>\n",
       "      <td>3</td>\n",
       "      <td>2010-07-19 19:13:28.577</td>\n",
       "      <td>18.0</td>\n",
       "      <td>0</td>\n",
       "      <td>0</td>\n",
       "      <td>0</td>\n",
       "      <td>0</td>\n",
       "      <td>0</td>\n",
       "      <td>0</td>\n",
       "      <td>0</td>\n",
       "      <td>63</td>\n",
       "    </tr>\n",
       "    <tr>\n",
       "      <th>3</th>\n",
       "      <td>4</td>\n",
       "      <td>2010-07-19 19:13:31.617</td>\n",
       "      <td>23.0</td>\n",
       "      <td>0</td>\n",
       "      <td>0</td>\n",
       "      <td>0</td>\n",
       "      <td>0</td>\n",
       "      <td>0</td>\n",
       "      <td>0</td>\n",
       "      <td>0</td>\n",
       "      <td>15</td>\n",
       "    </tr>\n",
       "    <tr>\n",
       "      <th>4</th>\n",
       "      <td>6</td>\n",
       "      <td>2010-07-19 19:14:44.080</td>\n",
       "      <td>5.0</td>\n",
       "      <td>0</td>\n",
       "      <td>0</td>\n",
       "      <td>0</td>\n",
       "      <td>0</td>\n",
       "      <td>0</td>\n",
       "      <td>0</td>\n",
       "      <td>0</td>\n",
       "      <td>226</td>\n",
       "    </tr>\n",
       "    <tr>\n",
       "      <th>5</th>\n",
       "      <td>7</td>\n",
       "      <td>2010-07-19 19:15:59.303</td>\n",
       "      <td>38.0</td>\n",
       "      <td>0</td>\n",
       "      <td>0</td>\n",
       "      <td>0</td>\n",
       "      <td>0</td>\n",
       "      <td>0</td>\n",
       "      <td>0</td>\n",
       "      <td>0</td>\n",
       "      <td>87</td>\n",
       "    </tr>\n",
       "    <tr>\n",
       "      <th>6</th>\n",
       "      <td>8</td>\n",
       "      <td>2010-07-19 19:16:21.737</td>\n",
       "      <td>37.0</td>\n",
       "      <td>0</td>\n",
       "      <td>0</td>\n",
       "      <td>0</td>\n",
       "      <td>0</td>\n",
       "      <td>0</td>\n",
       "      <td>0</td>\n",
       "      <td>0</td>\n",
       "      <td>0</td>\n",
       "    </tr>\n",
       "    <tr>\n",
       "      <th>7</th>\n",
       "      <td>10</td>\n",
       "      <td>2010-07-19 19:17:47.537</td>\n",
       "      <td>24.0</td>\n",
       "      <td>0</td>\n",
       "      <td>0</td>\n",
       "      <td>0</td>\n",
       "      <td>0</td>\n",
       "      <td>6</td>\n",
       "      <td>0</td>\n",
       "      <td>0</td>\n",
       "      <td>32</td>\n",
       "    </tr>\n",
       "    <tr>\n",
       "      <th>8</th>\n",
       "      <td>11</td>\n",
       "      <td>2010-07-19 19:18:30.810</td>\n",
       "      <td>34.0</td>\n",
       "      <td>0</td>\n",
       "      <td>0</td>\n",
       "      <td>0</td>\n",
       "      <td>0</td>\n",
       "      <td>0</td>\n",
       "      <td>0</td>\n",
       "      <td>0</td>\n",
       "      <td>3</td>\n",
       "    </tr>\n",
       "    <tr>\n",
       "      <th>9</th>\n",
       "      <td>17</td>\n",
       "      <td>2010-07-19 19:24:12.187</td>\n",
       "      <td>NaN</td>\n",
       "      <td>0</td>\n",
       "      <td>0</td>\n",
       "      <td>0</td>\n",
       "      <td>0</td>\n",
       "      <td>0</td>\n",
       "      <td>0</td>\n",
       "      <td>0</td>\n",
       "      <td>10</td>\n",
       "    </tr>\n",
       "  </tbody>\n",
       "</table>\n",
       "</div>"
      ],
      "text/plain": [
       "   Id            CreationDate  OwnerUserId  AccpAnsCnt  AppEditCnt  BadgeCnt  \\\n",
       "0   1 2010-07-19 19:12:12.510          8.0           0           0         0   \n",
       "1   2 2010-07-19 19:12:57.157         24.0           0           0         0   \n",
       "2   3 2010-07-19 19:13:28.577         18.0           0           0         0   \n",
       "3   4 2010-07-19 19:13:31.617         23.0           0           0         0   \n",
       "4   6 2010-07-19 19:14:44.080          5.0           0           0         0   \n",
       "5   7 2010-07-19 19:15:59.303         38.0           0           0         0   \n",
       "6   8 2010-07-19 19:16:21.737         37.0           0           0         0   \n",
       "7  10 2010-07-19 19:17:47.537         24.0           0           0         0   \n",
       "8  11 2010-07-19 19:18:30.810         34.0           0           0         0   \n",
       "9  17 2010-07-19 19:24:12.187          NaN           0           0         0   \n",
       "\n",
       "   CloDelVCnt  UpVoteCnt  DownVoteCnt  FavVoteCnt  Score  \n",
       "0           0          0            0           0     31  \n",
       "1           0          0            0           0     26  \n",
       "2           0          0            0           0     63  \n",
       "3           0          0            0           0     15  \n",
       "4           0          0            0           0    226  \n",
       "5           0          0            0           0     87  \n",
       "6           0          0            0           0      0  \n",
       "7           0          6            0           0     32  \n",
       "8           0          0            0           0      3  \n",
       "9           0          0            0           0     10  "
      ]
     },
     "execution_count": 102,
     "metadata": {},
     "output_type": "execute_result"
    }
   ],
   "source": [
    "popularity_metric_df.head(10)"
   ]
  },
  {
   "cell_type": "code",
   "execution_count": 99,
   "metadata": {
    "collapsed": true
   },
   "outputs": [],
   "source": [
    "import pickle\n",
    "with open('popularity_metric.pickle', 'wb') as handle:\n",
    "    pickle.dump(popularity_metric_df, handle)"
   ]
  }
 ],
 "metadata": {
  "kernelspec": {
   "display_name": "Python 2",
   "language": "python",
   "name": "python2"
  },
  "language_info": {
   "codemirror_mode": {
    "name": "ipython",
    "version": 2
   },
   "file_extension": ".py",
   "mimetype": "text/x-python",
   "name": "python",
   "nbconvert_exporter": "python",
   "pygments_lexer": "ipython2",
   "version": "2.7.11"
  }
 },
 "nbformat": 4,
 "nbformat_minor": 0
}
