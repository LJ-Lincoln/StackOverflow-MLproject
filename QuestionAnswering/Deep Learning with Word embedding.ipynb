{
 "cells": [
  {
   "cell_type": "code",
   "execution_count": 1,
   "metadata": {
    "collapsed": false
   },
   "outputs": [
    {
     "name": "stderr",
     "output_type": "stream",
     "text": [
      "Using Theano backend.\n"
     ]
    }
   ],
   "source": [
    "from keras.preprocessing import sequence\n",
    "from keras.utils import np_utils\n",
    "from keras.models import Sequential\n",
    "from keras.layers import Dense, Dropout, Activation, Embedding\n",
    "from keras.layers import Convolution1D, MaxPooling1D\n",
    "from keras.layers import LSTM, SimpleRNN, GRU\n",
    "from keras.datasets import imdb"
   ]
  },
  {
   "cell_type": "code",
   "execution_count": 14,
   "metadata": {
    "collapsed": false
   },
   "outputs": [],
   "source": [
    "from keras.layers import Dense\n",
    "from keras.wrappers.scikit_learn import KerasClassifier\n",
    "from sklearn.cross_validation import StratifiedKFold\n",
    "from sklearn.preprocessing import StandardScaler\n",
    "from sklearn.pipeline import Pipeline\n",
    "from sklearn.cross_validation import cross_val_score"
   ]
  },
  {
   "cell_type": "code",
   "execution_count": 2,
   "metadata": {
    "collapsed": true
   },
   "outputs": [],
   "source": [
    "import numpy as np\n",
    "import pickle"
   ]
  },
  {
   "cell_type": "code",
   "execution_count": 5,
   "metadata": {
    "collapsed": true
   },
   "outputs": [],
   "source": [
    "seed = 7"
   ]
  },
  {
   "cell_type": "markdown",
   "metadata": {},
   "source": [
    "#Read Data"
   ]
  },
  {
   "cell_type": "code",
   "execution_count": 8,
   "metadata": {
    "collapsed": false
   },
   "outputs": [],
   "source": [
    "with open('../Data/train_arrays_1.pickle', 'rb') as handle:\n",
    "  train_matrix = pickle.load(handle)\n",
    "with open('../Data/test_arrays_1.pickle', 'rb') as handle:\n",
    "  test_matrix = pickle.load(handle)"
   ]
  },
  {
   "cell_type": "code",
   "execution_count": 18,
   "metadata": {
    "collapsed": false
   },
   "outputs": [],
   "source": [
    "with open('../Data/train_label.pickle', 'rb') as handle:\n",
    "  y_train = pickle.load(handle)\n",
    "with open('../Data/test_label.pickle', 'rb') as handle:\n",
    "  y_test = pickle.load(handle)"
   ]
  },
  {
   "cell_type": "markdown",
   "metadata": {},
   "source": [
    "##Baseline Model - doc2vec followed Multi Layer Percetrons "
   ]
  },
  {
   "cell_type": "code",
   "execution_count": 31,
   "metadata": {
    "collapsed": true
   },
   "outputs": [],
   "source": [
    "np.random.seed(seed)\n",
    "model = Sequential()\n",
    "model.add(Dense(50, input_dim=100, init='normal', activation='relu')) \n",
    "model.add(Dense(25, init='normal', activation='relu'))\n",
    "model.add(Dense(1, init='normal', activation='sigmoid'))\n",
    "# Compile model\n",
    "model.compile(loss='binary_crossentropy', optimizer='adam', metrics=['accuracy']) "
   ]
  },
  {
   "cell_type": "code",
   "execution_count": null,
   "metadata": {
    "collapsed": true
   },
   "outputs": [],
   "source": [
    "# Fit the model\n",
    "model.fit(train_matrix, y_train, validation_data=(test_matrix, y_test), nb_epoch=20, batch_size=100,\n",
    "    verbose=1)\n",
    "# Final evaluation of the model\n",
    "scores = model.evaluate(test_matrix, y_test, verbose=0)\n",
    "print(\"Accuracy: %.2f%%\" % (scores[1]*100)) "
   ]
  },
  {
   "cell_type": "markdown",
   "metadata": {},
   "source": [
    "##Word Embedding (with pretrained model)"
   ]
  },
  {
   "cell_type": "code",
   "execution_count": 11,
   "metadata": {
    "collapsed": true
   },
   "outputs": [],
   "source": [
    "#from gensim.models.word2vec import Word2Vec\n",
    "#word_vectors_fname = '../Data/GoogleNews-vectors-negative300.bin.gz'"
   ]
  },
  {
   "cell_type": "code",
   "execution_count": 8,
   "metadata": {
    "collapsed": true
   },
   "outputs": [],
   "source": [
    "def word2index(tokens):\n",
    "    indexes = np.zeros(len(tokens), dtype=int)\n",
    "    for i, token in enumerate(tokens):\n",
    "        try:\n",
    "            indexes[i] = w2v.vocab[token].index\n",
    "        except KeyError:\n",
    "            pass\n",
    "    return indexes"
   ]
  },
  {
   "cell_type": "code",
   "execution_count": 9,
   "metadata": {
    "collapsed": true
   },
   "outputs": [],
   "source": [
    "def index2vector(indexes, word2vec_model):\n",
    "    samples = indexes.shape[0]\n",
    "    tokens = indexes.shape[1]\n",
    "    dim = word2vec_model.syn0.shape[1]\n",
    "    x = np.ndarray((samples, 1, tokens, dim), dtype=object)\n",
    "    for i in range(samples):\n",
    "        doc = np.ndarray((tokens, dim))\n",
    "        for j in range(tokens):\n",
    "            doc[j] = word2vec_model.syn0[indexes[i][j]]\n",
    "        x[i] = doc\n",
    "    return x"
   ]
  },
  {
   "cell_type": "code",
   "execution_count": 10,
   "metadata": {
    "collapsed": true
   },
   "outputs": [],
   "source": [
    "def vectorize(boilerplate, nb_tokens, word2vec_model):\n",
    "    tokenized = [word2index(text_to_word_sequence(t)) for t in boilerplate]\n",
    "    padded = pad_sequences(tokenized, maxlen=nb_tokens)\n",
    "    return index2vector(padded, word2vec_model)"
   ]
  },
  {
   "cell_type": "code",
   "execution_count": null,
   "metadata": {
    "collapsed": true
   },
   "outputs": [],
   "source": [
    "w2v.syn0.shape"
   ]
  },
  {
   "cell_type": "code",
   "execution_count": null,
   "metadata": {
    "collapsed": true
   },
   "outputs": [],
   "source": [
    "embedding_dim = 300\n",
    "nb_rows = 1\n",
    "nb_tokens = 500\n",
    "nb_feature_maps = 100\n",
    "ngram_filters = [3, 4, 5, 6, 7, 8]\n",
    "batch_size = 32\n",
    "nb_epoch = 2"
   ]
  },
  {
   "cell_type": "code",
   "execution_count": null,
   "metadata": {
    "collapsed": true
   },
   "outputs": [],
   "source": [
    "X_train = vectorize(X_train, nb_tokens, w2v）"
   ]
  },
  {
   "cell_type": "code",
   "execution_count": null,
   "metadata": {
    "collapsed": true
   },
   "outputs": [],
   "source": [
    "print('X_train:')\n",
    "(type(X_train), X_train.shape, X_train.shape[1:], y_train.shape)"
   ]
  },
  {
   "cell_type": "markdown",
   "metadata": {},
   "source": [
    "#Word embedding(simple one word2vec)"
   ]
  },
  {
   "cell_type": "code",
   "execution_count": 22,
   "metadata": {
    "collapsed": false
   },
   "outputs": [],
   "source": [
    "import nltk\n",
    "from nltk import FreqDist\n",
    "import pandas as pd\n",
    "import itertools\n",
    "import numpy as np"
   ]
  },
  {
   "cell_type": "code",
   "execution_count": 2,
   "metadata": {
    "collapsed": false
   },
   "outputs": [],
   "source": [
    "data = pd.read_csv('../Data/allans_forDL.csv', header=None, delimiter=\"\\t\",names=['ID','Body','Source','Quality'])"
   ]
  },
  {
   "cell_type": "code",
   "execution_count": 3,
   "metadata": {
    "collapsed": false
   },
   "outputs": [
    {
     "data": {
      "text/html": [
       "<div>\n",
       "<table border=\"1\" class=\"dataframe\">\n",
       "  <thead>\n",
       "    <tr style=\"text-align: right;\">\n",
       "      <th></th>\n",
       "      <th>ID</th>\n",
       "      <th>Body</th>\n",
       "      <th>Source</th>\n",
       "      <th>Quality</th>\n",
       "    </tr>\n",
       "  </thead>\n",
       "  <tbody>\n",
       "    <tr>\n",
       "      <th>0</th>\n",
       "      <td>AnsID:5</td>\n",
       "      <td>the r-project http:  www.r-project.org  (refli...</td>\n",
       "      <td>test</td>\n",
       "      <td>good</td>\n",
       "    </tr>\n",
       "    <tr>\n",
       "      <th>1</th>\n",
       "      <td>AnsID:9</td>\n",
       "      <td>incanter (reflink)  is a clojure-based, r-like...</td>\n",
       "      <td>train</td>\n",
       "      <td>good</td>\n",
       "    </tr>\n",
       "    <tr>\n",
       "      <th>2</th>\n",
       "      <td>AnsID:12</td>\n",
       "      <td>see my response to \"datasets for running stati...</td>\n",
       "      <td>train</td>\n",
       "      <td>good</td>\n",
       "    </tr>\n",
       "    <tr>\n",
       "      <th>3</th>\n",
       "      <td>AnsID:13</td>\n",
       "      <td>machine learning seems to have its basis in th...</td>\n",
       "      <td>train</td>\n",
       "      <td>good</td>\n",
       "    </tr>\n",
       "    <tr>\n",
       "      <th>4</th>\n",
       "      <td>AnsID:14</td>\n",
       "      <td>i second that jay. why is r valuable? here's a...</td>\n",
       "      <td>test</td>\n",
       "      <td>good</td>\n",
       "    </tr>\n",
       "  </tbody>\n",
       "</table>\n",
       "</div>"
      ],
      "text/plain": [
       "         ID                                               Body Source Quality\n",
       "0   AnsID:5  the r-project http:  www.r-project.org  (refli...   test    good\n",
       "1   AnsID:9  incanter (reflink)  is a clojure-based, r-like...  train    good\n",
       "2  AnsID:12  see my response to \"datasets for running stati...  train    good\n",
       "3  AnsID:13  machine learning seems to have its basis in th...  train    good\n",
       "4  AnsID:14  i second that jay. why is r valuable? here's a...   test    good"
      ]
     },
     "execution_count": 3,
     "metadata": {},
     "output_type": "execute_result"
    }
   ],
   "source": [
    "data.head()"
   ]
  },
  {
   "cell_type": "code",
   "execution_count": 4,
   "metadata": {
    "collapsed": true
   },
   "outputs": [],
   "source": [
    "train = data[data['Source']=='train']"
   ]
  },
  {
   "cell_type": "code",
   "execution_count": 5,
   "metadata": {
    "collapsed": false
   },
   "outputs": [
    {
     "data": {
      "text/plain": [
       "(44598, 4)"
      ]
     },
     "execution_count": 5,
     "metadata": {},
     "output_type": "execute_result"
    }
   ],
   "source": [
    "train.shape"
   ]
  },
  {
   "cell_type": "code",
   "execution_count": 6,
   "metadata": {
    "collapsed": true
   },
   "outputs": [],
   "source": [
    "sentences = itertools.chain(*[nltk.sent_tokenize(x.decode('utf-8').lower()) for x in data.Body])"
   ]
  },
  {
   "cell_type": "code",
   "execution_count": 7,
   "metadata": {
    "collapsed": true
   },
   "outputs": [],
   "source": [
    "tokenized_sentences = [nltk.word_tokenize(sent) for sent in sentences]"
   ]
  },
  {
   "cell_type": "code",
   "execution_count": 8,
   "metadata": {
    "collapsed": false
   },
   "outputs": [
    {
     "name": "stdout",
     "output_type": "stream",
     "text": [
      "Found 99562 unique words tokens.\n"
     ]
    }
   ],
   "source": [
    "word_fred = nltk.FreqDist(itertools.chain(*tokenized_sentences))\n",
    "print \"Found %d unique words tokens.\" % len(word_fred.items())"
   ]
  },
  {
   "cell_type": "code",
   "execution_count": 9,
   "metadata": {
    "collapsed": false
   },
   "outputs": [],
   "source": [
    "vobcabulary_size = 8000\n",
    "vocab = word_fred.most_common(vobcabulary_size-1)\n",
    "index_to_word = [x[0] for x in vocab]\n",
    "index_to_word.append(\"UNKNOWN_TOKEN\")\n",
    "word_to_index = dict([(w,i) for i,w in enumerate(index_to_word)])"
   ]
  },
  {
   "cell_type": "code",
   "execution_count": 10,
   "metadata": {
    "collapsed": false
   },
   "outputs": [
    {
     "name": "stdout",
     "output_type": "stream",
     "text": [
      "The lease frequent word in our vocabulary is 'succinctly' and appeared 37 times\n"
     ]
    }
   ],
   "source": [
    "print \"The lease frequent word in our vocabulary is '%s' and appeared %d times\"% (vocab[-1][0],vocab[-1][1])"
   ]
  },
  {
   "cell_type": "code",
   "execution_count": 11,
   "metadata": {
    "collapsed": false
   },
   "outputs": [
    {
     "name": "stdout",
     "output_type": "stream",
     "text": [
      "Found 99637 unique words tokens.\n"
     ]
    },
    {
     "data": {
      "text/plain": [
       "(\"'success\", 37)"
      ]
     },
     "execution_count": 11,
     "metadata": {},
     "output_type": "execute_result"
    }
   ],
   "source": [
    "#whole_corpus = ' '.join(data['Body'])\n",
    "#tokens = nltk.word_tokenize(whole_corpus)\n",
    "#fdist = nltk.FreqDist(tokens)\n",
    "#print \"Found %d unique words tokens.\" % len(fdist.items())\n",
    "#fdist.most_common(8000)[7999]"
   ]
  },
  {
   "cell_type": "code",
   "execution_count": 19,
   "metadata": {
    "collapsed": false
   },
   "outputs": [],
   "source": [
    "train_index = []\n",
    "for ans in train['Body']:\n",
    "    tmp = []\n",
    "    word_ls = nltk.word_tokenize(ans)\n",
    "    for x in word_ls:\n",
    "        if word_to_index.has_key(x):\n",
    "            tmp.append(word_to_index[x])\n",
    "        else:\n",
    "            tmp.append(word_to_index[\"UNKNOWN_TOKEN\"])\n",
    "    train_index.append(tmp)\n"
   ]
  },
  {
   "cell_type": "code",
   "execution_count": 20,
   "metadata": {
    "collapsed": false
   },
   "outputs": [
    {
     "data": {
      "text/plain": [
       "[7999,\n",
       " 11,\n",
       " 32,\n",
       " 9,\n",
       " 5,\n",
       " 6,\n",
       " 7999,\n",
       " 2,\n",
       " 7999,\n",
       " 5118,\n",
       " 11,\n",
       " 2671,\n",
       " 490,\n",
       " 2737,\n",
       " 9,\n",
       " 15,\n",
       " 187,\n",
       " 885,\n",
       " 10,\n",
       " 2382,\n",
       " 1]"
      ]
     },
     "execution_count": 20,
     "metadata": {},
     "output_type": "execute_result"
    }
   ],
   "source": [
    "train_index[0]"
   ]
  },
  {
   "cell_type": "code",
   "execution_count": 36,
   "metadata": {
    "collapsed": true
   },
   "outputs": [],
   "source": [
    "test = data[data['Source']=='test']\n",
    "test_index = []\n",
    "for ans in test['Body']:\n",
    "    tmp = []\n",
    "    word_ls = nltk.word_tokenize(ans)\n",
    "    for x in word_ls:\n",
    "        if word_to_index.has_key(x):\n",
    "            tmp.append(word_to_index[x])\n",
    "        else:\n",
    "            tmp.append(word_to_index[\"UNKNOWN_TOKEN\"])\n",
    "    test_index.append(tmp)"
   ]
  },
  {
   "cell_type": "code",
   "execution_count": 37,
   "metadata": {
    "collapsed": false
   },
   "outputs": [
    {
     "data": {
      "text/plain": [
       "29733"
      ]
     },
     "execution_count": 37,
     "metadata": {},
     "output_type": "execute_result"
    }
   ],
   "source": [
    "len(test_index)"
   ]
  },
  {
   "cell_type": "markdown",
   "metadata": {},
   "source": [
    "##Prepare dataset"
   ]
  },
  {
   "cell_type": "code",
   "execution_count": 39,
   "metadata": {
    "collapsed": false
   },
   "outputs": [],
   "source": [
    "import pickle\n",
    "maxlen = 100\n",
    "X_train = np.array(train_index)\n",
    "X_test = np.array(test_index)\n",
    "X_train = sequence.pad_sequences(X_train, maxlen=maxlen)\n",
    "X_test = sequence.pad_sequences(X_test, maxlen=maxlen)\n",
    "with open('../Data/X_train.pickle', 'wb') as handle:\n",
    "    pickle.dump(X_train,handle)\n",
    "with open('../Data/X_test.pickle', 'wb') as handle:\n",
    "    pickle.dump(X_test,handle)"
   ]
  },
  {
   "cell_type": "markdown",
   "metadata": {},
   "source": [
    "# Build a LSTM RNN model"
   ]
  },
  {
   "cell_type": "code",
   "execution_count": 33,
   "metadata": {
    "collapsed": true
   },
   "outputs": [],
   "source": [
    "with open('../Data/X_train.pickle', 'rb') as handle:\n",
    "  X_train = pickle.load(handle)\n",
    "with open('../Data/X_test.pickle', 'rb') as handle:\n",
    "  X_test = pickle.load(handle)"
   ]
  },
  {
   "cell_type": "code",
   "execution_count": 4,
   "metadata": {
    "collapsed": true
   },
   "outputs": [],
   "source": [
    "with open('../Data/train_label.pickle', 'rb') as handle:\n",
    "  y_train = pickle.load(handle)\n",
    "with open('../Data/test_label.pickle', 'rb') as handle:\n",
    "  y_test = pickle.load(handle)"
   ]
  },
  {
   "cell_type": "code",
   "execution_count": 22,
   "metadata": {
    "collapsed": true
   },
   "outputs": [],
   "source": [
    "y_train = y_train.astype('float32')\n",
    "y_test = y_test.astype('float32')"
   ]
  },
  {
   "cell_type": "code",
   "execution_count": 18,
   "metadata": {
    "collapsed": false
   },
   "outputs": [
    {
     "data": {
      "text/plain": [
       "numpy.ndarray"
      ]
     },
     "execution_count": 18,
     "metadata": {},
     "output_type": "execute_result"
    }
   ],
   "source": [
    "type(X_train)"
   ]
  },
  {
   "cell_type": "code",
   "execution_count": 21,
   "metadata": {
    "collapsed": false
   },
   "outputs": [
    {
     "data": {
      "text/plain": [
       "(29733,)"
      ]
     },
     "execution_count": 21,
     "metadata": {},
     "output_type": "execute_result"
    }
   ],
   "source": [
    "y_test.shape"
   ]
  },
  {
   "cell_type": "code",
   "execution_count": 38,
   "metadata": {
    "collapsed": true
   },
   "outputs": [],
   "source": [
    "max_features = 8001\n",
    "maxlen = 100\n",
    "\n",
    "model = Sequential()\n",
    "model.add(Embedding(max_features, 128, input_length=maxlen))\n",
    "model.add(LSTM(128))\n",
    "model.add(Dropout(0.5))\n",
    "model.add(Dense(10, init='normal', activation='relu'))\n",
    "model.add(Dense(1))\n",
    "model.add(Activation('sigmoid'))"
   ]
  },
  {
   "cell_type": "code",
   "execution_count": 39,
   "metadata": {
    "collapsed": false
   },
   "outputs": [],
   "source": [
    "model.compile(loss='binary_crossentropy', optimizer='adam', metrics=['accuracy'])"
   ]
  },
  {
   "cell_type": "code",
   "execution_count": 40,
   "metadata": {
    "collapsed": false
   },
   "outputs": [
    {
     "name": "stdout",
     "output_type": "stream",
     "text": [
      "____________________________________________________________________________________________________\n",
      "Layer (type)                     Output Shape          Param #     Connected to                     \n",
      "====================================================================================================\n",
      "embedding_3 (Embedding)          (None, 100, 128)      1024128     embedding_input_3[0][0]          \n",
      "____________________________________________________________________________________________________\n",
      "lstm_3 (LSTM)                    (None, 128)           131584      embedding_3[0][0]                \n",
      "____________________________________________________________________________________________________\n",
      "dropout_3 (Dropout)              (None, 128)           0           lstm_3[0][0]                     \n",
      "____________________________________________________________________________________________________\n",
      "dense_4 (Dense)                  (None, 10)            1290        dropout_3[0][0]                  \n",
      "____________________________________________________________________________________________________\n",
      "dense_5 (Dense)                  (None, 1)             11          dense_4[0][0]                    \n",
      "____________________________________________________________________________________________________\n",
      "activation_3 (Activation)        (None, 1)             0           dense_5[0][0]                    \n",
      "====================================================================================================\n",
      "Total params: 1157013\n",
      "____________________________________________________________________________________________________\n"
     ]
    }
   ],
   "source": [
    "model.summary()"
   ]
  },
  {
   "cell_type": "code",
   "execution_count": 41,
   "metadata": {
    "collapsed": false
   },
   "outputs": [
    {
     "name": "stdout",
     "output_type": "stream",
     "text": [
      "Train on 44598 samples, validate on 29733 samples\n",
      "Epoch 1/4\n",
      "44598/44598 [==============================] - 320s - loss: 0.6829 - acc: 0.5669 - val_loss: 0.7356 - val_acc: 0.4191\n",
      "Epoch 2/4\n",
      "44598/44598 [==============================] - 311s - loss: 0.6679 - acc: 0.5951 - val_loss: 0.7714 - val_acc: 0.3923\n",
      "Epoch 3/4\n",
      "44598/44598 [==============================] - 303s - loss: 0.6315 - acc: 0.6466 - val_loss: 0.8449 - val_acc: 0.3924\n",
      "Epoch 4/4\n",
      "44598/44598 [==============================] - 326s - loss: 0.5863 - acc: 0.6926 - val_loss: 0.9476 - val_acc: 0.3946\n"
     ]
    },
    {
     "data": {
      "text/plain": [
       "<keras.callbacks.History at 0x10874c090>"
      ]
     },
     "execution_count": 41,
     "metadata": {},
     "output_type": "execute_result"
    }
   ],
   "source": [
    "model.fit(X_train, y_train, batch_size=100, nb_epoch=4, validation_data=(X_test, y_test),verbose=1)"
   ]
  },
  {
   "cell_type": "code",
   "execution_count": 42,
   "metadata": {
    "collapsed": false
   },
   "outputs": [
    {
     "name": "stdout",
     "output_type": "stream",
     "text": [
      "29733/29733 [==============================] - 45s    \n",
      "('Test score:', 0.94759032315372016)\n",
      "('Test accuracy:', 0.39464567767115571)\n"
     ]
    }
   ],
   "source": [
    "score, acc = model.evaluate(X_test, y_test, batch_size=100)\n",
    "print('Test score:', score)\n",
    "print('Test accuracy:', acc)"
   ]
  },
  {
   "cell_type": "code",
   "execution_count": 32,
   "metadata": {
    "collapsed": false
   },
   "outputs": [
    {
     "data": {
      "text/plain": [
       "dtype('float32')"
      ]
     },
     "execution_count": 32,
     "metadata": {},
     "output_type": "execute_result"
    }
   ],
   "source": [
    "y_train.dtype"
   ]
  },
  {
   "cell_type": "code",
   "execution_count": null,
   "metadata": {
    "collapsed": true
   },
   "outputs": [],
   "source": []
  }
 ],
 "metadata": {
  "kernelspec": {
   "display_name": "Python 2",
   "language": "python",
   "name": "python2"
  },
  "language_info": {
   "codemirror_mode": {
    "name": "ipython",
    "version": 2
   },
   "file_extension": ".py",
   "mimetype": "text/x-python",
   "name": "python",
   "nbconvert_exporter": "python",
   "pygments_lexer": "ipython2",
   "version": "2.7.11"
  }
 },
 "nbformat": 4,
 "nbformat_minor": 0
}
