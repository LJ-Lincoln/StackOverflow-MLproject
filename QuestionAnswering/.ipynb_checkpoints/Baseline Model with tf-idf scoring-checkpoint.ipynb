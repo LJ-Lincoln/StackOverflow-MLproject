{
 "cells": [
  {
   "cell_type": "code",
   "execution_count": 1,
   "metadata": {
    "collapsed": false
   },
   "outputs": [
    {
     "name": "stderr",
     "output_type": "stream",
     "text": [
      "Using Theano backend.\n"
     ]
    }
   ],
   "source": [
    "from sklearn.feature_extraction.text import TfidfVectorizer\n",
    "from sklearn.preprocessing import LabelEncoder\n",
    "from sklearn import cross_validation\n",
    "from keras.utils import np_utils"
   ]
  },
  {
   "cell_type": "code",
   "execution_count": 2,
   "metadata": {
    "collapsed": false
   },
   "outputs": [],
   "source": [
    "from textblob import Word"
   ]
  },
  {
   "cell_type": "code",
   "execution_count": 3,
   "metadata": {
    "collapsed": true
   },
   "outputs": [],
   "source": [
    "import pandas as pd\n",
    "import numpy as np\n",
    "import pickle"
   ]
  },
  {
   "cell_type": "code",
   "execution_count": 4,
   "metadata": {
    "collapsed": false
   },
   "outputs": [],
   "source": [
    "with open('../Data/ans_clean_text.pickle', 'rb') as handle:\n",
    "  ans_clean_text = pickle.load(handle)"
   ]
  },
  {
   "cell_type": "code",
   "execution_count": 23,
   "metadata": {
    "collapsed": true
   },
   "outputs": [],
   "source": [
    "# Initialize the \"CountVectorizer\" object, which is scikit-learn's\n",
    "# bag of words tool.  \n",
    "vectorizer = TfidfVectorizer(analyzer = \"word\",   \\\n",
    "                             tokenizer = None,    \\\n",
    "                             preprocessor = None, \\\n",
    "                             stop_words = None,   \\\n",
    "                             min_df = 0.1,\n",
    "                             max_features = 8000) \n",
    "\n",
    "# fit_transform() does two functions: First, it fits the model\n",
    "# and learns the vocabulary; second, it transforms our training data\n",
    "# into feature vectors. The input to fit_transform should be a list of \n",
    "# strings.\n",
    "data_features = vectorizer.fit_transform(ans_clean_text)\n",
    "\n",
    "# Numpy arrays are easy to work with, so convert the result to an \n",
    "# array\n",
    "data_features = data_features.toarray()"
   ]
  },
  {
   "cell_type": "code",
   "execution_count": 24,
   "metadata": {
    "collapsed": false
   },
   "outputs": [
    {
     "name": "stdout",
     "output_type": "stream",
     "text": [
      "(74331, 5000)\n",
      "[u'aa', u'ab', u'abc', u'ability', u'able', u'abline', u'absence', u'absent', u'absolute', u'absolutely', u'abstract', u'abundance', u'abuse', u'ac', u'academic', u'acc', u'accept', u'acceptable', u'acceptance', u'accepted', u'accepting', u'access', u'accessible', u'accident', u'accommodate', u'accompanying', u'accomplish', u'accomplished', u'according', u'accordingly', u'account', u'accounted', u'accounting', u'accuracy', u'accurate', u'accurately', u'ace', u'acf', u'achieve', u'achieved', u'achieves', u'achieving', u'across', u'act', u'action', u'activation', u'active', u'activity', u'actual', u'actually', u'ad', u'adaboost', u'adapt', u'adaptation', u'adapted', u'adaptive', u'add', u'added', u'adding', u'addition', u'additional', u'additionally', u'additive', u'address', u'addressed', u'addressing', u'adequate', u'adequately', u'adf', u'adj', u'adjacent', u'adjust', u'adjusted', u'adjusting', u'adjustment', u'adjusts', u'admit', u'admittedly', u'adopt', u'adult', u'advance', u'advanced', u'advantage', u'advertising', u'advice', u'advisable', u'advise', u'advised', u'advocate', u'aes', u'affect', u'affected', u'affecting', u'affine', u'afford', u'aforementioned', u'afraid', u'afterwards', u'age', u'agent', u'aggregate', u'aggregated', u'aggregating', u'aggregation', u'ago', u'agree', u'agreement', u'agrees', u'agresti', u'ahead', u'ai', u'aic', u'aicc', u'aid', u'aim', u'aimed', u'air', u'aka', u'akaike', u'akin', u'al', u'alarm', u'albeit', u'algebra', u'algebraic', u'algebraically', u'algorithm', u'algorithmic', u'align', u'aligned', u'allele', u'allocation', u'allow', u'allowed', u'allowing', u'allows', u'almost', u'alone', u'along', u'alpha', u'alphabet', u'already', u'also', u'alt', u'alter', u'alternate', u'alternative', u'alternatively', u'although', u'altogether', u'always', u'amazing', u'amazon', u'ambiguity', u'ambiguous', u'amelia', u'american', u'amoeba', u'among', u'amongst', u'amount', u'amplitude', u'an', u'analog', u'analogous', u'analogue', u'analogy', u'analyse', u'analysing', u'analysis', u'analyst', u'analytic', u'analytical', u'analytically', u'analytics', u'analyze', u'analyzed', u'analyzing', u'ancova', u'anderson', u'andrew', u'andy', u'angle', u'animal', u'ann', u'annals', u'annealing', u'annual', u'anomaly', u'another', u'anova', u'answer', u'answered', u'answering', u'anti', u'anxiety', u'anybody', u'anymore', u'anyone', u'anything', u'anyway', u'anyways', u'anywhere', u'aov', u'apart', u'api', u'apology', u'apparent', u'apparently', u'appeal', u'appealing', u'appear', u'appearance', u'appeared', u'appearing', u'appears', u'append', u'appendix', u'apple', u'applicable', u'application', u'applied', u'applies', u'apply', u'applying', u'appreciate', u'approach', u'approaching', u'appropriate', u'appropriately', u'approx', u'approximate', u'approximated', u'approximately', u'approximates', u'approximating', u'approximation', u'apriori', u'ar', u'arbitrarily', u'arbitrary', u'arch', u'architecture', u'area', u'aren', u'arg', u'arguably', u'argue', u'argued', u'argument', u'arima', u'arimax', u'arise', u'arises', u'arising', u'arithmetic', u'arm', u'arma', u'armax', u'around', u'arrange', u'arranged', u'arrangement', u'array', u'arrival', u'arrive', u'arrived', u'arrow', u'art', u'article', u'artifact', u'artificial', u'artificially', u'arxiv', u'aside', u'ask', u'asked', u'asking', u'asks', u'aspect', u'ass', u'assert', u'assertion', u'assessed', u'assessing', u'assessment', u'asset', u'assign', u'assigned', u'assigning', u'assignment', u'assigns', u'assistant', u'associate', u'associated', u'association', u'assume', u'assumed', u'assumes', u'assuming', u'assumption', u'asymmetric', u'asymmetry', u'asymptotic', u'asymptotically', u'asymptotics', u'atom', u'attach', u'attached', u'attack', u'attempt', u'attempted', u'attempting', u'attention', u'attitude', u'attr', u'attractive', u'attribute', u'attributed', u'auc', u'audience', u'augmented', u'author', u'auto', u'autobox', u'autocorrelated', u'autocorrelation', u'autocorrelations', u'autoencoder', u'automated', u'automatic', u'automatically', u'autoregression', u'autoregressive', u'auxiliary', u'available', u'average', u'averaged', u'averaging', u'avg', u'avoid', u'avoided', u'avoiding', u'avoids', u'aware', u'away', u'ax', u'axiom', u'axis', u'baby', u'back', u'background', u'backpropagation', u'backward', u'backwards', u'bad', u'badly', u'bag', u'bagging', u'balance', u'balanced', u'balancing', u'ball', u'band', u'bandwidth', u'bank', u'bar', u'barely', u'bartlett', u'base', u'based', u'baseline', u'basic', u'basically', u'basis', u'basket', u'batch', u'bates', u'bayes', u'bayesian', u'bayesians', u'bb', u'bc', u'bear', u'bearing', u'beat', u'beautiful', u'beauty', u'became', u'become', u'becomes', u'becoming', u'beforehand', u'begin', u'beginner', u'beginning', u'behave', u'behaved', u'behaves', u'behavior', u'behavioral', u'behaviour', u'behind', u'belief', u'believe', u'bell', u'belong', u'belonging', u'belongs', u'ben', u'benchmark', u'beneficial', u'benefit', u'benjamini', u'berger', u'bernoulli', u'besides', u'best', u'bet', u'beta', u'better', u'betting', u'beware', u'beyond', u'bf', u'bfgs', u'bi', u'bias', u'biased', u'bic', u'big', u'bigg', u'bigger', u'biggest', u'bigr', u'bill', u'billion', u'bimodal', u'bin', u'binary', u'binned', u'binning', u'binom', u'binomial', u'bioinformatics', u'biological', u'biology', u'biometrics', u'biometrika', u'biostatistics', u'biplot', u'bird', u'birth', u'birthday', u'bishop', u'bit', u'bivariate', u'black', u'blank', u'blind', u'blindly', u'block', u'blocking', u'blog', u'blood', u'blue', u'bmatrix', u'bmi', u'board', u'body', u'boil', u'boldsymbol', u'boltzmann', u'bonferroni', u'book', u'boolean', u'boosted', u'boosting', u'boot', u'bootstrap', u'bootstrapped', u'bootstrapping', u'border', u'borel', u'born', u'bother', u'bottom', u'bought', u'bound', u'boundary', u'bounded', u'box', u'boxplot', u'boxplots', u'boy', u'bp', u'br', u'bracket', u'brain', u'branch', u'brand', u'break', u'breakdown', u'breaking', u'breakpoint', u'breakpoints', u'breiman', u'breusch', u'brief', u'briefly', u'brier', u'bring', u'brings', u'broad', u'broader', u'broadly', u'broken', u'brought', u'brown', u'brownian', u'brute', u'btw', u'bubble', u'bucket', u'budget', u'buffer', u'bug', u'build', u'building', u'built', u'bullet', u'bulletin', u'bump', u'bunch', u'burn', u'bus', u'business', u'button', u'buy', u'buying', u'bw', u'byrow', u'ca', u'calculate', u'calculated', u'calculates', u'calculating', u'calculation', u'calculator', u'calculus', u'calibrate', u'calibrated', u'calibration', u'call', u'called', u'calling', u'cambridge', u'came', u'campaign', u'cancel', u'cancer', u'candidate', u'canonical', u'cap', u'capability', u'capable', u'capacity', u'capital', u'capture', u'captured', u'capturing', u'car', u'card', u'cardinal', u'care', u'careful', u'carefully', u'caret', u'carlo', u'carried', u'carry', u'carrying', u'cart', u'case', u'casella', u'cast', u'cat', u'catch', u'categorical', u'categorization', u'category', u'cauchy', u'caught', u'causal', u'causality', u'causation', u'cause', u'caused', u'causing', u'caution', u'cautious', u'caveat', u'cbind', u'cc', u'cca', u'ccc', u'cd', u'cdf', u'cdfs', u'cdot', u'cdots', u'ceiling', u'cell', u'censored', u'censoring', u'census', u'cent', u'center', u'centered', u'centering', u'central', u'centrality', u'centre', u'centroid', u'century', u'certain', u'certainly', u'certainty', u'cex', u'cf', u'cfa', u'ch', u'chain', u'challenge', u'challenging', u'chance', u'change', u'changed', u'changepoint', u'changing', u'channel', u'chapman', u'chapter', u'character', u'characteristic', u'characterization', u'characterize', u'characterized', u'chart', u'cheap', u'cheating', u'chebyshev', u'check', u'checked', u'checking', u'chemical', u'chemistry', u'chen', u'chi', u'child', u'chip', u'chisq', u'chl', u'choice', u'cholesky', u'choose', u'chooses', u'choosing', u'chose', u'chosen', u'chow', u'chunk', u'ci', u'circle', u'circular', u'circumstance', u'citation', u'cite', u'cited', u'city', u'cl', u'claim', u'claimed', u'clarification', u'clarify', u'clarity', u'class', u'classic', u'classical', u'classification', u'classified', u'classifier', u'classify', u'classifying', u'classroom', u'clean', u'cleaning', u'clear', u'clearer', u'clearly', u'cleveland', u'clever', u'click', u'client', u'climate', u'clinical', u'close', u'closed', u'closely', u'closeness', u'closer', u'closest', u'cloud', u'clt', u'clue', u'cluster', u'clustered', u'clustering', u'cm', u'co', u'cochran', u'code', u'coded', u'coding', u'coef', u'coeff', u'coefficient', u'coffee', u'cognitive', u'cohen', u'cohort', u'coin', u'coincide', u'coincidence', u'cointegrated', u'cointegrating', u'cointegration', u'col', u'collapse', u'colleague', u'collect', u'collected', u'collecting', u'collection', u'college', u'collinear', u'collinearity', u'colnames', u'color', u'colored', u'colour', u'column', u'com', u'combination', u'combine', u'combined', u'combining', u'come', u'comfortable', u'coming', u'command', u'comment', u'commented', u'commercial', u'committee', u'common', u'commonly', u'communicate', u'communication', u'community', u'comp', u'compact', u'companion', u'company', u'comparable', u'comparative', u'compare', u'compared', u'comparing', u'comparison', u'compatible', u'compensate', u'competing', u'competition', u'competitor', u'complement', u'complementary', u'complete', u'completed', u'completely', u'completeness', u'complex', u'complexity', u'complicated', u'complication', u'component', u'composed', u'composite', u'composition', u'compound', u'comprehensive', u'compression', u'compromise', u'computation', u'computational', u'computationally', u'compute', u'computed', u'computer', u'computes', u'computing', u'con', u'concave', u'concentrate', u'concentrated', u'concentration', u'concept', u'conceptual', u'conceptually', u'concern', u'concerned', u'concerning', u'concise', u'conclude', u'concluding', u'conclusion', u'concordance', u'concrete', u'cond', u'condition', u'conditional', u'conditionally', u'conditionals', u'conditioned', u'conditioning', u'conduct', u'conducted', u'conducting', u'conf', u'conference', u'confidence', u'confident', u'configuration', u'confint', u'confirm', u'confirmatory', u'confirmed', u'confounded', u'confounders', u'confounding', u'confuse', u'confused', u'confusing', u'confusion', u'conjugate', u'conjunction', u'connect', u'connected', u'connecting', u'connection', u'consecutive', u'consensus', u'consequence', u'consequently', u'conservative', u'consider', u'considerable', u'considerably', u'consideration', u'considered', u'considering', u'considers', u'consist', u'consistency', u'consistent', u'consistently', u'consisting', u'consists', u'const', u'constant', u'constitute', u'constitutes', u'constrain', u'constrained', u'constraining', u'constraint', u'construct', u'constructed', u'constructing', u'construction', u'consult', u'consulting', u'consumer', u'consumption', u'contact', u'contain', u'contained', u'containing', u'contains', u'content', u'context', u'contingency', u'continue', u'continues', u'continuing', u'continuity', u'continuous', u'continuously', u'contour', u'contr', u'contradiction', u'contrary', u'contrast', u'contribute', u'contributed', u'contributes', u'contributing', u'contribution', u'control', u'controlled', u'controlling', u'controversial', u'convenience', u'convenient', u'conveniently', u'convention', u'conventional', u'converge', u'converged', u'convergence', u'converges', u'converging', u'conversely', u'conversion', u'convert', u'converted', u'converting', u'convex', u'convey', u'convince', u'convinced', u'convincing', u'convolution', u'convolutional', u'cook', u'cool', u'coordinate', u'cope', u'copula', u'copy', u'cor', u'core', u'corner', u'corpus', u'corr', u'correct', u'corrected', u'correcting', u'correction', u'correctly', u'correctness', u'correlate', u'correlated', u'correlation', u'correspond', u'correspondence', u'corresponding', u'corresponds', u'cosine', u'cost', u'costly', u'could', u'couldn', u'count', u'countable', u'counted', u'counter', u'counterexample', u'counterpart', u'counting', u'country', u'county', u'couple', u'course', u'coursera', u'cov', u'covariance', u'covariate', u'covariates', u'cover', u'coverage', u'covered', u'covering', u'cox', u'coxph', u'cp', u'cpu', u'cr', u'cramer', u'cran', u'crash', u'crazy', u'crc', u'create', u'created', u'creates', u'creating', u'credibility', u'credible', u'credit', u'crime', u'criterion', u'critical', u'criticism', u'cronbach', u'crop', u'cross', u'crossed', u'crossing', u'crossvalidated', u'crossvalidation', u'crucial', u'crude', u'csv', u'cube', u'cubic', u'culture', u'cumsum', u'cumulative', u'cup', u'curious', u'current', u'currently', u'curse', u'curvature', u'curve', u'curved', u'curvilinear', u'custom', u'customer', u'cut', u'cutoff', u'cutting', u'cv', u'cycle', u'cyl', u'da', u'dag', u'daily', u'damage', u'danger', u'dangerous', u'dark', u'darling', u'dashed', u'dat', u'data', u'database', u'dataframe', u'datapoints', u'dataset', u'datasets', u'date', u'david', u'davis', u'day', u'dbscan', u'dd', u'de', u'dead', u'deal', u'dealing', u'dealt', u'death', u'debate', u'dec', u'decade', u'decay', u'decent', u'decide', u'decided', u'deciding', u'decimal', u'decision', u'deck', u'declare', u'decline', u'decompose', u'decomposed', u'decomposition', u'decrease', u'decreased', u'decreasing', u'dedicated', u'deduce', u'deep', u'deeper', u'default', u'defect', u'defend', u'define', u'defined', u'defines', u'defining', u'definite', u'definitely', u'definition', u'definitive', u'degenerate', u'degree', u'delay', u'delete', u'deleted', u'deleting', u'deletion', u'deliver', u'delta', u'demand', u'demo', u'demographic', u'demonstrate', u'demonstrated', u'demonstrates', u'demonstrating', u'demonstration', u'den', u'dendrogram', u'denominator', u'denote', u'denoted', u'denotes', u'denoting', u'dense', u'density', u'department', u'departure', u'depend', u'dependence', u'dependency', u'dependent', u'depending', u'depends', u'depression', u'depth', u'der', u'derivation', u'derivative', u'derive', u'derived', u'deriving', u'descent', u'describe', u'described', u'describes', u'describing', u'description', u'descriptive', u'descriptor', u'design', u'designed', u'designing', u'desirable', u'desire', u'desired', u'despite', u'detail', u'detailed', u'detect', u'detected', u'detecting', u'detection', u'detector', u'determinant', u'determination', u'determine', u'determined', u'determines', u'determining', u'deterministic', u'dev', u'develop', u'developed', u'developer', u'developing', u'development', u'deviance', u'deviate', u'deviation', u'device', u'df', u'dfrac', u'di', u'diag', u'diagnosis', u'diagnostic', u'diagnostics', u'diagonal', u'diagram', u'diameter', u'dice', u'dichotomous', u'dickey', u'dictionary', u'didn', u'die', u'died', u'diet', u'diff', u'differ', u'difference', u'differenced', u'differencing', u'different', u'differentiable', u'differential', u'differentiate', u'differentiating', u'differentiation', u'differently', u'differing', u'differs', u'difficult', u'difficulty', u'diffusion', u'dig', u'digit', u'dim', u'dimension', u'dimensional', u'dimensionality', u'dimnames', u'dirac', u'direct', u'directed', u'direction', u'directional', u'directly', u'dirichlet', u'dirty', u'disadvantage', u'disagree', u'disagreement', u'disappears', u'discard', u'discarded', u'discarding', u'discipline', u'disclaimer', u'discontinuity', u'discount', u'discover', u'discovered', u'discovering', u'discovery', u'discrepancy', u'discrete', u'discreteness', u'discriminant', u'discriminate', u'discrimination', u'discriminative', u'discus', u'discussed', u'discussing', u'discussion', u'disease', u'disjoint', u'disp', u'dispersion', u'display', u'displayed', u'displaying', u'displaystyle', u'dissertation', u'dissimilarity', u'dist', u'distance', u'distant', u'distinct', u'distinction', u'distinguish', u'distinguishing', u'distributed', u'distribution', u'distributional', u'district', u'disturbance', u'diverge', u'divergence', u'diversity', u'divide', u'divided', u'dividing', u'division', u'dnorm', u'doc', u'doctor', u'document', u'documentation', u'documented', u'doesn', u'dog', u'doi', u'dollar', u'domain', u'dominant', u'dominate', u'dominated', u'dominates', u'done', u'dont', u'door', u'dose', u'dot', u'dotted', u'double', u'doubling', u'doubt', u'download', u'downloaded', u'downside', u'downward', u'dozen', u'dp', u'dr', u'dramatically', u'drastically', u'draw', u'drawback', u'drawing', u'drawn', u'drew', u'drift', u'drive', u'driven', u'driver', u'driving', u'drop', u'dropout', u'dropped', u'dropping', u'drug', u'dt', u'dtw', u'dual', u'due', u'dummy', u'dunn', u'duplicate', u'duration', u'durbin', u'dv', u'dvs', u'dw', u'dx', u'dy', u'dying', u'dynamic', u'dz', u'earlier', u'early', u'earnings', u'earth', u'ease', u'easier', u'easiest', u'easily', u'easy', u'ecdf', u'ecological', u'ecology', u'econometric', u'econometrician', u'econometrics', u'economic', u'economics', u'economist', u'ed', u'eda', u'edge', u'edit', u'edited', u'edition', u'editor', u'edu', u'education', u'educational', u'edward', u'efa', u'effect', u'effective', u'effectively', u'effectiveness', u'efficacy', u'efficiency', u'efficient', u'efficiently', u'effort', u'efron', u'eg', u'eigen', u'eigenvalue', u'eigenvector', u'eigenvectors', u'eight', u'either', u'elaborate', u'elapsed', u'elastic', u'elasticity', u'election', u'elegant', u'element', u'elementary', u'eliminate', u'eliminated', u'elimination', u'ell', u'ellipse', u'ellipsoid', u'else', u'elsewhere', u'em', u'email', u'embedded', u'embedding', u'emission', u'emphasis', u'emphasize', u'empirical', u'empirically', u'employ', u'employed', u'employee', u'empty', u'en', u'enable', u'enables', u'encode', u'encoded', u'encoding', u'encounter', u'encountered', u'encourage', u'end', u'ended', u'ending', u'endogeneity', u'endogenous', u'endpoint', u'energy', u'enforce', u'engine', u'engineer', u'engineering', u'engle', u'english', u'enjoy', u'enormous', u'enough', u'ensemble', u'ensure', u'ensures', u'ensuring', u'entail', u'enter', u'entered', u'entering', u'enters', u'entire', u'entirely', u'entity', u'entropy', u'entry', u'envelope', u'environment', u'environmental', u'epidemiology', u'epoch', u'eps', u'epsilon', u'eq', u'eqalign', u'eqnarray', u'equal', u'equality', u'equally', u'equating', u'equation', u'equilibrium', u'equiv', u'equivalence', u'equivalent', u'equivalently', u'err', u'erroneous', u'error', u'es', u'especially', u'essence', u'essential', u'essentially', u'est', u'establish', u'established', u'estimate', u'estimated', u'estimating', u'estimation', u'estimator', u'et', u'eta', u'etc', u'ets', u'euclidean', u'european', u'eval', u'evaluate', u'evaluated', u'evaluates', u'evaluating', u'evaluation', u'even', u'evenly', u'event', u'eventually', u'ever', u'every', u'everybody', u'everyone', u'everything', u'everywhere', u'evidence', u'evident', u'evidently', u'evolution', u'ex', u'exact', u'exactly', u'exam', u'examination', u'examine', u'examined', u'examining', u'example', u'exceed', u'exceeding', u'exceeds', u'excel', u'excellent', u'except', u'exception', u'excerpt', u'excess', u'exchange', u'exchangeability', u'exchangeable', u'exclude', u'excluded', u'excluding', u'exclusion', u'exclusive', u'execute', u'exercise', u'exhaustive', u'exhibit', u'exist', u'existence', u'existing', u'exists', u'exogeneity', u'exogenous', u'exp', u'expand', u'expanded', u'expanding', u'expansion', u'expect', u'expectation', u'expected', u'expecting', u'expenditure', u'expense', u'expensive', u'experience', u'experienced', u'experiment', u'experimental', u'experimenter', u'expert', u'expertise', u'explain', u'explained', u'explaining', u'explains', u'explanation', u'explanatory', u'explicit', u'explicitly', u'exploit', u'exploration', u'exploratory', u'explore', u'explored', u'exploring', u'exponent', u'exponential', u'exponentially', u'exponentiate', u'exponentiated', u'exponentiating', u'export', u'exposed', u'exposition', u'exposure', u'express', u'expressed', u'expressing', u'expression', u'extend', u'extended', u'extending', u'extends', u'extension', u'extensive', u'extensively', u'extent', u'external', u'extra', u'extract', u'extracted', u'extracting', u'extraction', u'extrapolate', u'extrapolation', u'extreme', u'extremely', u'eye', u'fa', u'face', u'faced', u'facet', u'facility', u'facing', u'fact', u'factor', u'factorial', u'factorization', u'fail', u'failed', u'failing', u'fails', u'failure', u'fair', u'fairly', u'fake', u'fall', u'fallacy', u'falling', u'false', u'falsely', u'familiar', u'family', u'famous', u'fan', u'fancy', u'faq', u'far', u'farther', u'fashion', u'fast', u'faster', u'fat', u'favor', u'favorite', u'favour', u'favourite', u'fdr', u'fe', u'feasible', u'feature', u'feb', u'february', u'feed', u'feedback', u'feel', u'feeling', u'female', u'fewer', u'ff', u'fft', u'field', u'fifth', u'fig', u'figure', u'figured', u'figuring', u'file', u'fill', u'filled', u'filter', u'filtering', u'final', u'finally', u'finance', u'financial', u'find', u'finding', u'fine', u'finish', u'finished', u'finite', u'fire', u'firm', u'first', u'firstly', u'fish', u'fisher', u'fishing', u'fit', u'fitdistr', u'fitted', u'fitting', u'five', u'fix', u'fixed', u'fixing', u'flag', u'flat', u'flavor', u'flaw', u'flawed', u'flexibility', u'flexible', u'flight', u'flip', u'flipped', u'flipping', u'float', u'floating', u'flom', u'floor', u'flow', u'fluctuation', u'fly', u'fm', u'fn', u'focus', u'focused', u'focusing', u'fold', u'folk', u'follow', u'followed', u'following', u'follows', u'foo', u'food', u'foot', u'football', u'footnote', u'force', u'forced', u'forcing', u'forecast', u'forecasting', u'foreign', u'forest', u'forget', u'forgot', u'form', u'formal', u'formally', u'format', u'formed', u'former', u'forming', u'formula', u'formulate', u'formulated', u'formulation', u'forsythe', u'forth', u'fortran', u'fortunately', u'forum', u'forward', u'found', u'foundation', u'four', u'fourier', u'fourth', u'fox', u'fp', u'fpr', u'frac', u'fraction', u'fractional', u'frame', u'framework', u'frank', u'frankly', u'fraud', u'free', u'freedom', u'freedommultiple', u'freely', u'freq', u'frequency', u'frequent', u'frequentist', u'frequentists', u'frequently', u'friedman', u'friend', u'friendly', u'front', u'fruit', u'full', u'fuller', u'fully', u'fun', u'function', u'functional', u'functionality', u'fundamental', u'fundamentally', u'funnel', u'furthermore', u'future', u'fuzzy', u'gain', u'gained', u'gam', u'game', u'gamma', u'gap', u'garbage', u'garch', u'gas', u'gather', u'gauge', u'gauss', u'gaussian', u'gaussians', u'gave', u'gb', u'gbm', u'gdp', u'ge', u'gee', u'gelman', u'gen', u'gender', u'gene', u'general', u'generalisation', u'generalised', u'generality', u'generalization', u'generalize', u'generalized', u'generalizes', u'generally', u'generate', u'generated', u'generates', u'generating', u'generation', u'generative', u'generator', u'generic', u'genetic', u'genetics', u'genotype', u'genuine', u'geographic', u'geom', u'geometric', u'geometrically', u'geometry', u'george', u'geq', u'german', u'get', u'getting', u'ggplot', u'gibbs', u'gini', u'girl', u'gist', u'github', u'give', u'given', u'giving', u'glance', u'glen', u'glht', u'glm', u'glmer', u'glmm', u'glmnet', u'glms', u'global', u'gls', u'gmm', u'go', u'goal', u'gof', u'going', u'gold', u'gone', u'good', u'goodness', u'google', u'googling', u'got', u'gotten', u'government', u'gower', u'gp', u'gpa', u'gps', u'grad', u'grade', u'gradient', u'gradually', u'graduate', u'gram', u'grand', u'granger', u'graph', u'graphic', u'graphical', u'graphically', u'graphing', u'grasp', u'gray', u'gre', u'great', u'greater', u'greatest', u'greatly', u'greedy', u'green', u'grey', u'grid', u'gross', u'ground', u'group', u'grouped', u'grouping', u'grow', u'growing', u'grown', u'grows', u'growth', u'grp', u'guarantee', u'guaranteed', u'guess', u'guessed', u'guessing', u'gui', u'guidance', u'guide', u'guideline', u'gumbel', u'gung', u'guy', u'habit', u'hair', u'half', u'hall', u'hand', u'handbook', u'handle', u'handled', u'handling', u'handout', u'handy', u'happen', u'happened', u'happening', u'happens', u'happiness', u'happy', u'hard', u'harder', u'hardly', u'harm', u'harmonic', u'harrell', u'hash', u'hasn', u'hastie', u'hastings', u'hat', u'hausman', u'haven', u'hazard', u'hbox', u'hc', u'head', u'header', u'heading', u'health', u'healthy', u'hear', u'heard', u'heart', u'heat', u'heavier', u'heavily', u'heavy', u'heckman', u'height', u'held', u'help', u'helped', u'helpful', u'helping', u'hence', u'hessian', u'heterogeneity', u'heterogeneous', u'heteroscedastic', u'heteroscedasticity', u'heteroskedastic', u'heteroskedasticity', u'heuristic', u'hi', u'hidden', u'hierarchical', u'hierarchy', u'high', u'higher', u'highest', u'highlight', u'highly', u'hilbert', u'hill', u'hinge', u'hint', u'hinton', u'hist', u'histogram', u'historical', u'history', u'hit', u'hline', u'hmisc', u'hmm', u'hmms', u'hoc', u'hochberg', u'hold', u'holding', u'holdout', u'holiday', u'holm', u'holt', u'home', u'homework', u'homogeneity', u'homogeneous', u'homoscedasticity', u'homoskedasticity', u'honest', u'honestly', u'hope', u'hopefully', u'hoping', u'horizon', u'horizontal', u'horse', u'hosmer', u'hospital', u'host', u'hot', u'hour', u'hourly', u'house', u'household', u'however', u'hp', u'hr', u'hth', u'html', u'huber', u'huge', u'hull', u'human', u'hundred', u'hurdle', u'hurt', u'hybrid', u'hyndman', u'hyper', u'hypergeometric', u'hyperparameter', u'hyperparameters', u'hyperplane', u'hypothesis', u'hypothesized', u'hypothetical', u'ic', u'ica', u'icc', u'ice', u'id', u'idea', u'ideal', u'ideally', u'identical', u'identically', u'identifiable', u'identification', u'identified', u'identifier', u'identifies', u'identify', u'identifying', u'identity', u'idf', u'idx', u'ie', u'ieee', u'ifelse', u'iff', u'ignore', u'ignored', u'ignores', u'ignoring', u'ii', u'iid', u'iii', u'ij', u'ik', u'ill', u'illustrate', u'illustrated', u'illustrates', u'illustrating', u'illustration', u'illustrative', u'im', u'image', u'imaginary', u'imagine', u'imbalance', u'imbalanced', u'imho', u'immediate', u'immediately', u'imo', u'imp', u'impact', u'impacted', u'implement', u'implementation', u'implemented', u'implementing', u'implication', u'implicit', u'implicitly', u'implied', u'implies', u'imply', u'implying', u'import', u'importance', u'important', u'importantly', u'impose', u'imposing', u'impossible', u'impression', u'improper', u'improve', u'improved', u'improvement', u'improves', u'improving', u'impulse', u'impurity', u'imputation', u'impute', u'imputed', u'imputing', u'inaccurate', u'inappropriate', u'inch', u'incidence', u'incident', u'incidentally', u'inclined', u'include', u'included', u'includes', u'including', u'inclusion', u'income', u'incomplete', u'inconsistency', u'inconsistent', u'incorporate', u'incorporated', u'incorporates', u'incorporating', u'incorrect', u'incorrectly', u'increase', u'increased', u'increasing', u'increasingly', u'incredibly', u'increment', u'incremental', u'ind', u'indeed', u'independence', u'independent', u'independently', u'index', u'indexed', u'indexing', u'indicate', u'indicated', u'indicates', u'indicating', u'indication', u'indicative', u'indicator', u'indirect', u'indirectly', u'individual', u'individually', u'induce', u'induced', u'induction', u'industrial', u'industry', u'inefficient', u'inequality', u'inertia', u'inf', u'infection', u'infer', u'inference', u'inferential', u'inferred', u'inferring', u'infinite', u'infinitely', u'infinity', u'inflate', u'inflated', u'inflation', u'influence', u'influenced', u'influential', u'info', u'inform', u'informal', u'informally', u'information', u'informative', u'informed', u'infty', u'inherent', u'inherently', u'init', u'initial', u'initialization', u'initialize', u'initially', u'inner', u'innovation', u'input', u'insert', u'inside', u'insight', u'insignificant', u'insist', u'inspect', u'inspection', u'inspired', u'instability', u'install', u'installed', u'instance', u'instantaneous', u'instead', u'institution', u'instruction', u'instructive', u'instrument', u'instrumental', u'insufficient', u'insurance', u'int', u'integer', u'integral', u'integrand', u'integrate', u'integrated', u'integrates', u'integrating', u'integration', u'intelligence', u'intelligent', u'intend', u'intended', u'intensity', u'intensive', u'intent', u'intention', u'inter', u'interact', u'interacting', u'interaction', u'interactive', u'intercept', u'interest', u'interested', u'interesting', u'interestingly', u'interface', u'interior', u'intermediate', u'internal', u'internally', u'international', u'internet', u'interpolate', u'interpolation', u'interpret', u'interpretability', u'interpretable', u'interpretation', u'interpreted', u'interpreting', u'interquartile', u'intersection', u'interval', u'intervention', u'interview', u'intra', u'intrinsic', u'intro', u'introduce', u'introduced', u'introduces', u'introducing', u'introduction', u'introductory', u'intuition', u'intuitive', u'intuitively', u'inv', u'invalid', u'invariance', u'invariant', u'invented', u'inverse', u'inversely', u'inversion', u'invert', u'inverted', u'invertible', u'inverting', u'investigate', u'investigated', u'investigating', u'investigation', u'investment', u'invoke', u'involve', u'involved', u'involves', u'involving', u'ip', u'iq', u'iqr', u'iris', u'irregular', u'irrelevant', u'irrespective', u'irt', u'isn', u'issue', u'item', u'iter', u'iterate', u'iterated', u'iteration', u'iterative', u'iteratively', u'ith', u'iv', u'jaccard', u'jacobian', u'jag', u'james', u'jan', u'january', u'jar', u'jasa', u'java', u'jaynes', u'jeffreys', u'jenkins', u'jensen', u'jitter', u'jmp', u'job', u'john', u'johnson', u'join', u'joint', u'jointly', u'jones', u'journal', u'judge', u'judgement', u'judging', u'judgment', u'julia', u'july', u'jump', u'june', u'justification', u'justified', u'justify', u'kalman', u'kaplan', u'kappa', u'kde', u'keep', u'keeping', u'kendall', u'kept', u'kernel', u'key', u'keyword', u'keywords', u'kg', u'ki', u'kick', u'kid', u'kill', u'kind', u'king', u'kl', u'km', u'kmeans', u'knew', u'knn', u'knot', u'know', u'knowing', u'knowledge', u'known', u'kolmogorov', u'kp', u'kriging', u'kruskal', u'kullback', u'kurtosis', u'la', u'lab', u'label', u'labeled', u'labeling', u'labelled', u'labor', u'laboratory', u'lack', u'lag', u'lagged', u'lagrange', u'lambda', u'lambert', u'land', u'langle', u'language', u'laplace', u'lapply', u'large', u'largely', u'larger', u'largest', u'lars', u'lasso', u'last', u'lastly', u'late', u'latent', u'later', u'latest', u'latex', u'latitude', u'latter', u'lattice', u'lavaan', u'law', u'lay', u'layer', u'layout', u'lb', u'lda', u'ldots', u'le', u'lead', u'leading', u'leaf', u'leap', u'learn', u'learned', u'learner', u'learning', u'learns', u'least', u'leave', u'leaving', u'lebesgue', u'lecture', u'led', u'lee', u'left', u'legend', u'legitimate', u'lehmann', u'leibler', u'lemeshow', u'lemma', u'len', u'length', u'leq', u'lesser', u'lesson', u'let', u'letter', u'letting', u'level', u'levene', u'leverage', u'lh', u'li', u'library', u'libsvm', u'lie', u'life', u'lifetime', u'lift', u'light', u'like', u'liked', u'likelihood', u'likely', u'likert', u'likewise', u'lim', u'limit', u'limitation', u'limited', u'limiting', u'lin', u'line', u'linear', u'linearity', u'linearly', u'link', u'linkage', u'linked', u'list', u'listed', u'literally', u'literature', u'little', u'live', u'living', u'ljung', u'll', u'lm', u'lme', u'lmer', u'ln', u'lo', u'load', u'loaded', u'loading', u'loc', u'local', u'locally', u'located', u'location', u'loess', u'log', u'logarithm', u'logarithmic', u'logged', u'logic', u'logical', u'logically', u'logistic', u'logit', u'loglik', u'loglikelihood', u'lognormal', u'long', u'longer', u'longitudinal', u'look', u'looked', u'looking', u'loop', u'loose', u'loosely', u'lose', u'loses', u'losing', u'loss', u'lost', u'lot', u'lottery', u'love', u'low', u'lower', u'lowess', u'lowest', u'lr', u'lrt', u'lsa', u'lsmeans', u'lty', u'luck', u'lucky', u'lunch', u'lwd', u'lying', u'ma', u'machine', u'macro', u'mad', u'made', u'mae', u'magic', u'magnitude', u'mahalanobis', u'mail', u'main', u'mainly', u'maintain', u'maintained', u'major', u'majority', u'make', u'making', u'male', u'man', u'manage', u'managed', u'management', u'manager', u'manifest', u'manifold', u'manipulate', u'manipulating', u'manipulation', u'mann', u'manner', u'manova', u'manual', u'manually', u'many', u'map', u'mape', u'mapped', u'mapping', u'mar', u'marble', u'march', u'margin', u'marginal', u'marginally', u'marginals', u'mark', u'marked', u'marker', u'market', u'marketing', u'markov', u'married', u'mass', u'massive', u'master', u'mat', u'match', u'matched', u'matching', u'material', u'math', u'mathbb', u'mathbf', u'mathcal', u'mathematica', u'mathematical', u'mathematically', u'mathematician', u'mathematics', u'mathrm', u'matlab', u'matrix', u'matter', u'max', u'maximal', u'maximization', u'maximize', u'maximized', u'maximizes', u'maximizing', u'maximum', u'may', u'maybe', u'mbox', u'mc', u'mcar', u'mcmc', u'mcnemar', u'md', u'mean', u'meaning', u'meaningful', u'meaningfully', u'meaningless', u'meant', u'meanwhile', u'measurable', u'measure', u'measured', u'measurement', u'measuring', u'mechanic', u'mechanism', u'med', u'median', u'mediation', u'mediator', u'medical', u'medicine', u'medium', u'meet', u'meeting', u'meier', u'melt', u'member', u'membership', u'memory', u'men', u'mention', u'mentioned', u'mentioning', u'menu', u'mere', u'merely', u'merge', u'merit', u'mess', u'message', u'messy', u'met', u'meta', u'meter', u'method', u'methodological', u'methodology', u'metric', u'metropolis', u'mfrow', u'mgcv', u'mgf', u'mi', u'michael', u'microarray', u'microsoft', u'mid', u'middle', u'midpoint', u'might', u'mild', u'mile', u'million', u'min', u'mind', u'mine', u'mini', u'minimal', u'minimise', u'minimization', u'minimize', u'minimized', u'minimizes', u'minimizing', u'minimum', u'mining', u'minitab', u'minor', u'minority', u'minus', u'minute', u'mirt', u'misclassification', u'misleading', u'miss', u'missed', u'missing', u'missingness', u'misspecification', u'misspecified', u'mistake', u'mistaken', u'misunderstanding', u'misunderstood', u'mit', u'mix', u'mixed', u'mixing', u'mixture', u'ml', u'mle', u'mles', u'mm', u'mod', u'mode', u'model', u'modeled', u'modeling', u'modelled', u'modelling', u'moderate', u'moderately', u'moderation', u'moderator', u'modern', u'modest', u'modification', u'modified', u'modify', u'modifying', u'module', u'mom', u'moment', u'monday', u'money', u'monitoring', u'monotone', u'monotonic', u'monotonically', u'monotonicity', u'monte', u'month', u'monthly', u'moreover', u'mortality', u'mosaic', u'mostly', u'mother', u'motion', u'motivated', u'motivation', u'mouse', u'move', u'moved', u'movement', u'movie', u'moving', u'mpg', u'mplus', u'mr', u'mse', u'mtcars', u'mtry', u'mu', u'much', u'multcomp', u'multi', u'multiclass', u'multicollinearity', u'multidimensional', u'multilevel', u'multinomial', u'multiple', u'multiplication', u'multiplicative', u'multiplicity', u'multiplied', u'multiplier', u'multiply', u'multiplying', u'multivariable', u'multivariate', u'music', u'must', u'mutation', u'mutual', u'mutually', u'mvrnorm', u'mx', u'mydata', u'na', u'nabla', u'naive', u'name', u'named', u'namely', u'nan', u'narrow', u'narrower', u'national', u'native', u'natural', u'naturally', u'nature', u'nb', u'nc', u'ncol', u'nd', u'ne', u'near', u'nearby', u'nearest', u'nearly', u'neat', u'necessarily', u'necessary', u'need', u'needed', u'needing', u'neg', u'negative', u'negatively', u'negligible', u'neighbor', u'neighborhood', u'neighbour', u'neither', u'nelder', u'neq', u'nested', u'nesting', u'net', u'netflix', u'network', u'neural', u'neuron', u'neutral', u'never', u'nevertheless', u'new', u'newcommand', u'newdata', u'newer', u'news', u'newton', u'next', u'neyman', u'ng', u'ni', u'nice', u'nicely', u'nick', u'night', u'nine', u'nj', u'nlme', u'nls', u'nn', u'nobody', u'node', u'noise', u'noisy', u'nominal', u'non', u'none', u'nonetheless', u'nonlinear', u'nonlinearity', u'nonnegative', u'nonparametric', u'nonsense', u'nonstationary', u'nonzero', u'norm', u'normal', u'normality', u'normalization', u'normalize', u'normalized', u'normalizing', u'normally', u'north', u'notably', u'notation', u'note', u'noted', u'nothing', u'notice', u'noticed', u'noting', u'notion', u'novel', u'nowadays', u'np', u'nr', u'nrow', u'nsim', u'nu', u'nuisance', u'null', u'num', u'number', u'numerator', u'numeric', u'numerical', u'numerically', u'numerous', u'numpy', u'nutshell', u'nx', u'ny', u'ob', u'object', u'objective', u'oblique', u'observable', u'observation', u'observational', u'observe', u'observed', u'observer', u'observing', u'obtain', u'obtained', u'obtaining', u'obtains', u'obvious', u'obviously', u'occasion', u'occasionally', u'occur', u'occurred', u'occurrence', u'occurring', u'occurs', u'octave', u'odd', u'odds', u'offer', u'offered', u'office', u'official', u'offset', u'often', u'oh', u'ok', u'okay', u'old', u'older', u'ols', u'omega', u'omit', u'omitted', u'omitting', u'omnibus', u'one', u'online', u'onto', u'oob', u'op', u'open', u'operate', u'operating', u'operation', u'operator', u'operatorname', u'opinion', u'opponent', u'opportunity', u'opposed', u'opposite', u'opt', u'optim', u'optimal', u'optimality', u'optimally', u'optimisation', u'optimise', u'optimistic', u'optimization', u'optimize', u'optimized', u'optimizer', u'optimizing', u'optimum', u'option', u'optional', u'orange', u'order', u'ordered', u'ordering', u'ordinal', u'ordinary', u'org', u'organization', u'orientation', u'oriented', u'origin', u'original', u'originally', u'orthogonal', u'orthogonality', u'orthonormal', u'others', u'otherwise', u'otimes', u'ought', u'outcome', u'outer', u'outlier', u'outline', u'outlined', u'outlying', u'outperform', u'output', u'outside', u'overall', u'overcome', u'overdispersed', u'overdispersion', u'overestimate', u'overfit', u'overfitted', u'overfitting', u'overflow', u'overkill', u'overlap', u'overlapping', u'overline', u'overly', u'overview', u'pacf', u'package', u'page', u'paid', u'pain', u'pair', u'paired', u'pairing', u'pairwise', u'panda', u'panel', u'paper', u'par', u'parabola', u'paradigm', u'paradox', u'paragraph', u'parallel', u'param', u'parameter', u'parameterization', u'parameterized', u'parametric', u'parametrization', u'params', u'parent', u'parenthesis', u'pareto', u'parsimonious', u'parsimony', u'part', u'partial', u'partially', u'participant', u'particle', u'particular', u'particularly', u'partition', u'partitioned', u'partitioning', u'partly', u'party', u'pas', u'pass', u'passed', u'passing', u'past', u'paste', u'patch', u'path', u'patient', u'pattern', u'paul', u'pay', u'payoff', u'pc', u'pca', u'pch', u'pchisq', u'pcr', u'pd', u'pdf', u'pdfs', u'peak', u'pearl', u'pearson', u'peer', u'penalization', u'penalize', u'penalized', u'penalizes', u'penalty', u'people', u'per', u'perceived', u'percent', u'percentage', u'percentile', u'perception', u'perceptron', u'perfect', u'perfectly', u'perform', u'performance', u'performed', u'performing', u'performs', u'perhaps', u'period', u'periodic', u'periodicity', u'permit', u'permutation', u'permute', u'permuted', u'perpendicular', u'person', u'personal', u'personality', u'personally', u'perspective', u'perturbation', u'petal', u'peter', u'pg', u'ph', u'phase', u'phd', u'phenomenon', u'phi', u'philosophical', u'philosophy', u'phone', u'phrase', u'physic', u'physical', u'physically', u'pi', u'pick', u'picked', u'picking', u'picture', u'pie', u'piece', u'piecewise', u'pilot', u'pin', u'pitfall', u'pivot', u'pivotal', u'pixel', u'pl', u'place', u'placebo', u'placed', u'placing', u'plain', u'plan', u'plane', u'planned', u'planning', u'plant', u'platform', u'plausible', u'play', u'played', u'player', u'playing', u'please', u'plenty', u'plm', u'plot', u'plotted', u'plotting', u'pls', u'plug', u'plugging', u'plus', u'plyr', u'pm', u'pmatrix', u'pmf', u'png', u'pnorm', u'po', u'point', u'pointed', u'pointer', u'pointing', u'pointwise', u'poisson', u'policy', u'political', u'poll', u'poly', u'polychoric', u'polygon', u'polynomial', u'polytomous', u'pool', u'pooled', u'pooling', u'poor', u'poorly', u'pop', u'popular', u'popularity', u'population', u'port', u'portfolio', u'portion', u'pose', u'posed', u'posit', u'position', u'positive', u'positively', u'possibility', u'possible', u'possibly', u'post', u'posted', u'poster', u'posterior', u'posteriori', u'posting', u'potential', u'potentially', u'pound', u'power', u'powered', u'powerful', u'pp', u'pr', u'practical', u'practically', u'practice', u'practitioner', u'pragmatic', u'prcomp', u'pre', u'preceding', u'precise', u'precisely', u'precision', u'pred', u'predefined', u'predict', u'predictable', u'predicted', u'predicting', u'prediction', u'predictive', u'predictor', u'predicts', u'prefer', u'preferable', u'preferably', u'preference', u'preferred', u'preliminary', u'premise', u'prepare', u'prepared', u'preprocessing', u'presence', u'present', u'presentation', u'presented', u'presenting', u'preserve', u'preserved', u'preserving', u'press', u'pressure', u'presumably', u'presume', u'pretend', u'pretty', u'prevalence', u'prevent', u'previous', u'previously', u'price', u'pricing', u'primarily', u'primary', u'prime', u'primer', u'principal', u'principle', u'principled', u'print', u'printed', u'prior', u'priori', u'private', u'prize', u'pro', u'prob', u'probabilistic', u'probability', u'probable', u'probably', u'probe', u'probit', u'problem', u'problematic', u'probs', u'proc', u'procedure', u'proceed', u'proceeding', u'process', u'processed', u'processing', u'prod', u'produce', u'produced', u'producing', u'product', u'production', u'prof', u'professional', u'professor', u'profile', u'profit', u'program', u'programmer', u'programming', u'progress', u'project', u'projected', u'projecting', u'projection', u'prominent', u'promising', u'promotion', u'prone', u'proof', u'prop', u'propagation', u'propensity', u'proper', u'properly', u'property', u'proportion', u'proportional', u'proportionality', u'proposal', u'propose', u'proposed', u'proposing', u'proposition', u'propto', u'protein', u'protocol', u'prove', u'proved', u'proven', u'provide', u'provided', u'provides', u'providing', u'proving', u'proximity', u'proxy', u'pruning', u'pseudo', u'pseudorandom', u'psi', u'psych', u'psychological', u'psychologist', u'psychology', u'psychometrics', u'pt', u'public', u'publication', u'publish', u'published', u'pull', u'pulling', u'pulse', u'purchase', u'purchased', u'pure', u'purely', u'purple', u'purpose', u'pursue', u'push', u'put', u'putting', u'pval', u'pvalue', u'px', u'python', u'qed', u'qnorm', u'qq', u'qqplot', u'qquad', u'qr', u'qt', u'qu', u'quad', u'quadrant', u'quadratic', u'qualitative', u'quality', u'quantify', u'quantifying', u'quantile', u'quantiles', u'quantitative', u'quantity', u'quarter', u'quarterly', u'quartile', u'quasi', u'query', u'question', u'questionable', u'questionnaire', u'quick', u'quickly', u'quintile', u'quite', u'quote', u'quoted', u'quoting', u'race', u'radial', u'radius', u'rain', u'rainfall', u'raise', u'raised', u'ram', u'ran', u'rand', u'random', u'randomforest', u'randomization', u'randomized', u'randomly', u'randomness', u'range', u'ranging', u'rangle', u'rank', u'ranked', u'ranking', u'rao', u'raphson', u'rapidly', u'rare', u'rarely', u'rasch', u'rat', u'rate', u'rated', u'rater', u'raters', u'rather', u'rating', u'ratio', u'rational', u'rationale', u'raw', u'rbf', u'rbind', u'rbinom', u'rbm', u'rd', u're', u'reach', u'reached', u'reaching', u'reaction', u'read', u'readable', u'reader', u'readily', u'reading', u'ready', u'real', u'realistic', u'reality', u'realization', u'realize', u'realized', u'really', u'rearrange', u'reason', u'reasonable', u'reasonably', u'reasoning', u'recall', u'receive', u'received', u'receiving', u'recent', u'recently', u'recipe', u'reciprocal', u'recode', u'recognition', u'recognize', u'recommend', u'recommendation', u'recommended', u'recommender', u'recommends', u'reconstruct', u'reconstruction', u'record', u'recorded', u'recording', u'recover', u'rectangle', u'rectangular', u'recurrence', u'recurrent', u'recursion', u'recursive', u'recursively', u'red', u'reduce', u'reduced', u'reduces', u'reducing', u'reduction', u'redundancy', u'redundant', u'ref', u'refer', u'reference', u'referenced', u'referred', u'referring', u'refers', u'refine', u'reflect', u'reflected', u'reflecting', u'reflection', u'reflects', u'reg', u'regard', u'regarded', u'regarding', u'regardless', u'regime', u'region', u'regress', u'regressing', u'regression', u'regressor', u'regressors', u'regular', u'regularisation', u'regularity', u'regularization', u'regularized', u'regularly', u'reinforcement', u'reject', u'rejected', u'rejecting', u'rejection', u'relate', u'related', u'relates', u'relating', u'relation', u'relationship', u'relative', u'relatively', u'release', u'relevance', u'relevant', u'reliability', u'reliable', u'reliably', u'relies', u'rely', u'relying', u'remain', u'remainder', u'remaining', u'remains', u'remark', u'remedy', u'remember', u'reml', u'removal', u'remove', u'removed', u'removing', u'render', u'rep', u'repeat', u'repeated', u'repeatedly', u'repeating', u'repetition', u'replace', u'replaced', u'replacement', u'replacing', u'replicate', u'replicated', u'replicates', u'replication', u'reply', u'report', u'reported', u'reporting', u'repository', u'represent', u'representation', u'representative', u'represented', u'representing', u'represents', u'reproduce', u'reproduced', u'reproducible', u'reputation', u'request', u'requested', u'require', u'required', u'requirement', u'requires', u'requiring', u'rerun', u'resample', u'resampling', u'rescale', u'rescaled', u'rescaling', u'research', u'researcher', u'resemble', u'resembles', u'reshape', u'resid', u'residual', u'resolution', u'resolve', u'resort', u'resource', u'resp', u'respect', u'respective', u'respectively', u'respond', u'respondent', u'responding', u'response', u'responsible', u'rest', u'restrict', u'restricted', u'restricting', u'restriction', u'restrictive', u'result', u'resultant', u'resulted', u'resulting', u'retain', u'retained', u'retrieval', u'retrieved', u'return', u'returned', u'returning', u'rev', u'reveal', u'reveals', u'revenue', u'reverse', u'reversed', u'review', u'reviewed', u'reviewer', u'revised', u'reward', u'rewrite', u'rewritten', u'rf', u'rgamma', u'rgb', u'rh', u'rho', u'rich', u'richard', u'rid', u'ridge', u'right', u'rightarrow', u'rigorous', u'ripley', u'rise', u'risk', u'rm', u'rma', u'rms', u'rmse', u'rnorm', u'road', u'rob', u'robert', u'robust', u'robustness', u'roc', u'role', u'roll', u'rolling', u'room', u'root', u'rotate', u'rotated', u'rotation', u'rough', u'roughly', u'round', u'rounded', u'rounding', u'route', u'routine', u'row', u'rownames', u'royal', u'rpart', u'rpois', u'rr', u'rt', u'rubin', u'rule', u'run', u'runif', u'running', u'rv', u'sa', u'safe', u'safely', u'safer', u'sage', u'said', u'sake', u'salary', u'sale', u'salt', u'samp', u'sample', u'sampled', u'sampler', u'sampling', u'sandwich', u'sapply', u'sat', u'satisfaction', u'satisfactory', u'satisfied', u'satisfies', u'satisfy', u'satisfying', u'satterthwaite', u'saturated', u'save', u'saved', u'saving', u'saw', u'say', u'saying', u'scalar', u'scale', u'scaled', u'scaling', u'scan', u'scatter', u'scatterplot', u'scatterplots', u'scenario', u'scheme', u'scholar', u'school', u'science', u'scientific', u'scientifically', u'scientist', u'scikit', u'scipy', u'scope', u'score', u'scored', u'scoring', u'scortchi', u'scott', u'scratch', u'screen', u'screening', u'script', u'sd', u'se', u'sea', u'search', u'searching', u'season', u'seasonal', u'seasonality', u'sec', u'second', u'secondary', u'secondly', u'section', u'sectional', u'sector', u'see', u'seed', u'seeing', u'seek', u'seeking', u'seem', u'seemed', u'seemingly', u'seems', u'seen', u'segment', u'segmentation', u'segmented', u'select', u'selected', u'selecting', u'selection', u'selects', u'self', u'sell', u'sem', u'semantic', u'semi', u'semidefinite', u'sen', u'send', u'sense', u'sensible', u'sensitive', u'sensitivity', u'sensor', u'sent', u'sentence', u'sep', u'sepal', u'separable', u'separate', u'separated', u'separately', u'separating', u'separation', u'seq', u'sequence', u'sequential', u'sequentially', u'serf', u'serial', u'series', u'serious', u'seriously', u'serve', u'served', u'server', u'service', u'session', u'set', u'setosa', u'setting', u'settle', u'setup', u'seven', u'several', u'severe', u'severity', u'sex', u'sgd', u'shaded', u'shall', u'shannon', u'shape', u'shaped', u'shapiro', u'share', u'shared', u'sharing', u'sharp', u'sheet', u'shelf', u'shift', u'shifted', u'shifting', u'shock', u'shoe', u'shop', u'short', u'shortcut', u'shorter', u'shortest', u'shot', u'shouldn', u'show', u'showed', u'showing', u'shown', u'shrink', u'shrinkage', u'shuffle', u'sibling', u'sick', u'side', u'sided', u'sig', u'sigma', u'sigmoid', u'sign', u'signal', u'signed', u'signif', u'significance', u'significant', u'significantly', u'silhouette', u'silly', u'sim', u'similar', u'similarity', u'similarly', u'simon', u'simple', u'simpler', u'simplest', u'simplex', u'simplicity', u'simplification', u'simplified', u'simplifies', u'simplify', u'simplifying', u'simplistic', u'simply', u'simpson', u'sims', u'simulate', u'simulated', u'simulating', u'simulation', u'simultaneous', u'simultaneously', u'sin', u'since', u'sine', u'single', u'singular', u'singularity', u'sit', u'site', u'situation', u'six', u'size', u'sized', u'skeptical', u'sketch', u'skew', u'skewed', u'skewness', u'skill', u'skip', u'sklearn', u'sl', u'sleep', u'slice', u'slide', u'slight', u'slightly', u'slope', u'slot', u'slow', u'slower', u'slowly', u'slutsky', u'small', u'smaller', u'smallest', u'smart', u'smirnov', u'smith', u'smoke', u'smoker', u'smoking', u'smooth', u'smoothed', u'smoother', u'smoothing', u'smoothness', u'snippet', u'snow', u'snp', u'social', u'society', u'soft', u'softmax', u'software', u'sold', u'solely', u'solid', u'solution', u'solve', u'solved', u'solver', u'solves', u'solving', u'som', u'somebody', u'somehow', u'someone', u'something', u'sometimes', u'somewhat', u'somewhere', u'son', u'soon', u'sophisticated', u'sorry', u'sort', u'sorted', u'sorting', u'sound', u'source', u'sp', u'space', u'spaced', u'spacing', u'spam', u'span', u'spanned', u'sparse', u'sparsity', u'spatial', u'speak', u'speaker', u'speaking', u'spearman', u'spec', u'special', u'specialized', u'specie', u'specific', u'specifically', u'specification', u'specificity', u'specified', u'specifies', u'specify', u'specifying', u'spectral', u'spectrum', u'speech', u'speed', u'spell', u'spend', u'spending', u'spent', u'sphere', u'spherical', u'sphericity', u'spike', u'spirit', u'spline', u'split', u'splitting', u'sport', u'spot', u'spread', u'spreadsheet', u'spring', u'springer', u'spss', u'spurious', u'sq', u'sql', u'sqrt', u'square', u'squared', u'squaring', u'sr', u'sse', u'st', u'stability', u'stable', u'stack', u'stacked', u'stackexchange', u'stacking', u'stackoverflow', u'stage', u'stan', u'stand', u'standard', u'standardised', u'standardization', u'standardize', u'standardized', u'standardizing', u'standpoint', u'stanford', u'star', u'start', u'started', u'starter', u'starting', u'stat', u'stata', u'state', u'stated', u'statement', u'static', u'stating', u'station', u'stationarity', u'stationary', u'statist', u'statistic', u'statistical', u'statistically', u'statistician', u'stats', u'statsmodels', u'status', u'stay', u'std', u'steady', u'stein', u'stem', u'step', u'stephen', u'stepwise', u'stick', u'still', u'stimulus', u'stl', u'stochastic', u'stock', u'stone', u'stop', u'stopped', u'stopping', u'storage', u'store', u'stored', u'storing', u'story', u'str', u'straight', u'straightforward', u'strange', u'strategy', u'stratification', u'stratified', u'stratify', u'stratum', u'stream', u'street', u'strength', u'stress', u'stretch', u'strict', u'strictly', u'strike', u'string', u'strip', u'strong', u'stronger', u'strongly', u'structural', u'structure', u'structured', u'stuck', u'student', u'studentized', u'studied', u'study', u'studying', u'stuff', u'style', u'su', u'sub', u'subgroup', u'subject', u'subjective', u'subpopulation', u'subsample', u'subsamples', u'subsampling', u'subscript', u'subsequence', u'subsequent', u'subsequently', u'subset', u'subspace', u'substance', u'substantial', u'substantially', u'substantive', u'substantively', u'substitute', u'substituting', u'substitution', u'subtle', u'subtract', u'subtracted', u'subtracting', u'success', u'successful', u'successfully', u'successive', u'suffer', u'suffice', u'suffices', u'sufficiency', u'sufficient', u'sufficiently', u'suggest', u'suggested', u'suggesting', u'suggestion', u'suggests', u'suit', u'suitable', u'suitably', u'suite', u'suited', u'sum', u'summarise', u'summarize', u'summarized', u'summarizes', u'summarizing', u'summary', u'summation', u'summed', u'summer', u'summing', u'sun', u'sunday', u'super', u'superior', u'supervised', u'supplied', u'supply', u'support', u'supported', u'supporting', u'suppose', u'supposed', u'supposing', u'sure', u'surely', u'surface', u'surgery', u'surprise', u'surprised', u'surprising', u'surprisingly', u'surrogate', u'surv', u'survey', u'survival', u'survived', u'survreg', u'suspect', u'suspicious', u'svd', u'svm', u'svms', u'swap', u'sweave', u'switch', u'switching', u'symbol', u'symbolic', u'symmetric', u'symmetrical', u'symmetry', u'symptom', u'syntax', u'synthetic', u'system', u'systematic', u'systematically', u'tab', u'table', u'tackle', u'tag', u'tail', u'tailed', u'take', u'taken', u'taking', u'talk', u'talking', u'tall', u'tangent', u'tanh', u'target', u'task', u'taste', u'tau', u'taught', u'taylor', u'tc', u'te', u'teach', u'teacher', u'teaching', u'team', u'technical', u'technically', u'technique', u'technology', u'tedious', u'tell', u'telling', u'temp', u'temperature', u'temporal', u'tempted', u'ten', u'tend', u'tendency', u'tends', u'tensor', u'term', u'terminal', u'terminology', u'terrible', u'terribly', u'test', u'testdata', u'tested', u'testing', u'text', u'textbf', u'textbook', u'textrm', u'tf', u'tfrac', u'th', u'thank', u'thanks', u'theme', u'theorem', u'theoretic', u'theoretical', u'theoretically', u'theory', u'thereby', u'therefore', u'therein', u'thereof', u'thesis', u'theta', u'thin', u'thing', u'think', u'thinking', u'third', u'thomas', u'thompson', u'thorough', u'thoroughly', u'though', u'thought', u'thousand', u'thread', u'three', u'threshold', u'throughout', u'throw', u'throwing', u'thrown', u'thumb', u'thus', u'tibshirani', u'tick', u'ticket', u'tie', u'tied', u'tight', u'tilde', u'tile', u'time', u'timing', u'tiny', u'tip', u'title', u'tl', u'tmp', u'tn', u'tobit', u'today', u'together', u'token', u'told', u'tolerance', u'tom', u'tomorrow', u'ton', u'took', u'tool', u'toolbox', u'top', u'topic', u'topology', u'toss', u'tossing', u'total', u'totally', u'touch', u'tough', u'toward', u'towards', u'toy', u'tp', u'tpr', u'tr', u'trace', u'track', u'tracking', u'tractable', u'trade', u'tradeoff', u'trading', u'tradition', u'traditional', u'traditionally', u'traffic', u'train', u'trained', u'training', u'trait', u'trajectory', u'trans', u'transaction', u'transfer', u'transform', u'transformation', u'transformed', u'transforming', u'transforms', u'transition', u'translate', u'translated', u'translates', u'translation', u'transpose', u'travel', u'treat', u'treated', u'treating', u'treatment', u'tree', u'trend', u'trial', u'triangle', u'triangular', u'trick', u'trickier', u'tricky', u'tried', u'trim', u'trimmed', u'trimming', u'trip', u'triple', u'trivial', u'trivially', u'trouble', u'trt', u'true', u'truly', u'truncated', u'truncation', u'trust', u'truth', u'try', u'trying', u'tsay', u'tt', u'ttnphns', u'tukey', u'tumor', u'tune', u'tuned', u'tuning', u'turn', u'turned', u'turning', u'tutorial', u'tv', u'tweak', u'tweet', u'twice', u'twin', u'twitter', u'two', u'tx', u'txt', u'ty', u'type', u'typical', u'typically', u'typing', u'typo', u'ub', u'ucla', u'ugly', u'uk', u'ultimate', u'ultimately', u'un', u'unable', u'unadjusted', u'unbalanced', u'unbiased', u'unbiasedness', u'unbounded', u'uncertain', u'uncertainty', u'unchanged', u'unclear', u'uncommon', u'unconditional', u'unconstrained', u'uncorrelated', u'undefined', u'underbrace', u'underestimate', u'undergraduate', u'underlying', u'understand', u'understandable', u'understanding', u'understood', u'undirected', u'unemployment', u'unequal', u'unexpected', u'unexplained', u'unfortunately', u'uniform', u'uniformity', u'uniformly', u'unimodal', u'unimportant', u'uninformative', u'union', u'unique', u'uniquely', u'uniqueness', u'unit', u'unity', u'univariate', u'universal', u'universe', u'university', u'unknown', u'unlabeled', u'unless', u'unlike', u'unlikely', u'unlist', u'unnecessary', u'unobservable', u'unobserved', u'unpaired', u'unrelated', u'unreliable', u'unrestricted', u'unseen', u'unspecified', u'unstable', u'unstandardized', u'unsupervised', u'unsure', u'untransformed', u'untreated', u'unusual', u'unweighted', u'update', u'updated', u'updating', u'upon', u'upper', u'upward', u'urban', u'url', u'urn', u'us', u'usa', u'usable', u'usage', u'use', u'used', u'useful', u'usefulness', u'useless', u'user', u'using', u'usual', u'usually', u'utility', u'vague', u'val', u'valid', u'validate', u'validated', u'validating', u'validation', u'validity', u'vals', u'valuable', u'value', u'valued', u'van', u'vanilla', u'var', u'varepsilon', u'variability', u'variable', u'variance', u'variant', u'variate', u'variation', u'variational', u'varied', u'varies', u'variety', u'varietyne', u'varimax', u'variogram', u'various', u'varphi', u'vary', u'varying', u'vast', u'vc', u'vcov', u'vdots', u've', u'vec', u'vecm', u'vector', u'velocity', u'verbal', u'verified', u'verify', u'versa', u'versicolor', u'version', u'versus', u'vert', u'vertex', u'vertical', u'vi', u'via', u'vice', u'video', u'view', u'viewed', u'vif', u'vignette', u'village', u'violate', u'violated', u'violates', u'violation', u'virtually', u'virtue', u'visible', u'vision', u'visit', u'visitor', u'visual', u'visualisation', u'visualization', u'visualize', u'visualizing', u'visually', u'vocabulary', u'vol', u'volatility', u'volume', u'von', u'vote', u'voter', u'voting', u'wage', u'wait', u'waiting', u'wald', u'walk', u'wall', u'wallis', u'wang', u'want', u'wanted', u'wanting', u'ward', u'warning', u'wasn', u'waste', u'watch', u'water', u'watson', u'wave', u'wavelet', u'way', u'weak', u'weaker', u'weakly', u'weakness', u'wealth', u'weather', u'web', u'webpage', u'website', u'week', u'weekday', u'weekend', u'weekly', u'weibull', u'weigh', u'weight', u'weighted', u'weighting', u'weird', u'weka', u'welch', u'welcome', u'well', u'went', u'weren', u'west', u'whatever', u'whatsoever', u'wheel', u'whence', u'whenever', u'whereas', u'whereby', u'whether', u'whichever', u'whisker', u'white', u'whitening', u'whitney', u'whole', u'whose', u'whuber', u'wide', u'widehat', u'widely', u'wider', u'width', u'wiki', u'wikipedia', u'wilcox', u'wilcoxon', u'wild', u'wildly', u'wiley', u'wilk', u'william', u'williams', u'willing', u'wilson', u'win', u'winbugs', u'wind', u'window', u'wine', u'winner', u'winning', u'winter', u'wise', u'wish', u'wishart', u'within', u'without', u'wls', u'wolfram', u'woman', u'won', u'wonder', u'wonderful', u'wondering', u'wooldridge', u'word', u'wording', u'work', u'worked', u'worker', u'working', u'workshop', u'world', u'worried', u'worry', u'worrying', u'worse', u'worst', u'worth', u'worthwhile', u'would', u'wouldn', u'wrap', u'wrapper', u'write', u'writes', u'writing', u'written', u'wrong', u'wrongly', u'wrote', u'wrt', u'wt', u'www', u'xb', u'xi', u'xlab', u'xlim', u'xreg', u'xt', u'xx', u'xy', u'yates', u'year', u'yearly', u'yellow', u'yes', u'yet', u'yhat', u'yi', u'yield', u'yielding', u'ylab', u'ylim', u'york', u'young', u'youtube', u'yy', u'zero', u'zeta', u'zip', u'zone', u'zoo']\n"
     ]
    }
   ],
   "source": [
    "print data_features.shape\n",
    "# Take a look at the words in the vocabulary\n",
    "vocab = vectorizer.get_feature_names()\n",
    "print vocab"
   ]
  },
  {
   "cell_type": "code",
   "execution_count": 12,
   "metadata": {
    "collapsed": true
   },
   "outputs": [],
   "source": [
    "with open('../Data/ans_quality.pickle', 'rb') as handle:\n",
    "  ans_quality = pickle.load(handle)"
   ]
  },
  {
   "cell_type": "code",
   "execution_count": 15,
   "metadata": {
    "collapsed": false
   },
   "outputs": [
    {
     "data": {
      "text/plain": [
       "0    awesome\n",
       "1       good\n",
       "2    awesome\n",
       "3    awesome\n",
       "4       good\n",
       "Name: AnsQuality, dtype: category\n",
       "Categories (5, object): [bad < neutral < satisfactory < good < awesome]"
      ]
     },
     "execution_count": 15,
     "metadata": {},
     "output_type": "execute_result"
    }
   ],
   "source": [
    "ans_quality.head()"
   ]
  },
  {
   "cell_type": "code",
   "execution_count": 16,
   "metadata": {
    "collapsed": true
   },
   "outputs": [],
   "source": [
    "# encode class values as integers\n",
    "encoder = LabelEncoder()\n",
    "encoder.fit(ans_quality)\n",
    "encoded_Y = encoder.transform(ans_quality)\n",
    "# convert integers to dummy variables (i.e. one hot encoded)\n",
    "dummy_y = np_utils.to_categorical(encoded_Y)"
   ]
  },
  {
   "cell_type": "code",
   "execution_count": 20,
   "metadata": {
    "collapsed": false
   },
   "outputs": [
    {
     "data": {
      "text/plain": [
       "(74331, 5)"
      ]
     },
     "execution_count": 20,
     "metadata": {},
     "output_type": "execute_result"
    }
   ],
   "source": [
    "dummy_y.shape"
   ]
  },
  {
   "cell_type": "code",
   "execution_count": 25,
   "metadata": {
    "collapsed": true
   },
   "outputs": [],
   "source": [
    "seed = 1234\n",
    "X_train, X_validation, Y_train, Y_validation = cross_validation.train_test_split(data_features, ans_quality,\n",
    "    test_size=0.2, random_state=seed)"
   ]
  },
  {
   "cell_type": "code",
   "execution_count": 28,
   "metadata": {
    "collapsed": false
   },
   "outputs": [
    {
     "name": "stdout",
     "output_type": "stream",
     "text": [
      "Training the random forest...\n"
     ]
    }
   ],
   "source": [
    "print \"Training the random forest...\"\n",
    "from sklearn.ensemble import RandomForestClassifier\n",
    "\n",
    "# Initialize a Random Forest classifier with 100 trees\n",
    "forest = RandomForestClassifier(n_estimators = 100) "
   ]
  },
  {
   "cell_type": "code",
   "execution_count": 29,
   "metadata": {
    "collapsed": true
   },
   "outputs": [],
   "source": [
    "# Fit the forest to the training set, using the bag of words as \n",
    "# features and the sentiment labels as the response variable\n",
    "#\n",
    "# This may take a few minutes to run\n",
    "forest = forest.fit(X_train, Y_train)"
   ]
  },
  {
   "cell_type": "code",
   "execution_count": 31,
   "metadata": {
    "collapsed": true
   },
   "outputs": [],
   "source": [
    "# Use the random forest to make sentiment label predictions\n",
    "predictions = forest.predict(X_validation)"
   ]
  },
  {
   "cell_type": "code",
   "execution_count": 30,
   "metadata": {
    "collapsed": true
   },
   "outputs": [],
   "source": [
    "from sklearn.metrics import classification_report\n",
    "from sklearn.metrics import confusion_matrix\n",
    "from sklearn.metrics import accuracy_score"
   ]
  },
  {
   "cell_type": "code",
   "execution_count": 32,
   "metadata": {
    "collapsed": false
   },
   "outputs": [
    {
     "name": "stdout",
     "output_type": "stream",
     "text": [
      "0.472388511468\n",
      "[[   3    0  204    3  123]\n",
      " [   0    0   26    2  150]\n",
      " [   2    0 2099   10 3045]\n",
      " [   0    0  402   19 2298]\n",
      " [   0    0 1550   29 4902]]\n",
      "             precision    recall  f1-score   support\n",
      "\n",
      "    awesome       0.60      0.01      0.02       333\n",
      "        bad       0.00      0.00      0.00       178\n",
      "       good       0.49      0.41      0.44      5156\n",
      "    neutral       0.30      0.01      0.01      2719\n",
      "satisfactory       0.47      0.76      0.58      6481\n",
      "\n",
      "avg / total       0.44      0.47      0.41     14867\n",
      "\n"
     ]
    },
    {
     "name": "stderr",
     "output_type": "stream",
     "text": [
      "//anaconda/lib/python2.7/site-packages/sklearn/metrics/classification.py:1074: UndefinedMetricWarning: Precision and F-score are ill-defined and being set to 0.0 in labels with no predicted samples.\n",
      "  'precision', 'predicted', average, warn_for)\n"
     ]
    }
   ],
   "source": [
    "print(accuracy_score(Y_validation, predictions))\n",
    "print(confusion_matrix(Y_validation, predictions))\n",
    "print(classification_report(Y_validation, predictions))"
   ]
  },
  {
   "cell_type": "code",
   "execution_count": 33,
   "metadata": {
    "collapsed": false
   },
   "outputs": [
    {
     "data": {
      "text/plain": [
       "array(['satisfactory', 'satisfactory', 'satisfactory', ..., 'satisfactory',\n",
       "       'satisfactory', 'satisfactory'], dtype=object)"
      ]
     },
     "execution_count": 33,
     "metadata": {},
     "output_type": "execute_result"
    }
   ],
   "source": [
    "predictions"
   ]
  },
  {
   "cell_type": "code",
   "execution_count": 37,
   "metadata": {
    "collapsed": false
   },
   "outputs": [
    {
     "data": {
      "text/plain": [
       "Counter({'satisfactory': 10518, 'good': 4281, 'neutral': 63, 'awesome': 5})"
      ]
     },
     "execution_count": 37,
     "metadata": {},
     "output_type": "execute_result"
    }
   ],
   "source": [
    "from collections import Counter\n",
    "Counter(list(predictions))"
   ]
  },
  {
   "cell_type": "code",
   "execution_count": 38,
   "metadata": {
    "collapsed": false
   },
   "outputs": [
    {
     "data": {
      "text/plain": [
       "Counter({'satisfactory': 6481, 'good': 5156, 'neutral': 2719, 'awesome': 333, 'bad': 178})"
      ]
     },
     "execution_count": 38,
     "metadata": {},
     "output_type": "execute_result"
    }
   ],
   "source": [
    "Counter(list(Y_validation))"
   ]
  },
  {
   "cell_type": "code",
   "execution_count": null,
   "metadata": {
    "collapsed": true
   },
   "outputs": [],
   "source": []
  }
 ],
 "metadata": {
  "kernelspec": {
   "display_name": "Python 2",
   "language": "python",
   "name": "python2"
  },
  "language_info": {
   "codemirror_mode": {
    "name": "ipython",
    "version": 2
   },
   "file_extension": ".py",
   "mimetype": "text/x-python",
   "name": "python",
   "nbconvert_exporter": "python",
   "pygments_lexer": "ipython2",
   "version": "2.7.11"
  }
 },
 "nbformat": 4,
 "nbformat_minor": 0
}
