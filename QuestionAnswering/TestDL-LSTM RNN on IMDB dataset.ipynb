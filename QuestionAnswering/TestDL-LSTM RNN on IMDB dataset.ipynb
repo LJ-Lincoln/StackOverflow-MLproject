{
 "cells": [
  {
   "cell_type": "code",
   "execution_count": 1,
   "metadata": {
    "collapsed": false
   },
   "outputs": [
    {
     "name": "stderr",
     "output_type": "stream",
     "text": [
      "Using Theano backend.\n"
     ]
    }
   ],
   "source": [
    "from __future__ import print_function\n",
    "import numpy as np\n",
    "np.random.seed(1337)  # for reproducibility\n",
    "\n",
    "from keras.preprocessing import sequence\n",
    "from keras.utils import np_utils\n",
    "from keras.models import Sequential\n",
    "from keras.layers import Dense, Dropout, Activation, Embedding\n",
    "from keras.layers import LSTM, SimpleRNN, GRU\n",
    "from keras.datasets import imdb"
   ]
  },
  {
   "cell_type": "code",
   "execution_count": 11,
   "metadata": {
    "collapsed": false
   },
   "outputs": [
    {
     "name": "stdout",
     "output_type": "stream",
     "text": [
      "Loading data...\n"
     ]
    }
   ],
   "source": [
    "max_features = 20000\n",
    "maxlen = 80  # cut texts after this number of words (among top max_features most common words)\n",
    "batch_size = 32\n",
    "\n",
    "print('Loading data...')\n",
    "(X_train, y_train), (X_test, y_test) = imdb.load_data(nb_words=max_features,\n",
    "                                                      test_split=0.2)"
   ]
  },
  {
   "cell_type": "code",
   "execution_count": 12,
   "metadata": {
    "collapsed": false
   },
   "outputs": [
    {
     "data": {
      "text/plain": [
       "numpy.ndarray"
      ]
     },
     "execution_count": 12,
     "metadata": {},
     "output_type": "execute_result"
    }
   ],
   "source": [
    "type(X_train)"
   ]
  },
  {
   "cell_type": "code",
   "execution_count": 13,
   "metadata": {
    "collapsed": false
   },
   "outputs": [
    {
     "name": "stdout",
     "output_type": "stream",
     "text": [
      "20000 train sequences\n",
      "5000 test sequences\n"
     ]
    }
   ],
   "source": [
    "print(len(X_train), 'train sequences')\n",
    "print(len(X_test), 'test sequences')"
   ]
  },
  {
   "cell_type": "code",
   "execution_count": 14,
   "metadata": {
    "collapsed": false
   },
   "outputs": [
    {
     "data": {
      "text/plain": [
       "(20000,)"
      ]
     },
     "execution_count": 14,
     "metadata": {},
     "output_type": "execute_result"
    }
   ],
   "source": [
    "X_train.shape"
   ]
  },
  {
   "cell_type": "code",
   "execution_count": 16,
   "metadata": {
    "collapsed": false
   },
   "outputs": [
    {
     "name": "stdout",
     "output_type": "stream",
     "text": [
      "Pad sequences (samples x time)\n",
      "X_train shape: (20000, 80)\n",
      "X_test shape: (5000, 80)\n"
     ]
    }
   ],
   "source": [
    "print('Pad sequences (samples x time)')\n",
    "X_train = sequence.pad_sequences(X_train, maxlen=maxlen)\n",
    "X_test = sequence.pad_sequences(X_test, maxlen=maxlen)\n",
    "print('X_train shape:', X_train.shape)\n",
    "print('X_test shape:', X_test.shape)"
   ]
  },
  {
   "cell_type": "code",
   "execution_count": 17,
   "metadata": {
    "collapsed": false
   },
   "outputs": [
    {
     "data": {
      "text/plain": [
       "array([[ 360,    7,   19, ...,  256,   82,    7],\n",
       "       [   6,  102,   37, ...,    5, 1324,    7],\n",
       "       [ 853,    6,   51, ...,   28, 1872,   43],\n",
       "       ..., \n",
       "       [  19, 1174,   17, ...,  546, 2244,    7],\n",
       "       [  10, 1972,   49, ...,   13, 1053,    7],\n",
       "       [  69,  138,    7, ...,   51,   91,    7]], dtype=int32)"
      ]
     },
     "execution_count": 17,
     "metadata": {},
     "output_type": "execute_result"
    }
   ],
   "source": [
    "X_train"
   ]
  },
  {
   "cell_type": "code",
   "execution_count": 18,
   "metadata": {
    "collapsed": false
   },
   "outputs": [
    {
     "name": "stdout",
     "output_type": "stream",
     "text": [
      "Build model...\n"
     ]
    }
   ],
   "source": [
    "print('Build model...')\n",
    "model = Sequential()\n",
    "model.add(Embedding(max_features, 128, input_length=maxlen, dropout=0.2))\n",
    "model.add(LSTM(128, dropout_W=0.2, dropout_U=0.2))  # try using a GRU instead, for fun\n",
    "model.add(Dense(1))\n",
    "model.add(Activation('sigmoid'))"
   ]
  },
  {
   "cell_type": "code",
   "execution_count": 19,
   "metadata": {
    "collapsed": true
   },
   "outputs": [],
   "source": [
    "# try using different optimizers and different optimizer configs\n",
    "model.compile(loss='binary_crossentropy',\n",
    "              optimizer='adam',\n",
    "              metrics=['accuracy'])"
   ]
  },
  {
   "cell_type": "code",
   "execution_count": 20,
   "metadata": {
    "collapsed": false
   },
   "outputs": [
    {
     "name": "stdout",
     "output_type": "stream",
     "text": [
      "Train...\n",
      "(20000, 80)\n",
      "(20000,)\n"
     ]
    }
   ],
   "source": [
    "print('Train...')\n",
    "print(X_train.shape)\n",
    "print(y_train.shape)"
   ]
  },
  {
   "cell_type": "code",
   "execution_count": 21,
   "metadata": {
    "collapsed": false
   },
   "outputs": [
    {
     "name": "stdout",
     "output_type": "stream",
     "text": [
      "Train on 20000 samples, validate on 5000 samples\n",
      "Epoch 1/15\n",
      "20000/20000 [==============================] - 135s - loss: 0.5731 - acc: 0.6960 - val_loss: 0.4340 - val_acc: 0.8030\n",
      "Epoch 2/15\n",
      "20000/20000 [==============================] - 141s - loss: 0.4221 - acc: 0.8132 - val_loss: 0.3903 - val_acc: 0.8226\n",
      "Epoch 3/15\n",
      "20000/20000 [==============================] - 142s - loss: 0.3353 - acc: 0.8570 - val_loss: 0.3857 - val_acc: 0.8238\n",
      "Epoch 4/15\n",
      "20000/20000 [==============================] - 141s - loss: 0.2772 - acc: 0.8864 - val_loss: 0.3912 - val_acc: 0.8238\n",
      "Epoch 5/15\n",
      "20000/20000 [==============================] - 148s - loss: 0.2304 - acc: 0.9091 - val_loss: 0.4525 - val_acc: 0.8170\n",
      "Epoch 6/15\n",
      "20000/20000 [==============================] - 146s - loss: 0.1919 - acc: 0.9259 - val_loss: 0.5348 - val_acc: 0.8100\n",
      "Epoch 7/15\n",
      "20000/20000 [==============================] - 150s - loss: 0.1634 - acc: 0.9388 - val_loss: 0.4766 - val_acc: 0.8160\n",
      "Epoch 8/15\n",
      "20000/20000 [==============================] - 147s - loss: 0.1339 - acc: 0.9503 - val_loss: 0.5492 - val_acc: 0.8174\n",
      "Epoch 9/15\n",
      "20000/20000 [==============================] - 144s - loss: 0.1241 - acc: 0.9528 - val_loss: 0.5029 - val_acc: 0.8188\n",
      "Epoch 10/15\n",
      "20000/20000 [==============================] - 143s - loss: 0.1040 - acc: 0.9606 - val_loss: 0.6347 - val_acc: 0.8134\n",
      "Epoch 11/15\n",
      "20000/20000 [==============================] - 142s - loss: 0.0901 - acc: 0.9659 - val_loss: 0.6492 - val_acc: 0.8098\n",
      "Epoch 12/15\n",
      "20000/20000 [==============================] - 140s - loss: 0.0810 - acc: 0.9689 - val_loss: 0.6644 - val_acc: 0.8120\n",
      "Epoch 13/15\n",
      "20000/20000 [==============================] - 142s - loss: 0.0772 - acc: 0.9718 - val_loss: 0.6266 - val_acc: 0.8112\n",
      "Epoch 14/15\n",
      "20000/20000 [==============================] - 144s - loss: 0.0691 - acc: 0.9755 - val_loss: 0.7563 - val_acc: 0.8098\n",
      "Epoch 15/15\n",
      "20000/20000 [==============================] - 141s - loss: 0.0666 - acc: 0.9757 - val_loss: 0.6680 - val_acc: 0.8154\n"
     ]
    },
    {
     "data": {
      "text/plain": [
       "<keras.callbacks.History at 0x12ebca850>"
      ]
     },
     "execution_count": 21,
     "metadata": {},
     "output_type": "execute_result"
    }
   ],
   "source": [
    "model.fit(X_train, y_train, batch_size=batch_size, nb_epoch=15,\n",
    "          validation_data=(X_test, y_test))"
   ]
  },
  {
   "cell_type": "code",
   "execution_count": 22,
   "metadata": {
    "collapsed": false
   },
   "outputs": [
    {
     "name": "stdout",
     "output_type": "stream",
     "text": [
      "5000/5000 [==============================] - 8s     \n",
      "Test score: 0.668048014212\n",
      "Test accuracy: 0.8154\n"
     ]
    }
   ],
   "source": [
    "score, acc = model.evaluate(X_test, y_test,\n",
    "                            batch_size=batch_size)\n",
    "print('Test score:', score)\n",
    "print('Test accuracy:', acc)"
   ]
  },
  {
   "cell_type": "code",
   "execution_count": 2,
   "metadata": {
    "collapsed": false
   },
   "outputs": [],
   "source": [
    "import itertools\n",
    "import numpy as np"
   ]
  },
  {
   "cell_type": "code",
   "execution_count": 3,
   "metadata": {
    "collapsed": true
   },
   "outputs": [],
   "source": [
    "sentences = '''\n",
    "sam is red\n",
    "hannah not red\n",
    "hannah is green\n",
    "bob is green\n",
    "bob not red\n",
    "sam not green\n",
    "sarah is red\n",
    "sarah not green'''.strip().split('\\n')"
   ]
  },
  {
   "cell_type": "code",
   "execution_count": 4,
   "metadata": {
    "collapsed": false
   },
   "outputs": [
    {
     "data": {
      "text/plain": [
       "['sam is red',\n",
       " 'hannah not red',\n",
       " 'hannah is green',\n",
       " 'bob is green',\n",
       " 'bob not red',\n",
       " 'sam not green',\n",
       " 'sarah is red',\n",
       " 'sarah not green']"
      ]
     },
     "execution_count": 4,
     "metadata": {},
     "output_type": "execute_result"
    }
   ],
   "source": [
    "sentences"
   ]
  },
  {
   "cell_type": "code",
   "execution_count": 5,
   "metadata": {
    "collapsed": true
   },
   "outputs": [],
   "source": [
    "is_green = np.asarray([[0, 1, 1, 1, 1, 0, 0, 0]], dtype='int32').T"
   ]
  },
  {
   "cell_type": "code",
   "execution_count": 6,
   "metadata": {
    "collapsed": false
   },
   "outputs": [
    {
     "data": {
      "text/plain": [
       "array([[0],\n",
       "       [1],\n",
       "       [1],\n",
       "       [1],\n",
       "       [1],\n",
       "       [0],\n",
       "       [0],\n",
       "       [0]], dtype=int32)"
      ]
     },
     "execution_count": 6,
     "metadata": {},
     "output_type": "execute_result"
    }
   ],
   "source": [
    "is_green"
   ]
  },
  {
   "cell_type": "code",
   "execution_count": 7,
   "metadata": {
    "collapsed": true
   },
   "outputs": [],
   "source": [
    "lemma = lambda x: x.strip().lower().split(' ')\n",
    "sentences_lemmatized = [lemma(sentence) for sentence in sentences]"
   ]
  },
  {
   "cell_type": "code",
   "execution_count": 8,
   "metadata": {
    "collapsed": false
   },
   "outputs": [
    {
     "data": {
      "text/plain": [
       "[['sam', 'is', 'red'],\n",
       " ['hannah', 'not', 'red'],\n",
       " ['hannah', 'is', 'green'],\n",
       " ['bob', 'is', 'green'],\n",
       " ['bob', 'not', 'red'],\n",
       " ['sam', 'not', 'green'],\n",
       " ['sarah', 'is', 'red'],\n",
       " ['sarah', 'not', 'green']]"
      ]
     },
     "execution_count": 8,
     "metadata": {},
     "output_type": "execute_result"
    }
   ],
   "source": [
    "sentences_lemmatized"
   ]
  },
  {
   "cell_type": "code",
   "execution_count": 9,
   "metadata": {
    "collapsed": false
   },
   "outputs": [
    {
     "data": {
      "text/plain": [
       "list"
      ]
     },
     "execution_count": 9,
     "metadata": {},
     "output_type": "execute_result"
    }
   ],
   "source": [
    "type(sentences_lemmatized)"
   ]
  },
  {
   "cell_type": "code",
   "execution_count": 10,
   "metadata": {
    "collapsed": false
   },
   "outputs": [],
   "source": [
    "words = set(itertools.chain(*sentences_lemmatized))"
   ]
  },
  {
   "cell_type": "code",
   "execution_count": 11,
   "metadata": {
    "collapsed": false
   },
   "outputs": [
    {
     "data": {
      "text/plain": [
       "{'bob', 'green', 'hannah', 'is', 'not', 'red', 'sam', 'sarah'}"
      ]
     },
     "execution_count": 11,
     "metadata": {},
     "output_type": "execute_result"
    }
   ],
   "source": [
    "words"
   ]
  },
  {
   "cell_type": "code",
   "execution_count": 12,
   "metadata": {
    "collapsed": true
   },
   "outputs": [],
   "source": [
    "# dictionaries for converting words to integers and vice versa\n",
    "word2idx = dict((v, i) for i, v in enumerate(words))\n",
    "idx2word = list(words)"
   ]
  },
  {
   "cell_type": "code",
   "execution_count": 13,
   "metadata": {
    "collapsed": false
   },
   "outputs": [
    {
     "data": {
      "text/plain": [
       "{'bob': 6,\n",
       " 'green': 4,\n",
       " 'hannah': 2,\n",
       " 'is': 3,\n",
       " 'not': 5,\n",
       " 'red': 7,\n",
       " 'sam': 1,\n",
       " 'sarah': 0}"
      ]
     },
     "execution_count": 13,
     "metadata": {},
     "output_type": "execute_result"
    }
   ],
   "source": [
    "word2idx"
   ]
  },
  {
   "cell_type": "code",
   "execution_count": 14,
   "metadata": {
    "collapsed": false
   },
   "outputs": [
    {
     "data": {
      "text/plain": [
       "['sarah', 'sam', 'hannah', 'is', 'green', 'not', 'bob', 'red']"
      ]
     },
     "execution_count": 14,
     "metadata": {},
     "output_type": "execute_result"
    }
   ],
   "source": [
    "idx2word"
   ]
  },
  {
   "cell_type": "code",
   "execution_count": 15,
   "metadata": {
    "collapsed": true
   },
   "outputs": [],
   "source": [
    "# convert the sentences a numpy array\n",
    "to_idx = lambda x: [word2idx[word] for word in x]\n",
    "sentences_idx = [to_idx(sentence) for sentence in sentences_lemmatized]\n",
    "sentences_array = np.asarray(sentences_idx, dtype='int32')"
   ]
  },
  {
   "cell_type": "code",
   "execution_count": 16,
   "metadata": {
    "collapsed": false
   },
   "outputs": [
    {
     "data": {
      "text/plain": [
       "array([[1, 3, 7],\n",
       "       [2, 5, 7],\n",
       "       [2, 3, 4],\n",
       "       [6, 3, 4],\n",
       "       [6, 5, 7],\n",
       "       [1, 5, 4],\n",
       "       [0, 3, 7],\n",
       "       [0, 5, 4]], dtype=int32)"
      ]
     },
     "execution_count": 16,
     "metadata": {},
     "output_type": "execute_result"
    }
   ],
   "source": [
    "sentences_array"
   ]
  },
  {
   "cell_type": "code",
   "execution_count": 17,
   "metadata": {
    "collapsed": false
   },
   "outputs": [],
   "source": [
    "# parameters for the model\n",
    "sentence_maxlen = 3\n",
    "n_words = len(words)\n",
    "n_embed_dims = 3"
   ]
  },
  {
   "cell_type": "code",
   "execution_count": 18,
   "metadata": {
    "collapsed": false
   },
   "outputs": [
    {
     "name": "stderr",
     "output_type": "stream",
     "text": [
      "Using Theano backend.\n"
     ]
    }
   ],
   "source": [
    "# put together a model to predict \n",
    "from keras.layers import Input, Embedding, merge, Flatten, SimpleRNN\n",
    "from keras.models import Model"
   ]
  },
  {
   "cell_type": "code",
   "execution_count": 19,
   "metadata": {
    "collapsed": true
   },
   "outputs": [],
   "source": [
    "input_sentence = Input(shape=(sentence_maxlen,), dtype='int32')\n",
    "input_embedding = Embedding(n_words, n_embed_dims)(input_sentence)\n",
    "color_prediction = SimpleRNN(1)(input_embedding)"
   ]
  },
  {
   "cell_type": "code",
   "execution_count": 20,
   "metadata": {
    "collapsed": true
   },
   "outputs": [],
   "source": [
    "predict_green = Model(input=[input_sentence], output=[color_prediction])\n",
    "predict_green.compile(optimizer='sgd', loss='binary_crossentropy')"
   ]
  },
  {
   "cell_type": "code",
   "execution_count": 21,
   "metadata": {
    "collapsed": false
   },
   "outputs": [
    {
     "name": "stdout",
     "output_type": "stream",
     "text": [
      "Epoch 1/500\n",
      "8/8 [==============================] - 0s - loss: 5.1168\n",
      "Epoch 2/500\n",
      "8/8 [==============================] - 0s - loss: 0.6719\n",
      "Epoch 3/500\n",
      "8/8 [==============================] - 0s - loss: 0.6579\n",
      "Epoch 4/500\n",
      "8/8 [==============================] - 0s - loss: 0.6453\n",
      "Epoch 5/500\n",
      "8/8 [==============================] - 0s - loss: 0.6336\n",
      "Epoch 6/500\n",
      "8/8 [==============================] - 0s - loss: 0.6226\n",
      "Epoch 7/500\n",
      "8/8 [==============================] - 0s - loss: 0.6120\n",
      "Epoch 8/500\n",
      "8/8 [==============================] - 0s - loss: 0.6018\n",
      "Epoch 9/500\n",
      "8/8 [==============================] - 0s - loss: 0.5919\n",
      "Epoch 10/500\n",
      "8/8 [==============================] - 0s - loss: 0.5822\n",
      "Epoch 11/500\n",
      "8/8 [==============================] - 0s - loss: 0.5726\n",
      "Epoch 12/500\n",
      "8/8 [==============================] - 0s - loss: 0.5632\n",
      "Epoch 13/500\n",
      "8/8 [==============================] - 0s - loss: 0.5538\n",
      "Epoch 14/500\n",
      "8/8 [==============================] - 0s - loss: 0.5444\n",
      "Epoch 15/500\n",
      "8/8 [==============================] - 0s - loss: 0.5351\n",
      "Epoch 16/500\n",
      "8/8 [==============================] - 0s - loss: 0.5259\n",
      "Epoch 17/500\n",
      "8/8 [==============================] - 0s - loss: 0.5166\n",
      "Epoch 18/500\n",
      "8/8 [==============================] - 0s - loss: 0.5073\n",
      "Epoch 19/500\n",
      "8/8 [==============================] - 0s - loss: 0.4980\n",
      "Epoch 20/500\n",
      "8/8 [==============================] - 0s - loss: 0.4887\n",
      "Epoch 21/500\n",
      "8/8 [==============================] - 0s - loss: 0.4794\n",
      "Epoch 22/500\n",
      "8/8 [==============================] - 0s - loss: 0.4700\n",
      "Epoch 23/500\n",
      "8/8 [==============================] - 0s - loss: 0.4606\n",
      "Epoch 24/500\n",
      "8/8 [==============================] - 0s - loss: 0.4512\n",
      "Epoch 25/500\n",
      "8/8 [==============================] - 0s - loss: 0.4417\n",
      "Epoch 26/500\n",
      "8/8 [==============================] - 0s - loss: 0.4321\n",
      "Epoch 27/500\n",
      "8/8 [==============================] - 0s - loss: 0.4225\n",
      "Epoch 28/500\n",
      "8/8 [==============================] - 0s - loss: 0.4129\n",
      "Epoch 29/500\n",
      "8/8 [==============================] - 0s - loss: 0.4032\n",
      "Epoch 30/500\n",
      "8/8 [==============================] - 0s - loss: 0.3935\n",
      "Epoch 31/500\n",
      "8/8 [==============================] - 0s - loss: 0.3837\n",
      "Epoch 32/500\n",
      "8/8 [==============================] - 0s - loss: 0.3739\n",
      "Epoch 33/500\n",
      "8/8 [==============================] - 0s - loss: 0.3640\n",
      "Epoch 34/500\n",
      "8/8 [==============================] - 0s - loss: 0.3541\n",
      "Epoch 35/500\n",
      "8/8 [==============================] - 0s - loss: 0.3441\n",
      "Epoch 36/500\n",
      "8/8 [==============================] - 0s - loss: 0.3342\n",
      "Epoch 37/500\n",
      "8/8 [==============================] - 0s - loss: 0.3242\n",
      "Epoch 38/500\n",
      "8/8 [==============================] - 0s - loss: 0.3142\n",
      "Epoch 39/500\n",
      "8/8 [==============================] - 0s - loss: 0.3041\n",
      "Epoch 40/500\n",
      "8/8 [==============================] - 0s - loss: 0.2941\n",
      "Epoch 41/500\n",
      "8/8 [==============================] - 0s - loss: 0.2840\n",
      "Epoch 42/500\n",
      "8/8 [==============================] - 0s - loss: 0.2740\n",
      "Epoch 43/500\n",
      "8/8 [==============================] - 0s - loss: 0.2639\n",
      "Epoch 44/500\n",
      "8/8 [==============================] - 0s - loss: 0.2542\n",
      "Epoch 45/500\n",
      "8/8 [==============================] - 0s - loss: 0.2465\n",
      "Epoch 46/500\n",
      "8/8 [==============================] - 0s - loss: 0.2388\n",
      "Epoch 47/500\n",
      "8/8 [==============================] - 0s - loss: 0.2312\n",
      "Epoch 48/500\n",
      "8/8 [==============================] - 0s - loss: 0.2237\n",
      "Epoch 49/500\n",
      "8/8 [==============================] - 0s - loss: 0.2162\n",
      "Epoch 50/500\n",
      "8/8 [==============================] - 0s - loss: 0.2088\n",
      "Epoch 51/500\n",
      "8/8 [==============================] - 0s - loss: 0.2024\n",
      "Epoch 52/500\n",
      "8/8 [==============================] - 0s - loss: 0.1964\n",
      "Epoch 53/500\n",
      "8/8 [==============================] - 0s - loss: 0.1906\n",
      "Epoch 54/500\n",
      "8/8 [==============================] - 0s - loss: 0.1849\n",
      "Epoch 55/500\n",
      "8/8 [==============================] - 0s - loss: 0.1796\n",
      "Epoch 56/500\n",
      "8/8 [==============================] - 0s - loss: 0.1749\n",
      "Epoch 57/500\n",
      "8/8 [==============================] - 0s - loss: 0.1706\n",
      "Epoch 58/500\n",
      "8/8 [==============================] - 0s - loss: 0.1663\n",
      "Epoch 59/500\n",
      "8/8 [==============================] - 0s - loss: 0.1621\n",
      "Epoch 60/500\n",
      "8/8 [==============================] - 0s - loss: 0.1581\n",
      "Epoch 61/500\n",
      "8/8 [==============================] - 0s - loss: 0.1543\n",
      "Epoch 62/500\n",
      "8/8 [==============================] - 0s - loss: 0.1506\n",
      "Epoch 63/500\n",
      "8/8 [==============================] - 0s - loss: 0.1482\n",
      "Epoch 64/500\n",
      "8/8 [==============================] - 0s - loss: 0.1456\n",
      "Epoch 65/500\n",
      "8/8 [==============================] - 0s - loss: 0.1419\n",
      "Epoch 66/500\n",
      "8/8 [==============================] - 0s - loss: 0.1397\n",
      "Epoch 67/500\n",
      "8/8 [==============================] - 0s - loss: 0.1385\n",
      "Epoch 68/500\n",
      "8/8 [==============================] - 0s - loss: 0.1351\n",
      "Epoch 69/500\n",
      "8/8 [==============================] - 0s - loss: 0.1320\n",
      "Epoch 70/500\n",
      "8/8 [==============================] - 0s - loss: 0.1294\n",
      "Epoch 71/500\n",
      "8/8 [==============================] - 0s - loss: 0.1276\n",
      "Epoch 72/500\n",
      "8/8 [==============================] - 0s - loss: 0.1249\n",
      "Epoch 73/500\n",
      "8/8 [==============================] - 0s - loss: 0.1236\n",
      "Epoch 74/500\n",
      "8/8 [==============================] - 0s - loss: 0.1209\n",
      "Epoch 75/500\n",
      "8/8 [==============================] - 0s - loss: 0.1191\n",
      "Epoch 76/500\n",
      "8/8 [==============================] - 0s - loss: 0.1174\n",
      "Epoch 77/500\n",
      "8/8 [==============================] - 0s - loss: 0.1150\n",
      "Epoch 78/500\n",
      "8/8 [==============================] - 0s - loss: 0.1138\n",
      "Epoch 79/500\n",
      "8/8 [==============================] - 0s - loss: 0.1133\n",
      "Epoch 80/500\n",
      "8/8 [==============================] - 0s - loss: 0.1111\n",
      "Epoch 81/500\n",
      "8/8 [==============================] - 0s - loss: 0.1089\n",
      "Epoch 82/500\n",
      "8/8 [==============================] - 0s - loss: 0.1069\n",
      "Epoch 83/500\n",
      "8/8 [==============================] - 0s - loss: 0.1049\n",
      "Epoch 84/500\n",
      "8/8 [==============================] - 0s - loss: 0.1043\n",
      "Epoch 85/500\n",
      "8/8 [==============================] - 0s - loss: 0.1037\n",
      "Epoch 86/500\n",
      "8/8 [==============================] - 0s - loss: 0.1018\n",
      "Epoch 87/500\n",
      "8/8 [==============================] - 0s - loss: 0.1000\n",
      "Epoch 88/500\n",
      "8/8 [==============================] - 0s - loss: 0.0983\n",
      "Epoch 89/500\n",
      "8/8 [==============================] - 0s - loss: 0.0967\n",
      "Epoch 90/500\n",
      "8/8 [==============================] - 0s - loss: 0.0951\n",
      "Epoch 91/500\n",
      "8/8 [==============================] - 0s - loss: 0.0952\n",
      "Epoch 92/500\n",
      "8/8 [==============================] - 0s - loss: 0.0943\n",
      "Epoch 93/500\n",
      "8/8 [==============================] - 0s - loss: 0.0927\n",
      "Epoch 94/500\n",
      "8/8 [==============================] - 0s - loss: 0.0913\n",
      "Epoch 95/500\n",
      "8/8 [==============================] - 0s - loss: 0.0898\n",
      "Epoch 96/500\n",
      "8/8 [==============================] - 0s - loss: 0.0885\n",
      "Epoch 97/500\n",
      "8/8 [==============================] - 0s - loss: 0.0871\n",
      "Epoch 98/500\n",
      "8/8 [==============================] - 0s - loss: 0.0859\n",
      "Epoch 99/500\n",
      "8/8 [==============================] - 0s - loss: 0.0861\n",
      "Epoch 100/500\n",
      "8/8 [==============================] - 0s - loss: 0.0848\n",
      "Epoch 101/500\n",
      "8/8 [==============================] - 0s - loss: 0.0836\n",
      "Epoch 102/500\n",
      "8/8 [==============================] - 0s - loss: 0.0824\n",
      "Epoch 103/500\n",
      "8/8 [==============================] - 0s - loss: 0.0812\n",
      "Epoch 104/500\n",
      "8/8 [==============================] - 0s - loss: 0.0805\n",
      "Epoch 105/500\n",
      "8/8 [==============================] - 0s - loss: 0.0795\n",
      "Epoch 106/500\n",
      "8/8 [==============================] - 0s - loss: 0.0784\n",
      "Epoch 107/500\n",
      "8/8 [==============================] - 0s - loss: 0.0776\n",
      "Epoch 108/500\n",
      "8/8 [==============================] - 0s - loss: 0.0773\n",
      "Epoch 109/500\n",
      "8/8 [==============================] - 0s - loss: 0.0763\n",
      "Epoch 110/500\n",
      "8/8 [==============================] - 0s - loss: 0.0753\n",
      "Epoch 111/500\n",
      "8/8 [==============================] - 0s - loss: 0.0746\n",
      "Epoch 112/500\n",
      "8/8 [==============================] - 0s - loss: 0.0743\n",
      "Epoch 113/500\n",
      "8/8 [==============================] - 0s - loss: 0.0733\n",
      "Epoch 114/500\n",
      "8/8 [==============================] - 0s - loss: 0.0724\n",
      "Epoch 115/500\n",
      "8/8 [==============================] - 0s - loss: 0.0715\n",
      "Epoch 116/500\n",
      "8/8 [==============================] - 0s - loss: 0.0706\n",
      "Epoch 117/500\n",
      "8/8 [==============================] - 0s - loss: 0.0699\n",
      "Epoch 118/500\n",
      "8/8 [==============================] - 0s - loss: 0.0698\n",
      "Epoch 119/500\n",
      "8/8 [==============================] - 0s - loss: 0.0690\n",
      "Epoch 120/500\n",
      "8/8 [==============================] - 0s - loss: 0.0682\n",
      "Epoch 121/500\n",
      "8/8 [==============================] - 0s - loss: 0.0674\n",
      "Epoch 122/500\n",
      "8/8 [==============================] - 0s - loss: 0.0667\n",
      "Epoch 123/500\n",
      "8/8 [==============================] - 0s - loss: 0.0667\n",
      "Epoch 124/500\n",
      "8/8 [==============================] - 0s - loss: 0.0659\n",
      "Epoch 125/500\n",
      "8/8 [==============================] - 0s - loss: 0.0652\n",
      "Epoch 126/500\n",
      "8/8 [==============================] - 0s - loss: 0.0645\n",
      "Epoch 127/500\n",
      "8/8 [==============================] - 0s - loss: 0.0638\n",
      "Epoch 128/500\n",
      "8/8 [==============================] - 0s - loss: 0.0631\n",
      "Epoch 129/500\n",
      "8/8 [==============================] - 0s - loss: 0.0626\n",
      "Epoch 130/500\n",
      "8/8 [==============================] - 0s - loss: 0.0625\n",
      "Epoch 131/500\n",
      "8/8 [==============================] - 0s - loss: 0.0618\n",
      "Epoch 132/500\n",
      "8/8 [==============================] - 0s - loss: 0.0612\n",
      "Epoch 133/500\n",
      "8/8 [==============================] - 0s - loss: 0.0605\n",
      "Epoch 134/500\n",
      "8/8 [==============================] - 0s - loss: 0.0599\n",
      "Epoch 135/500\n",
      "8/8 [==============================] - 0s - loss: 0.0593\n",
      "Epoch 136/500\n",
      "8/8 [==============================] - 0s - loss: 0.0594\n",
      "Epoch 137/500\n",
      "8/8 [==============================] - 0s - loss: 0.0589\n",
      "Epoch 138/500\n",
      "8/8 [==============================] - 0s - loss: 0.0583\n",
      "Epoch 139/500\n",
      "8/8 [==============================] - 0s - loss: 0.0577\n",
      "Epoch 140/500\n",
      "8/8 [==============================] - 0s - loss: 0.0571\n",
      "Epoch 141/500\n",
      "8/8 [==============================] - 0s - loss: 0.0566\n",
      "Epoch 142/500\n",
      "8/8 [==============================] - 0s - loss: 0.0561\n",
      "Epoch 143/500\n",
      "8/8 [==============================] - 0s - loss: 0.0558\n",
      "Epoch 144/500\n",
      "8/8 [==============================] - 0s - loss: 0.0557\n",
      "Epoch 145/500\n",
      "8/8 [==============================] - 0s - loss: 0.0552\n",
      "Epoch 146/500\n",
      "8/8 [==============================] - 0s - loss: 0.0546\n",
      "Epoch 147/500\n",
      "8/8 [==============================] - 0s - loss: 0.0541\n",
      "Epoch 148/500\n",
      "8/8 [==============================] - 0s - loss: 0.0536\n",
      "Epoch 149/500\n",
      "8/8 [==============================] - 0s - loss: 0.0532\n",
      "Epoch 150/500\n",
      "8/8 [==============================] - 0s - loss: 0.0527\n",
      "Epoch 151/500\n",
      "8/8 [==============================] - 0s - loss: 0.0524\n",
      "Epoch 152/500\n",
      "8/8 [==============================] - 0s - loss: 0.0524\n",
      "Epoch 153/500\n",
      "8/8 [==============================] - 0s - loss: 0.0519\n",
      "Epoch 154/500\n",
      "8/8 [==============================] - 0s - loss: 0.0515\n",
      "Epoch 155/500\n",
      "8/8 [==============================] - 0s - loss: 0.0510\n",
      "Epoch 156/500\n",
      "8/8 [==============================] - 0s - loss: 0.0506\n",
      "Epoch 157/500\n",
      "8/8 [==============================] - 0s - loss: 0.0502\n",
      "Epoch 158/500\n",
      "8/8 [==============================] - 0s - loss: 0.0498\n",
      "Epoch 159/500\n",
      "8/8 [==============================] - 0s - loss: 0.0494\n",
      "Epoch 160/500\n",
      "8/8 [==============================] - 0s - loss: 0.0494\n",
      "Epoch 161/500\n",
      "8/8 [==============================] - 0s - loss: 0.0491\n",
      "Epoch 162/500\n",
      "8/8 [==============================] - 0s - loss: 0.0487\n",
      "Epoch 163/500\n",
      "8/8 [==============================] - 0s - loss: 0.0483\n",
      "Epoch 164/500\n",
      "8/8 [==============================] - 0s - loss: 0.0479\n",
      "Epoch 165/500\n",
      "8/8 [==============================] - 0s - loss: 0.0476\n",
      "Epoch 166/500\n",
      "8/8 [==============================] - 0s - loss: 0.0472\n",
      "Epoch 167/500\n",
      "8/8 [==============================] - 0s - loss: 0.0468\n",
      "Epoch 168/500\n",
      "8/8 [==============================] - 0s - loss: 0.0464\n",
      "Epoch 169/500\n",
      "8/8 [==============================] - 0s - loss: 0.0461\n",
      "Epoch 170/500\n",
      "8/8 [==============================] - 0s - loss: 0.0461\n",
      "Epoch 171/500\n",
      "8/8 [==============================] - 0s - loss: 0.0459\n",
      "Epoch 172/500\n",
      "8/8 [==============================] - 0s - loss: 0.0456\n",
      "Epoch 173/500\n",
      "8/8 [==============================] - 0s - loss: 0.0452\n",
      "Epoch 174/500\n",
      "8/8 [==============================] - 0s - loss: 0.0449\n",
      "Epoch 175/500\n",
      "8/8 [==============================] - 0s - loss: 0.0446\n",
      "Epoch 176/500\n",
      "8/8 [==============================] - 0s - loss: 0.0442\n",
      "Epoch 177/500\n",
      "8/8 [==============================] - 0s - loss: 0.0439\n",
      "Epoch 178/500\n",
      "8/8 [==============================] - 0s - loss: 0.0436\n",
      "Epoch 179/500\n",
      "8/8 [==============================] - 0s - loss: 0.0433\n",
      "Epoch 180/500\n",
      "8/8 [==============================] - 0s - loss: 0.0432\n",
      "Epoch 181/500\n",
      "8/8 [==============================] - 0s - loss: 0.0429\n",
      "Epoch 182/500\n",
      "8/8 [==============================] - 0s - loss: 0.0426\n",
      "Epoch 183/500\n",
      "8/8 [==============================] - 0s - loss: 0.0423\n",
      "Epoch 184/500\n",
      "8/8 [==============================] - 0s - loss: 0.0421\n",
      "Epoch 185/500\n",
      "8/8 [==============================] - 0s - loss: 0.0420\n",
      "Epoch 186/500\n",
      "8/8 [==============================] - 0s - loss: 0.0417\n",
      "Epoch 187/500\n",
      "8/8 [==============================] - 0s - loss: 0.0414\n",
      "Epoch 188/500\n",
      "8/8 [==============================] - 0s - loss: 0.0411\n",
      "Epoch 189/500\n",
      "8/8 [==============================] - 0s - loss: 0.0408\n",
      "Epoch 190/500\n",
      "8/8 [==============================] - 0s - loss: 0.0406\n",
      "Epoch 191/500\n",
      "8/8 [==============================] - 0s - loss: 0.0403\n",
      "Epoch 192/500\n",
      "8/8 [==============================] - 0s - loss: 0.0401\n",
      "Epoch 193/500\n",
      "8/8 [==============================] - 0s - loss: 0.0403\n",
      "Epoch 194/500\n",
      "8/8 [==============================] - 0s - loss: 0.0400\n",
      "Epoch 195/500\n",
      "8/8 [==============================] - 0s - loss: 0.0397\n",
      "Epoch 196/500\n",
      "8/8 [==============================] - 0s - loss: 0.0395\n",
      "Epoch 197/500\n",
      "8/8 [==============================] - 0s - loss: 0.0392\n",
      "Epoch 198/500\n",
      "8/8 [==============================] - 0s - loss: 0.0389\n",
      "Epoch 199/500\n",
      "8/8 [==============================] - 0s - loss: 0.0387\n",
      "Epoch 200/500\n",
      "8/8 [==============================] - 0s - loss: 0.0385\n",
      "Epoch 201/500\n",
      "8/8 [==============================] - 0s - loss: 0.0382\n",
      "Epoch 202/500\n",
      "8/8 [==============================] - 0s - loss: 0.0380\n",
      "Epoch 203/500\n",
      "8/8 [==============================] - 0s - loss: 0.0378\n",
      "Epoch 204/500\n",
      "8/8 [==============================] - 0s - loss: 0.0380\n",
      "Epoch 205/500\n",
      "8/8 [==============================] - 0s - loss: 0.0377\n",
      "Epoch 206/500\n",
      "8/8 [==============================] - 0s - loss: 0.0375\n",
      "Epoch 207/500\n",
      "8/8 [==============================] - 0s - loss: 0.0372\n",
      "Epoch 208/500\n",
      "8/8 [==============================] - 0s - loss: 0.0370\n",
      "Epoch 209/500\n",
      "8/8 [==============================] - 0s - loss: 0.0368\n",
      "Epoch 210/500\n",
      "8/8 [==============================] - 0s - loss: 0.0366\n",
      "Epoch 211/500\n",
      "8/8 [==============================] - 0s - loss: 0.0364\n",
      "Epoch 212/500\n",
      "8/8 [==============================] - 0s - loss: 0.0361\n",
      "Epoch 213/500\n",
      "8/8 [==============================] - 0s - loss: 0.0359\n",
      "Epoch 214/500\n",
      "8/8 [==============================] - 0s - loss: 0.0357\n",
      "Epoch 215/500\n",
      "8/8 [==============================] - 0s - loss: 0.0355\n",
      "Epoch 216/500\n",
      "8/8 [==============================] - 0s - loss: 0.0353\n",
      "Epoch 217/500\n",
      "8/8 [==============================] - 0s - loss: 0.0351\n",
      "Epoch 218/500\n",
      "8/8 [==============================] - 0s - loss: 0.0349\n",
      "Epoch 219/500\n",
      "8/8 [==============================] - 0s - loss: 0.0348\n",
      "Epoch 220/500\n",
      "8/8 [==============================] - 0s - loss: 0.0349\n",
      "Epoch 221/500\n",
      "8/8 [==============================] - 0s - loss: 0.0347\n",
      "Epoch 222/500\n",
      "8/8 [==============================] - 0s - loss: 0.0345\n",
      "Epoch 223/500\n",
      "8/8 [==============================] - 0s - loss: 0.0343\n",
      "Epoch 224/500\n",
      "8/8 [==============================] - 0s - loss: 0.0341\n",
      "Epoch 225/500\n",
      "8/8 [==============================] - 0s - loss: 0.0339\n",
      "Epoch 226/500\n",
      "8/8 [==============================] - 0s - loss: 0.0338\n",
      "Epoch 227/500\n",
      "8/8 [==============================] - 0s - loss: 0.0336\n",
      "Epoch 228/500\n",
      "8/8 [==============================] - 0s - loss: 0.0334\n",
      "Epoch 229/500\n",
      "8/8 [==============================] - 0s - loss: 0.0332\n",
      "Epoch 230/500\n",
      "8/8 [==============================] - 0s - loss: 0.0330\n",
      "Epoch 231/500\n",
      "8/8 [==============================] - 0s - loss: 0.0328\n",
      "Epoch 232/500\n",
      "8/8 [==============================] - 0s - loss: 0.0328\n",
      "Epoch 233/500\n",
      "8/8 [==============================] - 0s - loss: 0.0329\n",
      "Epoch 234/500\n",
      "8/8 [==============================] - 0s - loss: 0.0327\n",
      "Epoch 235/500\n",
      "8/8 [==============================] - 0s - loss: 0.0325\n",
      "Epoch 236/500\n",
      "8/8 [==============================] - 0s - loss: 0.0324\n",
      "Epoch 237/500\n",
      "8/8 [==============================] - 0s - loss: 0.0322\n",
      "Epoch 238/500\n",
      "8/8 [==============================] - 0s - loss: 0.0320\n",
      "Epoch 239/500\n",
      "8/8 [==============================] - 0s - loss: 0.0319\n",
      "Epoch 240/500\n",
      "8/8 [==============================] - 0s - loss: 0.0317\n",
      "Epoch 241/500\n",
      "8/8 [==============================] - 0s - loss: 0.0315\n",
      "Epoch 242/500\n",
      "8/8 [==============================] - 0s - loss: 0.0314\n",
      "Epoch 243/500\n",
      "8/8 [==============================] - 0s - loss: 0.0312\n",
      "Epoch 244/500\n",
      "8/8 [==============================] - 0s - loss: 0.0311\n",
      "Epoch 245/500\n",
      "8/8 [==============================] - 0s - loss: 0.0309\n",
      "Epoch 246/500\n",
      "8/8 [==============================] - 0s - loss: 0.0307\n",
      "Epoch 247/500\n",
      "8/8 [==============================] - 0s - loss: 0.0306\n",
      "Epoch 248/500\n",
      "8/8 [==============================] - 0s - loss: 0.0304\n",
      "Epoch 249/500\n",
      "8/8 [==============================] - 0s - loss: 0.0303\n",
      "Epoch 250/500\n",
      "8/8 [==============================] - 0s - loss: 0.0301\n",
      "Epoch 251/500\n",
      "8/8 [==============================] - 0s - loss: 0.0300\n",
      "Epoch 252/500\n",
      "8/8 [==============================] - 0s - loss: 0.0299\n",
      "Epoch 253/500\n",
      "8/8 [==============================] - 0s - loss: 0.0299\n",
      "Epoch 254/500\n",
      "8/8 [==============================] - 0s - loss: 0.0297\n",
      "Epoch 255/500\n",
      "8/8 [==============================] - 0s - loss: 0.0296\n",
      "Epoch 256/500\n",
      "8/8 [==============================] - 0s - loss: 0.0295\n",
      "Epoch 257/500\n",
      "8/8 [==============================] - 0s - loss: 0.0295\n",
      "Epoch 258/500\n",
      "8/8 [==============================] - 0s - loss: 0.0293\n",
      "Epoch 259/500\n",
      "8/8 [==============================] - 0s - loss: 0.0292\n",
      "Epoch 260/500\n",
      "8/8 [==============================] - 0s - loss: 0.0291\n",
      "Epoch 261/500\n",
      "8/8 [==============================] - 0s - loss: 0.0289\n",
      "Epoch 262/500\n",
      "8/8 [==============================] - 0s - loss: 0.0288\n",
      "Epoch 263/500\n",
      "8/8 [==============================] - 0s - loss: 0.0287\n",
      "Epoch 264/500\n",
      "8/8 [==============================] - 0s - loss: 0.0285\n",
      "Epoch 265/500\n",
      "8/8 [==============================] - 0s - loss: 0.0284\n",
      "Epoch 266/500\n",
      "8/8 [==============================] - 0s - loss: 0.0283\n",
      "Epoch 267/500\n",
      "8/8 [==============================] - 0s - loss: 0.0281\n",
      "Epoch 268/500\n",
      "8/8 [==============================] - 0s - loss: 0.0280\n",
      "Epoch 269/500\n",
      "8/8 [==============================] - 0s - loss: 0.0279\n",
      "Epoch 270/500\n",
      "8/8 [==============================] - 0s - loss: 0.0278\n",
      "Epoch 271/500\n",
      "8/8 [==============================] - 0s - loss: 0.0276\n",
      "Epoch 272/500\n",
      "8/8 [==============================] - 0s - loss: 0.0278\n",
      "Epoch 273/500\n",
      "8/8 [==============================] - 0s - loss: 0.0281\n",
      "Epoch 274/500\n",
      "8/8 [==============================] - 0s - loss: 0.0279\n",
      "Epoch 275/500\n",
      "8/8 [==============================] - 0s - loss: 0.0278\n",
      "Epoch 276/500\n",
      "8/8 [==============================] - 0s - loss: 0.0277\n",
      "Epoch 277/500\n",
      "8/8 [==============================] - 0s - loss: 0.0276\n",
      "Epoch 278/500\n",
      "8/8 [==============================] - 0s - loss: 0.0274\n",
      "Epoch 279/500\n",
      "8/8 [==============================] - 0s - loss: 0.0273\n",
      "Epoch 280/500\n",
      "8/8 [==============================] - 0s - loss: 0.0272\n",
      "Epoch 281/500\n",
      "8/8 [==============================] - 0s - loss: 0.0271\n",
      "Epoch 282/500\n",
      "8/8 [==============================] - 0s - loss: 0.0270\n",
      "Epoch 283/500\n",
      "8/8 [==============================] - 0s - loss: 0.0268\n",
      "Epoch 284/500\n",
      "8/8 [==============================] - 0s - loss: 0.0267\n",
      "Epoch 285/500\n",
      "8/8 [==============================] - 0s - loss: 0.0266\n",
      "Epoch 286/500\n",
      "8/8 [==============================] - 0s - loss: 0.0265\n",
      "Epoch 287/500\n",
      "8/8 [==============================] - 0s - loss: 0.0264\n",
      "Epoch 288/500\n",
      "8/8 [==============================] - 0s - loss: 0.0263\n",
      "Epoch 289/500\n",
      "8/8 [==============================] - 0s - loss: 0.0262\n",
      "Epoch 290/500\n",
      "8/8 [==============================] - 0s - loss: 0.0261\n",
      "Epoch 291/500\n",
      "8/8 [==============================] - 0s - loss: 0.0259\n",
      "Epoch 292/500\n",
      "8/8 [==============================] - 0s - loss: 0.0258\n",
      "Epoch 293/500\n",
      "8/8 [==============================] - 0s - loss: 0.0257\n",
      "Epoch 294/500\n",
      "8/8 [==============================] - 0s - loss: 0.0256\n",
      "Epoch 295/500\n",
      "8/8 [==============================] - 0s - loss: 0.0255\n",
      "Epoch 296/500\n",
      "8/8 [==============================] - 0s - loss: 0.0254\n",
      "Epoch 297/500\n",
      "8/8 [==============================] - 0s - loss: 0.0253\n",
      "Epoch 298/500\n",
      "8/8 [==============================] - 0s - loss: 0.0252\n",
      "Epoch 299/500\n",
      "8/8 [==============================] - 0s - loss: 0.0251\n",
      "Epoch 300/500\n",
      "8/8 [==============================] - 0s - loss: 0.0250\n",
      "Epoch 301/500\n",
      "8/8 [==============================] - 0s - loss: 0.0249\n",
      "Epoch 302/500\n",
      "8/8 [==============================] - 0s - loss: 0.0248\n",
      "Epoch 303/500\n",
      "8/8 [==============================] - 0s - loss: 0.0247\n",
      "Epoch 304/500\n",
      "8/8 [==============================] - 0s - loss: 0.0246\n",
      "Epoch 305/500\n",
      "8/8 [==============================] - 0s - loss: 0.0245\n",
      "Epoch 306/500\n",
      "8/8 [==============================] - 0s - loss: 0.0244\n",
      "Epoch 307/500\n",
      "8/8 [==============================] - 0s - loss: 0.0243\n",
      "Epoch 308/500\n",
      "8/8 [==============================] - 0s - loss: 0.0242\n",
      "Epoch 309/500\n",
      "8/8 [==============================] - 0s - loss: 0.0241\n",
      "Epoch 310/500\n",
      "8/8 [==============================] - 0s - loss: 0.0240\n",
      "Epoch 311/500\n",
      "8/8 [==============================] - 0s - loss: 0.0239\n",
      "Epoch 312/500\n",
      "8/8 [==============================] - 0s - loss: 0.0239\n",
      "Epoch 313/500\n",
      "8/8 [==============================] - 0s - loss: 0.0238\n",
      "Epoch 314/500\n",
      "8/8 [==============================] - 0s - loss: 0.0237\n",
      "Epoch 315/500\n",
      "8/8 [==============================] - 0s - loss: 0.0236\n",
      "Epoch 316/500\n",
      "8/8 [==============================] - 0s - loss: 0.0235\n",
      "Epoch 317/500\n",
      "8/8 [==============================] - 0s - loss: 0.0237\n",
      "Epoch 318/500\n",
      "8/8 [==============================] - 0s - loss: 0.0239\n",
      "Epoch 319/500\n",
      "8/8 [==============================] - 0s - loss: 0.0238\n",
      "Epoch 320/500\n",
      "8/8 [==============================] - 0s - loss: 0.0237\n",
      "Epoch 321/500\n",
      "8/8 [==============================] - 0s - loss: 0.0236\n",
      "Epoch 322/500\n",
      "8/8 [==============================] - 0s - loss: 0.0235\n",
      "Epoch 323/500\n",
      "8/8 [==============================] - 0s - loss: 0.0234\n",
      "Epoch 324/500\n",
      "8/8 [==============================] - 0s - loss: 0.0234\n",
      "Epoch 325/500\n",
      "8/8 [==============================] - 0s - loss: 0.0233\n",
      "Epoch 326/500\n",
      "8/8 [==============================] - 0s - loss: 0.0232\n",
      "Epoch 327/500\n",
      "8/8 [==============================] - 0s - loss: 0.0231\n",
      "Epoch 328/500\n",
      "8/8 [==============================] - 0s - loss: 0.0230\n",
      "Epoch 329/500\n",
      "8/8 [==============================] - 0s - loss: 0.0229\n",
      "Epoch 330/500\n",
      "8/8 [==============================] - 0s - loss: 0.0228\n",
      "Epoch 331/500\n",
      "8/8 [==============================] - 0s - loss: 0.0228\n",
      "Epoch 332/500\n",
      "8/8 [==============================] - 0s - loss: 0.0227\n",
      "Epoch 333/500\n",
      "8/8 [==============================] - 0s - loss: 0.0226\n",
      "Epoch 334/500\n",
      "8/8 [==============================] - 0s - loss: 0.0225\n",
      "Epoch 335/500\n",
      "8/8 [==============================] - 0s - loss: 0.0224\n",
      "Epoch 336/500\n",
      "8/8 [==============================] - 0s - loss: 0.0224\n",
      "Epoch 337/500\n",
      "8/8 [==============================] - 0s - loss: 0.0223\n",
      "Epoch 338/500\n",
      "8/8 [==============================] - 0s - loss: 0.0222\n",
      "Epoch 339/500\n",
      "8/8 [==============================] - 0s - loss: 0.0221\n",
      "Epoch 340/500\n",
      "8/8 [==============================] - 0s - loss: 0.0220\n",
      "Epoch 341/500\n",
      "8/8 [==============================] - 0s - loss: 0.0220\n",
      "Epoch 342/500\n",
      "8/8 [==============================] - 0s - loss: 0.0219\n",
      "Epoch 343/500\n",
      "8/8 [==============================] - 0s - loss: 0.0218\n",
      "Epoch 344/500\n",
      "8/8 [==============================] - 0s - loss: 0.0217\n",
      "Epoch 345/500\n",
      "8/8 [==============================] - 0s - loss: 0.0217\n",
      "Epoch 346/500\n",
      "8/8 [==============================] - 0s - loss: 0.0216\n",
      "Epoch 347/500\n",
      "8/8 [==============================] - 0s - loss: 0.0215\n",
      "Epoch 348/500\n",
      "8/8 [==============================] - 0s - loss: 0.0214\n",
      "Epoch 349/500\n",
      "8/8 [==============================] - 0s - loss: 0.0214\n",
      "Epoch 350/500\n",
      "8/8 [==============================] - 0s - loss: 0.0213\n",
      "Epoch 351/500\n",
      "8/8 [==============================] - 0s - loss: 0.0212\n",
      "Epoch 352/500\n",
      "8/8 [==============================] - 0s - loss: 0.0211\n",
      "Epoch 353/500\n",
      "8/8 [==============================] - 0s - loss: 0.0211\n",
      "Epoch 354/500\n",
      "8/8 [==============================] - 0s - loss: 0.0210\n",
      "Epoch 355/500\n",
      "8/8 [==============================] - 0s - loss: 0.0209\n",
      "Epoch 356/500\n",
      "8/8 [==============================] - 0s - loss: 0.0209\n",
      "Epoch 357/500\n",
      "8/8 [==============================] - 0s - loss: 0.0208\n",
      "Epoch 358/500\n",
      "8/8 [==============================] - 0s - loss: 0.0207\n",
      "Epoch 359/500\n",
      "8/8 [==============================] - 0s - loss: 0.0207\n",
      "Epoch 360/500\n",
      "8/8 [==============================] - 0s - loss: 0.0206\n",
      "Epoch 361/500\n",
      "8/8 [==============================] - 0s - loss: 0.0205\n",
      "Epoch 362/500\n",
      "8/8 [==============================] - 0s - loss: 0.0205\n",
      "Epoch 363/500\n",
      "8/8 [==============================] - 0s - loss: 0.0204\n",
      "Epoch 364/500\n",
      "8/8 [==============================] - 0s - loss: 0.0203\n",
      "Epoch 365/500\n",
      "8/8 [==============================] - 0s - loss: 0.0203\n",
      "Epoch 366/500\n",
      "8/8 [==============================] - 0s - loss: 0.0202\n",
      "Epoch 367/500\n",
      "8/8 [==============================] - 0s - loss: 0.0201\n",
      "Epoch 368/500\n",
      "8/8 [==============================] - 0s - loss: 0.0201\n",
      "Epoch 369/500\n",
      "8/8 [==============================] - 0s - loss: 0.0200\n",
      "Epoch 370/500\n",
      "8/8 [==============================] - 0s - loss: 0.0199\n",
      "Epoch 371/500\n",
      "8/8 [==============================] - 0s - loss: 0.0199\n",
      "Epoch 372/500\n",
      "8/8 [==============================] - 0s - loss: 0.0198\n",
      "Epoch 373/500\n",
      "8/8 [==============================] - 0s - loss: 0.0200\n",
      "Epoch 374/500\n",
      "8/8 [==============================] - 0s - loss: 0.0199\n",
      "Epoch 375/500\n",
      "8/8 [==============================] - 0s - loss: 0.0199\n",
      "Epoch 376/500\n",
      "8/8 [==============================] - 0s - loss: 0.0198\n",
      "Epoch 377/500\n",
      "8/8 [==============================] - 0s - loss: 0.0197\n",
      "Epoch 378/500\n",
      "8/8 [==============================] - 0s - loss: 0.0197\n",
      "Epoch 379/500\n",
      "8/8 [==============================] - 0s - loss: 0.0196\n",
      "Epoch 380/500\n",
      "8/8 [==============================] - 0s - loss: 0.0196\n",
      "Epoch 381/500\n",
      "8/8 [==============================] - 0s - loss: 0.0195\n",
      "Epoch 382/500\n",
      "8/8 [==============================] - 0s - loss: 0.0194\n",
      "Epoch 383/500\n",
      "8/8 [==============================] - 0s - loss: 0.0194\n",
      "Epoch 384/500\n",
      "8/8 [==============================] - 0s - loss: 0.0193\n",
      "Epoch 385/500\n",
      "8/8 [==============================] - 0s - loss: 0.0193\n",
      "Epoch 386/500\n",
      "8/8 [==============================] - 0s - loss: 0.0192\n",
      "Epoch 387/500\n",
      "8/8 [==============================] - 0s - loss: 0.0191\n",
      "Epoch 388/500\n",
      "8/8 [==============================] - 0s - loss: 0.0191\n",
      "Epoch 389/500\n",
      "8/8 [==============================] - 0s - loss: 0.0190\n",
      "Epoch 390/500\n",
      "8/8 [==============================] - 0s - loss: 0.0190\n",
      "Epoch 391/500\n",
      "8/8 [==============================] - 0s - loss: 0.0189\n",
      "Epoch 392/500\n",
      "8/8 [==============================] - 0s - loss: 0.0189\n",
      "Epoch 393/500\n",
      "8/8 [==============================] - 0s - loss: 0.0188\n",
      "Epoch 394/500\n",
      "8/8 [==============================] - 0s - loss: 0.0187\n",
      "Epoch 395/500\n",
      "8/8 [==============================] - 0s - loss: 0.0187\n",
      "Epoch 396/500\n",
      "8/8 [==============================] - 0s - loss: 0.0186\n",
      "Epoch 397/500\n",
      "8/8 [==============================] - 0s - loss: 0.0186\n",
      "Epoch 398/500\n",
      "8/8 [==============================] - 0s - loss: 0.0185\n",
      "Epoch 399/500\n",
      "8/8 [==============================] - 0s - loss: 0.0185\n",
      "Epoch 400/500\n",
      "8/8 [==============================] - 0s - loss: 0.0187\n",
      "Epoch 401/500\n",
      "8/8 [==============================] - 0s - loss: 0.0186\n",
      "Epoch 402/500\n",
      "8/8 [==============================] - 0s - loss: 0.0185\n",
      "Epoch 403/500\n",
      "8/8 [==============================] - 0s - loss: 0.0185\n",
      "Epoch 404/500\n",
      "8/8 [==============================] - 0s - loss: 0.0184\n",
      "Epoch 405/500\n",
      "8/8 [==============================] - 0s - loss: 0.0184\n",
      "Epoch 406/500\n",
      "8/8 [==============================] - 0s - loss: 0.0183\n",
      "Epoch 407/500\n",
      "8/8 [==============================] - 0s - loss: 0.0183\n",
      "Epoch 408/500\n",
      "8/8 [==============================] - 0s - loss: 0.0182\n",
      "Epoch 409/500\n",
      "8/8 [==============================] - 0s - loss: 0.0182\n",
      "Epoch 410/500\n",
      "8/8 [==============================] - 0s - loss: 0.0181\n",
      "Epoch 411/500\n",
      "8/8 [==============================] - 0s - loss: 0.0181\n",
      "Epoch 412/500\n",
      "8/8 [==============================] - 0s - loss: 0.0180\n",
      "Epoch 413/500\n",
      "8/8 [==============================] - 0s - loss: 0.0180\n",
      "Epoch 414/500\n",
      "8/8 [==============================] - 0s - loss: 0.0179\n",
      "Epoch 415/500\n",
      "8/8 [==============================] - 0s - loss: 0.0179\n",
      "Epoch 416/500\n",
      "8/8 [==============================] - 0s - loss: 0.0178\n",
      "Epoch 417/500\n",
      "8/8 [==============================] - 0s - loss: 0.0178\n",
      "Epoch 418/500\n",
      "8/8 [==============================] - 0s - loss: 0.0177\n",
      "Epoch 419/500\n",
      "8/8 [==============================] - 0s - loss: 0.0177\n",
      "Epoch 420/500\n",
      "8/8 [==============================] - 0s - loss: 0.0176\n",
      "Epoch 421/500\n",
      "8/8 [==============================] - 0s - loss: 0.0176\n",
      "Epoch 422/500\n",
      "8/8 [==============================] - 0s - loss: 0.0175\n",
      "Epoch 423/500\n",
      "8/8 [==============================] - 0s - loss: 0.0175\n",
      "Epoch 424/500\n",
      "8/8 [==============================] - 0s - loss: 0.0174\n",
      "Epoch 425/500\n",
      "8/8 [==============================] - 0s - loss: 0.0174\n",
      "Epoch 426/500\n",
      "8/8 [==============================] - 0s - loss: 0.0173\n",
      "Epoch 427/500\n",
      "8/8 [==============================] - 0s - loss: 0.0173\n",
      "Epoch 428/500\n",
      "8/8 [==============================] - 0s - loss: 0.0172\n",
      "Epoch 429/500\n",
      "8/8 [==============================] - 0s - loss: 0.0172\n",
      "Epoch 430/500\n",
      "8/8 [==============================] - 0s - loss: 0.0171\n",
      "Epoch 431/500\n",
      "8/8 [==============================] - 0s - loss: 0.0171\n",
      "Epoch 432/500\n",
      "8/8 [==============================] - 0s - loss: 0.0170\n",
      "Epoch 433/500\n",
      "8/8 [==============================] - 0s - loss: 0.0170\n",
      "Epoch 434/500\n",
      "8/8 [==============================] - 0s - loss: 0.0170\n",
      "Epoch 435/500\n",
      "8/8 [==============================] - 0s - loss: 0.0169\n",
      "Epoch 436/500\n",
      "8/8 [==============================] - 0s - loss: 0.0169\n",
      "Epoch 437/500\n",
      "8/8 [==============================] - 0s - loss: 0.0168\n",
      "Epoch 438/500\n",
      "8/8 [==============================] - 0s - loss: 0.0168\n",
      "Epoch 439/500\n",
      "8/8 [==============================] - 0s - loss: 0.0167\n",
      "Epoch 440/500\n",
      "8/8 [==============================] - 0s - loss: 0.0167\n",
      "Epoch 441/500\n",
      "8/8 [==============================] - 0s - loss: 0.0166\n",
      "Epoch 442/500\n",
      "8/8 [==============================] - 0s - loss: 0.0166\n",
      "Epoch 443/500\n",
      "8/8 [==============================] - 0s - loss: 0.0166\n",
      "Epoch 444/500\n",
      "8/8 [==============================] - 0s - loss: 0.0166\n",
      "Epoch 445/500\n",
      "8/8 [==============================] - 0s - loss: 0.0167\n",
      "Epoch 446/500\n",
      "8/8 [==============================] - 0s - loss: 0.0166\n",
      "Epoch 447/500\n",
      "8/8 [==============================] - 0s - loss: 0.0166\n",
      "Epoch 448/500\n",
      "8/8 [==============================] - 0s - loss: 0.0165\n",
      "Epoch 449/500\n",
      "8/8 [==============================] - 0s - loss: 0.0165\n",
      "Epoch 450/500\n",
      "8/8 [==============================] - 0s - loss: 0.0165\n",
      "Epoch 451/500\n",
      "8/8 [==============================] - 0s - loss: 0.0164\n",
      "Epoch 452/500\n",
      "8/8 [==============================] - 0s - loss: 0.0164\n",
      "Epoch 453/500\n",
      "8/8 [==============================] - 0s - loss: 0.0163\n",
      "Epoch 454/500\n",
      "8/8 [==============================] - 0s - loss: 0.0163\n",
      "Epoch 455/500\n",
      "8/8 [==============================] - 0s - loss: 0.0163\n",
      "Epoch 456/500\n",
      "8/8 [==============================] - 0s - loss: 0.0162\n",
      "Epoch 457/500\n",
      "8/8 [==============================] - 0s - loss: 0.0162\n",
      "Epoch 458/500\n",
      "8/8 [==============================] - 0s - loss: 0.0161\n",
      "Epoch 459/500\n",
      "8/8 [==============================] - 0s - loss: 0.0161\n",
      "Epoch 460/500\n",
      "8/8 [==============================] - 0s - loss: 0.0160\n",
      "Epoch 461/500\n",
      "8/8 [==============================] - 0s - loss: 0.0160\n",
      "Epoch 462/500\n",
      "8/8 [==============================] - 0s - loss: 0.0160\n",
      "Epoch 463/500\n",
      "8/8 [==============================] - 0s - loss: 0.0159\n",
      "Epoch 464/500\n",
      "8/8 [==============================] - 0s - loss: 0.0159\n",
      "Epoch 465/500\n",
      "8/8 [==============================] - 0s - loss: 0.0158\n",
      "Epoch 466/500\n",
      "8/8 [==============================] - 0s - loss: 0.0158\n",
      "Epoch 467/500\n",
      "8/8 [==============================] - 0s - loss: 0.0158\n",
      "Epoch 468/500\n",
      "8/8 [==============================] - 0s - loss: 0.0157\n",
      "Epoch 469/500\n",
      "8/8 [==============================] - 0s - loss: 0.0157\n",
      "Epoch 470/500\n",
      "8/8 [==============================] - 0s - loss: 0.0157\n",
      "Epoch 471/500\n",
      "8/8 [==============================] - 0s - loss: 0.0156\n",
      "Epoch 472/500\n",
      "8/8 [==============================] - 0s - loss: 0.0156\n",
      "Epoch 473/500\n",
      "8/8 [==============================] - 0s - loss: 0.0155\n",
      "Epoch 474/500\n",
      "8/8 [==============================] - 0s - loss: 0.0155\n",
      "Epoch 475/500\n",
      "8/8 [==============================] - 0s - loss: 0.0155\n",
      "Epoch 476/500\n",
      "8/8 [==============================] - 0s - loss: 0.0154\n",
      "Epoch 477/500\n",
      "8/8 [==============================] - 0s - loss: 0.0154\n",
      "Epoch 478/500\n",
      "8/8 [==============================] - 0s - loss: 0.0154\n",
      "Epoch 479/500\n",
      "8/8 [==============================] - 0s - loss: 0.0154\n",
      "Epoch 480/500\n",
      "8/8 [==============================] - 0s - loss: 0.0155\n",
      "Epoch 481/500\n",
      "8/8 [==============================] - 0s - loss: 0.0154\n",
      "Epoch 482/500\n",
      "8/8 [==============================] - 0s - loss: 0.0154\n",
      "Epoch 483/500\n",
      "8/8 [==============================] - 0s - loss: 0.0154\n",
      "Epoch 484/500\n",
      "8/8 [==============================] - 0s - loss: 0.0153\n",
      "Epoch 485/500\n",
      "8/8 [==============================] - 0s - loss: 0.0153\n",
      "Epoch 486/500\n",
      "8/8 [==============================] - 0s - loss: 0.0153\n",
      "Epoch 487/500\n",
      "8/8 [==============================] - 0s - loss: 0.0152\n",
      "Epoch 488/500\n",
      "8/8 [==============================] - 0s - loss: 0.0152\n",
      "Epoch 489/500\n",
      "8/8 [==============================] - 0s - loss: 0.0151\n",
      "Epoch 490/500\n",
      "8/8 [==============================] - 0s - loss: 0.0151\n",
      "Epoch 491/500\n",
      "8/8 [==============================] - 0s - loss: 0.0151\n",
      "Epoch 492/500\n",
      "8/8 [==============================] - 0s - loss: 0.0150\n",
      "Epoch 493/500\n",
      "8/8 [==============================] - 0s - loss: 0.0150\n",
      "Epoch 494/500\n",
      "8/8 [==============================] - 0s - loss: 0.0150\n",
      "Epoch 495/500\n",
      "8/8 [==============================] - 0s - loss: 0.0149\n",
      "Epoch 496/500\n",
      "8/8 [==============================] - 0s - loss: 0.0149\n",
      "Epoch 497/500\n",
      "8/8 [==============================] - 0s - loss: 0.0149\n",
      "Epoch 498/500\n",
      "8/8 [==============================] - 0s - loss: 0.0148\n",
      "Epoch 499/500\n",
      "8/8 [==============================] - 0s - loss: 0.0148\n",
      "Epoch 500/500\n",
      "8/8 [==============================] - 0s - loss: 0.0148\n"
     ]
    },
    {
     "data": {
      "text/plain": [
       "<keras.callbacks.History at 0x10f4a0b90>"
      ]
     },
     "execution_count": 21,
     "metadata": {},
     "output_type": "execute_result"
    }
   ],
   "source": [
    "# fit the model to predict what color each person is\n",
    "predict_green.fit([sentences_array], [is_green], nb_epoch=500, verbose=1)"
   ]
  },
  {
   "cell_type": "code",
   "execution_count": 22,
   "metadata": {
    "collapsed": true
   },
   "outputs": [],
   "source": [
    "embeddings = predict_green.layers[1].W.get_value()"
   ]
  },
  {
   "cell_type": "code",
   "execution_count": 23,
   "metadata": {
    "collapsed": false
   },
   "outputs": [
    {
     "data": {
      "text/plain": [
       "array([[-0.19183166,  0.28765371, -0.15641065],\n",
       "       [-0.12936352,  0.28779608, -0.20064083],\n",
       "       [ 0.19828902, -0.30468383,  0.2721456 ],\n",
       "       [-0.07414302,  0.13606086, -0.12131353],\n",
       "       [ 0.09109619, -0.21298023,  0.12953848],\n",
       "       [-0.02834477,  0.11797626, -0.09546226],\n",
       "       [ 0.18700415, -0.34668186,  0.30039063],\n",
       "       [ 0.07209901, -0.15533428,  0.09490708]], dtype=float32)"
      ]
     },
     "execution_count": 23,
     "metadata": {},
     "output_type": "execute_result"
    }
   ],
   "source": [
    "embeddings"
   ]
  },
  {
   "cell_type": "code",
   "execution_count": null,
   "metadata": {
    "collapsed": true
   },
   "outputs": [],
   "source": []
  }
 ],
 "metadata": {
  "kernelspec": {
   "display_name": "Python 2",
   "language": "python",
   "name": "python2"
  },
  "language_info": {
   "codemirror_mode": {
    "name": "ipython",
    "version": 2
   },
   "file_extension": ".py",
   "mimetype": "text/x-python",
   "name": "python",
   "nbconvert_exporter": "python",
   "pygments_lexer": "ipython2",
   "version": "2.7.11"
  }
 },
 "nbformat": 4,
 "nbformat_minor": 0
}
