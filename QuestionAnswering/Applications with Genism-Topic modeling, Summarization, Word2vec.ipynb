{
 "cells": [
  {
   "cell_type": "code",
   "execution_count": 1,
   "metadata": {
    "collapsed": true
   },
   "outputs": [],
   "source": [
    "import sqlite3\n",
    "from bs4 import BeautifulSoup\n",
    "from IPython.core.display import display, HTML\n",
    "import re\n",
    "import pickle\n",
    "import pandas as pd"
   ]
  },
  {
   "cell_type": "code",
   "execution_count": 2,
   "metadata": {
    "collapsed": true
   },
   "outputs": [],
   "source": [
    "pd.set_option('display.max_colwidth', -1)"
   ]
  },
  {
   "cell_type": "code",
   "execution_count": 3,
   "metadata": {
    "collapsed": true
   },
   "outputs": [],
   "source": [
    "conn = sqlite3.connect('../Data/crossvalidated.db')\n",
    "# return all the records for questions posts from posts table\n",
    "ques_query = \"SELECT * FROM [posts] WHERE PostTypeId==2\""
   ]
  },
  {
   "cell_type": "code",
   "execution_count": 4,
   "metadata": {
    "collapsed": true
   },
   "outputs": [],
   "source": [
    "apost_df = pd.read_sql_query(ques_query, conn)"
   ]
  },
  {
   "cell_type": "code",
   "execution_count": 5,
   "metadata": {
    "collapsed": true
   },
   "outputs": [],
   "source": [
    "apost_df.drop(['LastEditorDisplayName','CommunityOwnedDate','LastEditorUserId','LastEditDate',\n",
    "             'LastActivityDate'],axis=1,inplace=True)"
   ]
  },
  {
   "cell_type": "code",
   "execution_count": 6,
   "metadata": {
    "collapsed": false
   },
   "outputs": [
    {
     "data": {
      "text/plain": [
       "53189    <p>What a great question- it's a chance to show how one would inspect the drawbacks and assumptions of any statistical method.  Namely: make up some data and try the algorithm on it!</p>\\n\\n<p>We'll consider two of your assumptions, and we'll see what happens to the k-means algorithm when those assumptions are broken. We'll stick to 2-dimensional data since it's easy to visualize. (Thanks to the <a href=\"http://en.wikipedia.org/wiki/Curse_of_dimensionality\">curse of dimensionality</a>, adding additional dimensions is likely to make these problems more severe, not less). We'll work with the statistical programming language R: you can find the full code <a href=\"https://github.com/dgrtwo/dgrtwo.github.com/blob/master/_R/2015-01-16-kmeans-free-lunch.Rmd\">here</a> (and the post in blog form <a href=\"http://varianceexplained.org/r/kmeans-free-lunch/\">here</a>).</p>\\n\\n<h3>Diversion: Anscombe's Quartet</h3>\\n\\n<p>First, an analogy. Imagine someone argued the following:</p>\\n\\n<blockquote>\\n  <p>I read some material about the drawbacks of linear regression- that it expects a linear trend, that the residuals are normally distributed, and that there are no outliers. But all linear regression is doing is minimizing the sum of squared errors (SSE) from the predicted line. That's an optimization problem that can be solved no matter what the shape of the curve or the distribution of the residuals is. Thus, linear regression requires no assumptions to work.</p>\\n</blockquote>\\n\\n<p>Well, yes, linear regression works by minimizing the sum of squared residuals. But that by itself is not the goal of a regression: what we're <em>trying</em> to do is draw a line that serves as a reliable, unbiased predictor of <em>y</em> based on <em>x</em>. The <a href=\"http://en.wikipedia.org/wiki/Gauss%E2%80%93Markov_theorem\">Gauss-Markov theorem</a> tells us that minimizing the SSE accomplishes that goal- but that theorem rests on some very specific assumptions. If those assumptions are broken, you can still minimize the SSE, but it might not <em>do</em> anything. Imagine saying \"You drive a car by pushing the pedal: driving is essentially a 'pedal-pushing process.' The pedal can be pushed no matter how much gas in the tank. Therefore, even if the tank is empty, you can still push the pedal and drive the car.\"</p>\\n\\n<p>But talk is cheap. Let's look at the cold, hard, data. Or actually, made-up data.</p>\\n\\n<p><img src=\"http://varianceexplained.org/figs/2015-01-16-kmeans-free-lunch/anscombe-1.png\" alt=\"center\"> </p>\\n\\n<p>This is in fact my <em>favorite</em> made-up data: <a href=\"http://en.wikipedia.org/wiki/Anscombe%27s_quartet\">Anscombe's Quartet</a>. Created in 1973 by statistician Francis Anscombe, this delightful concoction illustrates the folly of trusting statistical methods blindly. Each of the datasets has the same linear regression slope, intercept, p-value and $R^2$- and yet at a glance we can see that only one of them, <strong>I</strong>, is appropriate for linear regression. In <strong>II</strong> it suggests the wrong shape, in <strong>III</strong> it is skewed by a single outlier- and in <strong>IV</strong> there is clearly no trend at all!</p>\\n\\n<p>One could say \"Linear regression is still <em>working</em> in those cases, because it's minimizing the sum of squares of the residuals.\" But what a <a href=\"http://en.wikipedia.org/wiki/Pyrrhic_victory\">Pyrrhic victory</a>! Linear regression will always draw a line, but if it's a meaningless line, who cares?</p>\\n\\n<p>So now we see that just because an optimization can be performed doesn't mean we're accomplishing our goal. And we see that making up data, and visualizing it, is a good way to inspect the assumptions of a model. Hang on to that intuition, we're going to need it in a minute.</p>\\n\\n<h3>Broken Assumption: Non-Spherical Data</h3>\\n\\n<p>You argue that the k-means algorithm will work fine on non-spherical clusters. Non-spherical clusters like... these?</p>\\n\\n<p><img src=\"http://varianceexplained.org/figs/2015-01-16-kmeans-free-lunch/non_spherical-1.png\" alt=\"center\"> </p>\\n\\n<p>Maybe this isn't what you were expecting- but it's a perfectly reasonable way to construct clusters. Looking at this image, we humans <em>immediately</em> recognize two natural groups of points- there's no mistaking them. So let's see how k-means does: assignments are shown in color, imputed centers are shown as X's.</p>\\n\\n<p><img src=\"http://i.stack.imgur.com/SlpL1.png\" alt=\"enter image description here\"></p>\\n\\n<p>Well, <em>that</em>'s not right. K-means was trying to fit a <a href=\"http://en.wikipedia.org/wiki/Square_peg_in_a_round_hole\">square peg in a round hole</a>- trying to find nice centers with neat spheres around them- and it failed. Yes, it's still minimizing the within-cluster sum of squares- but just like in Anscombe's Quartet above, it's a Pyrrhic victory!</p>\\n\\n<p>You might say \"That's not a fair example... <em>no</em> clustering method could correctly find clusters that are that weird.\" Not true! Try <a href=\"http://en.wikipedia.org/wiki/Single-linkage_clustering\">single linkage</a> <a href=\"http://en.wikipedia.org/wiki/Hierarchical_clustering\">hierachical clustering</a>:</p>\\n\\n<p><img src=\"http://i.stack.imgur.com/vBuTf.png\" alt=\"enter image description here\"></p>\\n\\n<p>Nailed it! This is because single-linkage hierarchical clustering makes the <em>right</em> assumptions for this dataset. (There's a whole <em>other</em> class of situations where it fails).</p>\\n\\n<p>You might say \"That's a single, extreme, pathological case.\" But it's not! For instance, you can make the outer group a semi-circle instead of a circle, and you'll see k-means still does terribly (and hierarchical clustering still does well). I could come up with other problematic situations easily, and that's just in two dimensions. When you're clustering 16-dimensional data, there's all kinds of pathologies that could arise.</p>\\n\\n<p>Lastly, I should note that k-means is still salvagable! If you start by transforming your data into <a href=\"http://en.wikipedia.org/wiki/Polar_coordinate_system\">polar coordinates</a>, the clustering now works:</p>\\n\\n<p><img src=\"http://varianceexplained.org/figs/2015-01-16-kmeans-free-lunch/polar-1.png\" alt=\"center\"> </p>\\n\\n<p>That's why understanding the assumptions underlying a method is essential: <em>it doesn't just tell you when a method has drawbacks, it tells you how to fix them.</em></p>\\n\\n<h3>Broken Assumption: Unevenly Sized Clusters</h3>\\n\\n<p>What if the clusters have an uneven number of points- does that also break k-means clustering? Well, consider this set of clusters, of sizes 20, 100, 500. I've generated each from a multivariate Gaussian: </p>\\n\\n<p><img src=\"http://varianceexplained.org/figs/2015-01-16-kmeans-free-lunch/different_sizes-1.png\" alt=\"center\"> </p>\\n\\n<p>This looks like k-means could probably find those clusters, right? Everything seems to be generated into neat and tidy groups. So let's try k-means:</p>\\n\\n<p><img src=\"http://i.stack.imgur.com/zAI1g.png\" alt=\"enter image description here\"></p>\\n\\n<p>Ouch. What happened here is a bit subtler. In its quest to minimize the within-cluster sum of squares, the k-means algorithm gives more \"weight\" to larger clusters. In practice, that means it's happy to let that small cluster end up far away from any center, while it uses those centers to \"split up\" a much larger cluster.</p>\\n\\n<p>If you play with these examples a little (<a href=\"https://github.com/dgrtwo/dgrtwo.github.com/blob/master/_R/2015-01-16-kmeans-free-lunch.Rmd\">R code here!</a>), you'll see that you can construct far more scenarios where k-means gets it embarrassingly wrong.</p>\\n\\n<h3>Conclusion: No Free Lunch</h3>\\n\\n<p>There's a charming construction in mathematical folklore, formalized by <a href=\"http://ti.arc.nasa.gov/m/profile/dhw/papers/78.pdf\">Wolpert and Macready</a>, called the \"No Free Lunch Theorem.\" It's probably my favorite theorem in machine learning philosophy, and I relish any chance to bring it up (did I mention I love this question?) The basic idea is stated (non-rigorously) as this: <strong>\"When averaged across all possible situations, every algorithm performs equally well.\"</strong></p>\\n\\n<p>Sound counterintuitive? Consider that for every case where an algorithm works, I could construct a situation where it fails terribly. Linear regression assumes your data falls along a line- but what if it follows a sinusoidal wave? A t-test assumes each sample comes from a normal distribution: what if you throw in an outlier? Any gradient ascent algorithm can get trapped in local maxima, and any supervised classification can be tricked into overfitting.</p>\\n\\n<p>What does this mean? It means that assumptions <em>are where your power comes from!</em> When Netflix recommends movies to you, it's assuming that if you like one movie, you'll like similar ones (and vice versa). Imagine a world where that wasn't true, and your tastes are perfectly random- scattered haphazardly across genres, actors and directors. Their recommendation algorithm would fail terribly. Would it make sense to say \"Well, it's still minimizing some expected squared error, so the algorithm is still working\"? You can't make a recommendation algorithm without making some assumptions about users' tastes- just like you can't make a clustering algorithm without making some assumptions about the nature of those clusters.</p>\\n\\n<p>So don't just accept these drawbacks. Know them, so they can inform your choice of algorithms. Understand them, so you can tweak your algorithm and transform your data to solve them. And love them, because if your model could never be wrong, that means it will never be right.</p>\\n\\n<hr>\\n\n",
       "Name: Body, dtype: object"
      ]
     },
     "metadata": {},
     "output_type": "display_data"
    }
   ],
   "source": [
    "display(apost_df.Body[apost_df.Id==133694])#apost_df.Id==133694"
   ]
  },
  {
   "cell_type": "markdown",
   "metadata": {},
   "source": [
    "#Helper function"
   ]
  },
  {
   "cell_type": "code",
   "execution_count": 7,
   "metadata": {
    "collapsed": true
   },
   "outputs": [],
   "source": [
    "def clean_html_text(row):\n",
    "    soup = BeautifulSoup(row, 'html.parser')\n",
    "    #denote code\n",
    "    for tag in soup.find_all('code'):\n",
    "        tag.replaceWith(' refcode ')\n",
    "    #denote link\n",
    "    for tag in soup.find_all('a'):\n",
    "        content = tag.text\n",
    "        tag.replaceWith(content +' (reflink) ')\n",
    "    #denote image\n",
    "    for tag in soup.find_all('img'):\n",
    "        tag.replaceWith(' refimage ')\n",
    "        \n",
    "    raw = soup.get_text().lower()\n",
    "    #remove whitespace and /\n",
    "    raw = re.sub('[\\t\\n\\r\\x0b\\x0c/]+?', ' ', raw) \n",
    "    #denote mention\n",
    "    # replace twitter @mentions\n",
    "    mentionFinder = re.compile(r\"@[a-z0-9_]{1,15}\", re.IGNORECASE)\n",
    "    raw = mentionFinder.sub(\"@mention\", raw)\n",
    "    \n",
    "    #denote email\n",
    "    raw = re.sub(r'[\\w\\.-]+@[\\w\\.-]+[\\.][com|org|ch|uk]{2,3}', \" refemail \", raw)\n",
    "    #denote fomula\n",
    "    reg = '(\\$\\$.+?\\$\\$)|((\\\\\\\\begin\\{.+?\\})(.+?)(\\\\\\\\end\\{(.+?)\\}))'\n",
    "    raw = re.sub(reg, \" refformula \", raw, flags=re.IGNORECASE)  \n",
    "    #denote variable\n",
    "    raw = re.sub('(\\$.+?\\$)|([a-z]\\d)',' refvariable ', raw)\n",
    "    #denote number\n",
    "    raw = re.sub('[-+]?(\\d*[.])?\\d+',' refnumber ', raw)\n",
    "    \n",
    "    return(raw)"
   ]
  },
  {
   "cell_type": "code",
   "execution_count": 8,
   "metadata": {
    "collapsed": true
   },
   "outputs": [],
   "source": [
    "apost_df['Body_Text'] = apost_df.Body.map(lambda i: clean_html_text(i))"
   ]
  },
  {
   "cell_type": "code",
   "execution_count": 9,
   "metadata": {
    "collapsed": true
   },
   "outputs": [],
   "source": [
    "bins = [-36, 1, 260]\n",
    "group_names = ['bad','good']\n",
    "apost_df['AnsQuality']= pd.cut(apost_df['Score'],bins,labels=group_names)"
   ]
  },
  {
   "cell_type": "code",
   "execution_count": 10,
   "metadata": {
    "collapsed": false
   },
   "outputs": [
    {
     "data": {
      "text/plain": [
       "good    40546\n",
       "bad     33785\n",
       "dtype: int64"
      ]
     },
     "execution_count": 10,
     "metadata": {},
     "output_type": "execute_result"
    }
   ],
   "source": [
    "apost_df.AnsQuality.value_counts()"
   ]
  },
  {
   "cell_type": "code",
   "execution_count": 12,
   "metadata": {
    "collapsed": false
   },
   "outputs": [],
   "source": [
    "import pickle\n",
    "with open('../Data/ans_clean_forDL.pickle', 'wb') as handle:\n",
    "    pickle.dump(apost_df[['Id','Body_Text','AnsQuality']], handle)"
   ]
  },
  {
   "cell_type": "code",
   "execution_count": 13,
   "metadata": {
    "collapsed": false
   },
   "outputs": [
    {
     "data": {
      "text/plain": [
       "u\"one at a somewhat lower level of mathematical sophistication than wooldridge (less dense, more pictures), but a bit more up to date on some of the fast-moving areas: murray, michael p. econometrics: a modern introduction. addison wesley,  refnumber .  refnumber  pp. isbn  refnumber  (reflink)  seems that it's not available for preview on the web and the publisher is out of stock, but you can view pdfs of  refnumber  web extensions (reflink)  to get an idea of its style. \""
      ]
     },
     "metadata": {},
     "output_type": "display_data"
    }
   ],
   "source": [
    "display(clean_html_text(apost_df.Body[apost_df.Id==4632].iloc[0]))"
   ]
  },
  {
   "cell_type": "markdown",
   "metadata": {},
   "source": [
    "#Automatic Summarization"
   ]
  },
  {
   "cell_type": "code",
   "execution_count": 14,
   "metadata": {
    "collapsed": true
   },
   "outputs": [],
   "source": [
    "from gensim.summarization import summarize\n",
    "from gensim.summarization import keywords"
   ]
  },
  {
   "cell_type": "code",
   "execution_count": 15,
   "metadata": {
    "collapsed": true
   },
   "outputs": [],
   "source": [
    "text = clean_html_text(apost_df.Body[apost_df.Id==1632].iloc[0])"
   ]
  },
  {
   "cell_type": "code",
   "execution_count": 16,
   "metadata": {
    "collapsed": false
   },
   "outputs": [
    {
     "data": {
      "text/plain": [
       "u\"it's hard to ignore the wealth of statistical packages available in r cran.  that said, i spend a lot of time in python land and would never dissuade anyone from having as much fun as i do.  :)  here are some libraries links you might find useful for statistical work.    numpy scipy (reflink)  you probably know about these already.  but let me point out the cookbook (reflink)  where you can read about many statistical facilities already available and the example list (reflink)  which is a great reference for functions (including data manipulation and other operations).  another handy reference is john cook's distributions in scipy (reflink) . pandas (reflink)  this is a really nice library for working with statistical data -- tabular data, time series, panel data.  includes many builtin functions for data summaries, grouping aggregation, pivoting.  also has a statistics econometrics library. larry (reflink)   labeled array that plays nice with numpy.  provides statistical functions not present in numpy and good for data manipulation. python-statlib (reflink)  a fairly recent effort which combined a number of scattered statistics libraries.  useful for basic and descriptive statistics if you're not using numpy or pandas. statsmodels (reflink)  statistical modeling: linear models, glms, among others.   scikits (reflink)   statistical and scientific computing packages -- notably smoothing, optimization and machine learning. pymc (reflink)  for your bayesian mcmc hierarchical modeling needs. highly recommended. pymix (reflink)  mixture models.  if speed becomes a problem, consider theano (reflink)  -- used with good success by the deep learning people. there's plenty of other stuff out there, but this is what i find the most useful along the lines you mentioned. \""
      ]
     },
     "execution_count": 16,
     "metadata": {},
     "output_type": "execute_result"
    }
   ],
   "source": [
    "text"
   ]
  },
  {
   "cell_type": "code",
   "execution_count": 17,
   "metadata": {
    "collapsed": false
   },
   "outputs": [
    {
     "name": "stdout",
     "output_type": "stream",
     "text": [
      "Summary:\n",
      "but let me point out the cookbook (reflink)  where you can read about many statistical facilities already available and the example list (reflink)  which is a great reference for functions (including data manipulation and other operations).\n"
     ]
    }
   ],
   "source": [
    "print 'Summary:'\n",
    "print summarize(text, word_count=30)"
   ]
  },
  {
   "cell_type": "code",
   "execution_count": 18,
   "metadata": {
    "collapsed": false
   },
   "outputs": [
    {
     "name": "stdout",
     "output_type": "stream",
     "text": [
      "Keywords:\n",
      "reflink\n",
      "statistics\n",
      "data\n",
      "models\n",
      "libraries\n",
      "learning\n",
      "packages\n"
     ]
    }
   ],
   "source": [
    "print 'Keywords:'\n",
    "print keywords(text,pos_filter=['NN'],ratio=0.1,lemmatize=True)"
   ]
  },
  {
   "cell_type": "markdown",
   "metadata": {},
   "source": [
    "#Word2vec/Doc2vec prepare: Train and test set"
   ]
  },
  {
   "cell_type": "code",
   "execution_count": 19,
   "metadata": {
    "collapsed": false
   },
   "outputs": [],
   "source": [
    "from sklearn.cross_validation import train_test_split"
   ]
  },
  {
   "cell_type": "code",
   "execution_count": 20,
   "metadata": {
    "collapsed": true
   },
   "outputs": [],
   "source": [
    "X_train, X_test, y_train, y_test = train_test_split(apost_df[['Id','Body_Text']], apost_df['AnsQuality'], test_size=0.4, random_state=42)"
   ]
  },
  {
   "cell_type": "code",
   "execution_count": 21,
   "metadata": {
    "collapsed": true
   },
   "outputs": [],
   "source": [
    "X_train['source'] = 'train'\n",
    "X_test['source'] = 'test'"
   ]
  },
  {
   "cell_type": "code",
   "execution_count": 22,
   "metadata": {
    "collapsed": false
   },
   "outputs": [],
   "source": [
    "tmp_df = pd.concat([X_train, X_test],ignore_index=True)"
   ]
  },
  {
   "cell_type": "code",
   "execution_count": 23,
   "metadata": {
    "collapsed": false
   },
   "outputs": [],
   "source": [
    "apost_df = apost_df.merge(tmp_df, left_on=apost_df.Id,right_on=tmp_df.Id,suffixes=['_post', '_tmp'])"
   ]
  },
  {
   "cell_type": "code",
   "execution_count": 24,
   "metadata": {
    "collapsed": false
   },
   "outputs": [
    {
     "data": {
      "text/plain": [
       "Index([u'Body', u'ViewCount', u'ClosedDate', u'ParentID', u'CommentCount',\n",
       "       u'AnswerCount', u'AcceptedAnswerId', u'Score', u'OwnerDisplayName',\n",
       "       u'Title', u'PostTypeId', u'OwnerUserId', u'Tags', u'CreationDate',\n",
       "       u'FavoriteCount', u'Id_post', u'Body_Text_post', u'AnsQuality',\n",
       "       u'Id_tmp', u'Body_Text_tmp', u'source'],\n",
       "      dtype='object')"
      ]
     },
     "execution_count": 24,
     "metadata": {},
     "output_type": "execute_result"
    }
   ],
   "source": [
    "apost_df.columns"
   ]
  },
  {
   "cell_type": "code",
   "execution_count": 60,
   "metadata": {
    "collapsed": false
   },
   "outputs": [],
   "source": [
    "fdata = open(\"../data/allans_forDL.csv\", 'wb')\n",
    "for index,row in apost_df.iterrows():\n",
    "    ID = row['Id_tmp']\n",
    "    split = row['source']\n",
    "    sentiment = row['AnsQuality']     \n",
    "    ans = row[\"Body_Text_post\"].encode(\"ascii\", \"ignore\")\n",
    "    \n",
    "    fdata.write(\"SENT_%s\\t%s\\t%s\\t%s\\n\" % (str(index),ans,split,sentiment))\n",
    "fdata.close()"
   ]
  },
  {
   "cell_type": "code",
   "execution_count": 2,
   "metadata": {
    "collapsed": true
   },
   "outputs": [],
   "source": [
    "from gensim.models import Doc2Vec\n",
    "import gensim.models.doc2vec\n",
    "from gensim.models.doc2vec import LabeledSentence \n",
    "from collections import namedtuple\n",
    "import nltk"
   ]
  },
  {
   "cell_type": "code",
   "execution_count": 3,
   "metadata": {
    "collapsed": false
   },
   "outputs": [
    {
     "name": "stdout",
     "output_type": "stream",
     "text": [
      "74331 docs: 44598 train-sentiment, 29733 test-sentiment\n"
     ]
    }
   ],
   "source": [
    "alldocs = []  # will hold all docs in original order\n",
    "train_doc = []\n",
    "test_doc = []\n",
    "train_y = []\n",
    "test_y = []\n",
    "with open('../Data/allans_forDL.csv') as alldata:\n",
    "    for line_no, line in enumerate(alldata):\n",
    "        tags, words_texts, split, sentiment = line.strip().split('\\t')\n",
    "        words = nltk.word_tokenize(words_texts)\n",
    "        if split=='train':\n",
    "            train_doc.append(LabeledSentence(words, [tags]))\n",
    "            if sentiment == \"good\":\n",
    "                train_y.append(1)\n",
    "            else:\n",
    "                train_y.append(0)\n",
    "        else:\n",
    "            test_doc.append(LabeledSentence(words, [tags]))\n",
    "            if sentiment == \"bad\":\n",
    "                train_y.append(1)\n",
    "            else:\n",
    "                train_y.append(0)\n",
    "            \n",
    "        alldocs.append(LabeledSentence(words, [tags]))\n",
    "\n",
    "doc_list = alldocs[:]  # for reshuffling per pass\n",
    "\n",
    "print('%d docs: %d train-sentiment, %d test-sentiment' % (len(doc_list), len(train_doc), len(test_doc)))"
   ]
  },
  {
   "cell_type": "code",
   "execution_count": 3,
   "metadata": {
    "collapsed": false
   },
   "outputs": [
    {
     "data": {
      "text/plain": [
       "TaggedDocument(words=['this', 'paper', 'by', 'massey', 'and', 'denton', 'refnumber', '(', 'reflink', ')', 'is', 'a', 'fairly', 'prolific', 'overview', 'of', 'commonly', 'used', 'indices', 'in', 'sociology', 'demography', '.', 'it', 'would', 'also', 'be', 'useful', 'for', 'some', 'other', 'key', 'terms', 'used', 'for', 'searching', 'articles', '.', 'frequently', 'in', 'sociology', 'the', 'indices', 'are', 'labelled', 'with', 'names', 'such', 'as', '``', 'heterogeneity', \"''\", 'and', '``', 'segregation', \"''\", 'as', 'well', 'as', '``', 'diversity', \"''\", '.', 'part', 'of', 'the', 'reason', 'no', 'absolute', 'right', 'answer', 'exists', 'to', 'your', 'question', 'is', 'that', 'people', 'frequently', 'only', 'use', 'epistemic', 'logic', 'to', 'reason', 'why', 'one', 'index', 'is', 'a', 'preferred', 'measurement', '.', 'infrequently', 'are', 'those', 'arguments', 'so', 'strong', 'that', 'one', 'should', 'entirely', 'discount', 'other', 'suggested', 'measures', '.', 'the', 'work', 'of', 'massey', 'and', 'denton', 'is', 'useful', 'to', 'highlight', 'what', 'many', 'of', 'these', 'indices', 'theoretically', 'measure', 'and', 'when', 'they', 'differ', 'to', 'a', 'substantively', 'noticeable', 'extent', '(', 'in', 'large', 'cities', 'in', 'the', 'us', ')', '.'], tags=['AnsID:7704'])"
      ]
     },
     "execution_count": 3,
     "metadata": {},
     "output_type": "execute_result"
    }
   ],
   "source": [
    "doc_list[5000]"
   ]
  },
  {
   "cell_type": "code",
   "execution_count": 37,
   "metadata": {
    "collapsed": false
   },
   "outputs": [
    {
     "data": {
      "text/plain": [
       "u'this paper by massey and denton  refnumber  (reflink)  is a fairly prolific overview of commonly used indices in sociology demography. it would also be useful for some other key terms used for searching articles. frequently in sociology the indices are labelled with names such as \"heterogeneity\" and \"segregation\" as well as \"diversity\". part of the reason no absolute right answer exists to your question is that people frequently only use epistemic logic to reason why one index is a preferred measurement. infrequently are those arguments so strong that one should entirely discount other suggested measures. the work of massey and denton is useful to highlight what many of these indices theoretically measure and when they differ to a substantively noticeable extent (in large cities in the us). '"
      ]
     },
     "execution_count": 37,
     "metadata": {},
     "output_type": "execute_result"
    }
   ],
   "source": [
    "apost_df['Body_Text_post'][5000]"
   ]
  },
  {
   "cell_type": "markdown",
   "metadata": {},
   "source": [
    "#Set-up Doc2Vec Training & Evaluation Models"
   ]
  },
  {
   "cell_type": "code",
   "execution_count": 4,
   "metadata": {
    "collapsed": true
   },
   "outputs": [],
   "source": [
    "from gensim.models import Doc2Vec\n",
    "import gensim.models.doc2vec\n",
    "from collections import OrderedDict\n",
    "import multiprocessing\n",
    "\n",
    "cores = multiprocessing.cpu_count()\n",
    "assert gensim.models.doc2vec.FAST_VERSION > -1, \"this will be painfully slow otherwise\""
   ]
  },
  {
   "cell_type": "code",
   "execution_count": 5,
   "metadata": {
    "collapsed": false
   },
   "outputs": [],
   "source": [
    "simple_models = [\n",
    "    # PV-DM w/concatenation - window=5 (both sides) approximates paper's 10-word total window size\n",
    "    Doc2Vec(dm=1, dm_concat=1, size=100, window=5, negative=5, hs=0, min_count=8, workers=cores, sample=1e-4),\n",
    "    # PV-DBOW \n",
    "    Doc2Vec(dm=0, size=100, negative=5, hs=0, min_count=10, workers=cores, sample=1e-4),\n",
    "    # PV-DM w/average\n",
    "    Doc2Vec(dm=1, dm_mean=1, size=100, window=8, negative=5, hs=0, min_count=8, workers=cores, sample=1e-4),\n",
    "]"
   ]
  },
  {
   "cell_type": "code",
   "execution_count": 6,
   "metadata": {
    "collapsed": false
   },
   "outputs": [
    {
     "name": "stdout",
     "output_type": "stream",
     "text": [
      "Doc2Vec(dm/c,d100,n5,w5,mc8,s0.0001,t16)\n",
      "Doc2Vec(dbow,d100,n5,mc10,s0.0001,t16)\n",
      "Doc2Vec(dm/m,d100,n5,w8,mc8,s0.0001,t16)\n"
     ]
    }
   ],
   "source": [
    "# speed setup by sharing results of 1st model's vocabulary scan\n",
    "simple_models[0].build_vocab(alldocs)  # PV-DM/concat requires one special NULL word so it serves as template\n",
    "print(simple_models[0])\n",
    "for model in simple_models[1:]:\n",
    "    model.reset_from(simple_models[0])\n",
    "    print(model)"
   ]
  },
  {
   "cell_type": "code",
   "execution_count": 8,
   "metadata": {
    "collapsed": false
   },
   "outputs": [
    {
     "data": {
      "text/plain": [
       "74331"
      ]
     },
     "execution_count": 8,
     "metadata": {},
     "output_type": "execute_result"
    }
   ],
   "source": [
    "simple_models[0].docvecs.count"
   ]
  },
  {
   "cell_type": "code",
   "execution_count": 9,
   "metadata": {
    "collapsed": false
   },
   "outputs": [
    {
     "name": "stdout",
     "output_type": "stream",
     "text": [
      "[  4.61835507e-03  -3.64258396e-03   2.60482798e-03  -5.24145551e-04\n",
      "   4.56172012e-04  -3.48055479e-03  -2.98021291e-03   1.10461249e-03\n",
      "  -2.67894939e-03  -3.36333970e-03   3.97843914e-03   2.88273045e-03\n",
      "  -4.57707047e-03   3.92084755e-03   4.83234064e-04   1.13892404e-03\n",
      "   4.08172957e-04  -4.75213351e-03   1.20185642e-03  -3.79314972e-03\n",
      "  -2.92225787e-03  -2.45182705e-03  -3.36044584e-03   3.64192203e-03\n",
      "   4.86102421e-03  -3.48003511e-03   8.44478272e-05  -4.23227018e-03\n",
      "  -3.19611561e-03   3.19259381e-03   3.07510607e-03   2.36585550e-03\n",
      "   1.03524362e-03  -4.14243620e-03  -4.69785463e-03   1.33768586e-03\n",
      "  -8.67638155e-04   3.78161180e-03  -1.01621414e-03   6.14542223e-04\n",
      "  -1.27025798e-03  -1.92071078e-03   4.88684839e-03   3.89387016e-03\n",
      "  -2.09059450e-04   3.63059132e-03   8.61565350e-05  -1.56969717e-03\n",
      "   1.49597076e-03  -4.91627492e-03   1.18393754e-03   1.48012745e-03\n",
      "   1.07549748e-03   2.88023963e-03  -9.36067721e-04  -3.77976045e-04\n",
      "  -3.73104657e-03  -2.57961568e-03   1.35796459e-03  -7.55858258e-04\n",
      "   4.94969403e-03  -2.00214563e-03   4.13962966e-03   3.63362324e-03\n",
      "   1.27131445e-03   3.75613873e-03  -2.09568744e-03  -1.58627029e-03\n",
      "  -5.94525249e-04   2.70293647e-04  -2.39364905e-04  -2.52118078e-03\n",
      "   2.39292230e-03  -1.02320698e-03  -1.11401675e-03  -1.51201530e-04\n",
      "   3.17062694e-03   3.83844017e-03   3.20336828e-03   4.51796874e-03\n",
      "   4.16906318e-03   2.78195878e-03   2.41509220e-03  -5.88288589e-04\n",
      "   2.37861881e-03   3.47730261e-03  -1.20223785e-05   2.66685477e-03\n",
      "  -1.25786581e-03  -3.80494422e-03  -3.16165388e-03   4.56494652e-03\n",
      "   6.19635743e-04   4.17479686e-03   1.17844238e-03  -2.75916001e-03\n",
      "  -4.96090902e-03   1.19833986e-03   4.75979177e-03  -1.40360498e-03]\n"
     ]
    }
   ],
   "source": [
    "print simple_models[0].docvecs['AnsID:7704']"
   ]
  },
  {
   "cell_type": "code",
   "execution_count": 7,
   "metadata": {
    "collapsed": false
   },
   "outputs": [],
   "source": [
    "from gensim.test.test_doc2vec import ConcatenatedDoc2Vec\n",
    "\n",
    "models_by_name = OrderedDict((str(model), model) for model in simple_models)\n",
    "models_by_name['dbow+dmm'] = ConcatenatedDoc2Vec([simple_models[1], simple_models[2]])\n",
    "models_by_name['dbow+dmc'] = ConcatenatedDoc2Vec([simple_models[1], simple_models[0]])"
   ]
  },
  {
   "cell_type": "markdown",
   "metadata": {},
   "source": [
    "#Predictive Evaluation Methods"
   ]
  },
  {
   "cell_type": "code",
   "execution_count": 8,
   "metadata": {
    "collapsed": false
   },
   "outputs": [
    {
     "name": "stderr",
     "output_type": "stream",
     "text": [
      "/home/ubuntu/anaconda2/lib/python2.7/site-packages/pandas/computation/__init__.py:19: UserWarning: The installed version of numexpr 2.4.4 is not supported in pandas and will be not be used\n",
      "\n",
      "  UserWarning)\n"
     ]
    }
   ],
   "source": [
    "import numpy as np\n",
    "import statsmodels.api as sm\n",
    "from random import sample\n",
    "\n",
    "# for timing\n",
    "from contextlib import contextmanager\n",
    "from timeit import default_timer\n",
    "import time \n",
    "\n",
    "@contextmanager\n",
    "def elapsed_timer():\n",
    "    start = default_timer()\n",
    "    elapser = lambda: default_timer() - start\n",
    "    yield lambda: elapser()\n",
    "    end = default_timer()\n",
    "    elapser = lambda: end-start"
   ]
  },
  {
   "cell_type": "markdown",
   "metadata": {},
   "source": [
    "#Bulk Training"
   ]
  },
  {
   "cell_type": "markdown",
   "metadata": {},
   "source": [
    "Using explicit multiple-pass, alpha-reduction approach as sketched in gensim doc2vec blog post – with added shuffling of corpus on each pass."
   ]
  },
  {
   "cell_type": "markdown",
   "metadata": {},
   "source": [
    "Evaluation of each model's sentiment-predictive power is repeated after each pass, as an error rate (lower is better), to see the rates-of-relative-improvement. The base numbers reuse the TRAIN and TEST vectors stored in the models for the logistic regression, while the inferred results use newly-inferred TEST vectors."
   ]
  },
  {
   "cell_type": "code",
   "execution_count": 9,
   "metadata": {
    "collapsed": true
   },
   "outputs": [],
   "source": [
    "from collections import defaultdict\n",
    "best_error = defaultdict(lambda :1.0)  # to selectively-print only best errors achieved"
   ]
  },
  {
   "cell_type": "code",
   "execution_count": 10,
   "metadata": {
    "collapsed": true
   },
   "outputs": [],
   "source": [
    "import warnings"
   ]
  },
  {
   "cell_type": "code",
   "execution_count": 11,
   "metadata": {
    "collapsed": false
   },
   "outputs": [
    {
     "name": "stdout",
     "output_type": "stream",
     "text": [
      "START 2016-06-01 19:31:17.272491\n",
      "The 1 passes : Doc2Vec(dm/c,d100,n5,w5,mc8,s0.0001,t16) 51.6s\n",
      "The 1 passes : Doc2Vec(dbow,d100,n5,mc10,s0.0001,t16) 39.7s\n",
      "The 1 passes : Doc2Vec(dm/m,d100,n5,w8,mc8,s0.0001,t16) 54.0s\n",
      "The 1 passes : dbow+dmm 0.0s\n",
      "The 1 passes : dbow+dmc 0.0s\n",
      "completed pass 1 at alpha 0.025000\n",
      "The 2 passes : Doc2Vec(dm/c,d100,n5,w5,mc8,s0.0001,t16) 51.3s\n",
      "The 2 passes : Doc2Vec(dbow,d100,n5,mc10,s0.0001,t16) 38.9s\n",
      "The 2 passes : Doc2Vec(dm/m,d100,n5,w8,mc8,s0.0001,t16) 53.3s\n",
      "The 2 passes : dbow+dmm 0.0s\n",
      "The 2 passes : dbow+dmc 0.0s\n",
      "completed pass 2 at alpha 0.022600\n",
      "The 3 passes : Doc2Vec(dm/c,d100,n5,w5,mc8,s0.0001,t16) 50.2s\n",
      "The 3 passes : Doc2Vec(dbow,d100,n5,mc10,s0.0001,t16) 38.1s\n",
      "The 3 passes : Doc2Vec(dm/m,d100,n5,w8,mc8,s0.0001,t16) 53.6s\n",
      "The 3 passes : dbow+dmm 0.0s\n",
      "The 3 passes : dbow+dmc 0.0s\n",
      "completed pass 3 at alpha 0.020200\n",
      "The 4 passes : Doc2Vec(dm/c,d100,n5,w5,mc8,s0.0001,t16) 49.8s\n",
      "The 4 passes : Doc2Vec(dbow,d100,n5,mc10,s0.0001,t16) 38.9s\n",
      "The 4 passes : Doc2Vec(dm/m,d100,n5,w8,mc8,s0.0001,t16) 53.4s\n",
      "The 4 passes : dbow+dmm 0.0s\n",
      "The 4 passes : dbow+dmc 0.0s\n",
      "completed pass 4 at alpha 0.017800\n",
      "The 5 passes : Doc2Vec(dm/c,d100,n5,w5,mc8,s0.0001,t16) 49.4s\n",
      "The 5 passes : Doc2Vec(dbow,d100,n5,mc10,s0.0001,t16) 38.2s\n",
      "The 5 passes : Doc2Vec(dm/m,d100,n5,w8,mc8,s0.0001,t16) 53.1s\n",
      "The 5 passes : dbow+dmm 0.0s\n",
      "The 5 passes : dbow+dmc 0.0s\n",
      "completed pass 5 at alpha 0.015400\n",
      "The 6 passes : Doc2Vec(dm/c,d100,n5,w5,mc8,s0.0001,t16) 49.4s\n",
      "The 6 passes : Doc2Vec(dbow,d100,n5,mc10,s0.0001,t16) 37.5s\n",
      "The 6 passes : Doc2Vec(dm/m,d100,n5,w8,mc8,s0.0001,t16) 52.7s\n",
      "The 6 passes : dbow+dmm 0.0s\n",
      "The 6 passes : dbow+dmc 0.0s\n",
      "completed pass 6 at alpha 0.013000\n",
      "The 7 passes : Doc2Vec(dm/c,d100,n5,w5,mc8,s0.0001,t16) 49.3s\n",
      "The 7 passes : Doc2Vec(dbow,d100,n5,mc10,s0.0001,t16) 38.8s\n",
      "The 7 passes : Doc2Vec(dm/m,d100,n5,w8,mc8,s0.0001,t16) 53.0s\n",
      "The 7 passes : dbow+dmm 0.0s\n",
      "The 7 passes : dbow+dmc 0.0s\n",
      "completed pass 7 at alpha 0.010600\n",
      "The 8 passes : Doc2Vec(dm/c,d100,n5,w5,mc8,s0.0001,t16) 49.1s\n",
      "The 8 passes : Doc2Vec(dbow,d100,n5,mc10,s0.0001,t16) 38.5s\n",
      "The 8 passes : Doc2Vec(dm/m,d100,n5,w8,mc8,s0.0001,t16) 52.4s\n",
      "The 8 passes : dbow+dmm 0.0s\n",
      "The 8 passes : dbow+dmc 0.0s\n",
      "completed pass 8 at alpha 0.008200\n",
      "The 9 passes : Doc2Vec(dm/c,d100,n5,w5,mc8,s0.0001,t16) 49.3s\n",
      "The 9 passes : Doc2Vec(dbow,d100,n5,mc10,s0.0001,t16) 37.7s\n",
      "The 9 passes : Doc2Vec(dm/m,d100,n5,w8,mc8,s0.0001,t16) 52.5s\n",
      "The 9 passes : dbow+dmm 0.0s\n",
      "The 9 passes : dbow+dmc 0.0s\n",
      "completed pass 9 at alpha 0.005800\n",
      "The 10 passes : Doc2Vec(dm/c,d100,n5,w5,mc8,s0.0001,t16) 49.2s\n",
      "The 10 passes : Doc2Vec(dbow,d100,n5,mc10,s0.0001,t16) 37.7s\n",
      "The 10 passes : Doc2Vec(dm/m,d100,n5,w8,mc8,s0.0001,t16) 53.0s\n",
      "The 10 passes : dbow+dmm 0.0s\n",
      "The 10 passes : dbow+dmc 0.0s\n",
      "completed pass 10 at alpha 0.003400\n",
      "END 2016-06-01 19:54:51.221040\n"
     ]
    }
   ],
   "source": [
    "from random import shuffle\n",
    "import datetime\n",
    "\n",
    "alpha, min_alpha, passes = (0.025, 0.001, 10)\n",
    "alpha_delta = (alpha - min_alpha) / passes\n",
    "\n",
    "print(\"START %s\" % datetime.datetime.now())\n",
    "\n",
    "with warnings.catch_warnings():\n",
    "    warnings.filterwarnings(\"ignore\")\n",
    "    for epoch in range(passes):\n",
    "        shuffle(doc_list)  # shuffling gets best results\n",
    "\n",
    "        for name, train_model in models_by_name.items():\n",
    "            # train\n",
    "            duration = 'na'\n",
    "            train_model.alpha, train_model.min_alpha = alpha, alpha\n",
    "            with elapsed_timer() as elapsed:\n",
    "                train_model.train(doc_list)\n",
    "                duration = '%.1f' % elapsed()\n",
    "                print(\"The %i passes : %s %ss\" % (epoch + 1, name, duration))\n",
    "\n",
    "        print('completed pass %i at alpha %f' % (epoch + 1, alpha))\n",
    "        alpha -= alpha_delta\n",
    "\n",
    "    print(\"END %s\" % str(datetime.datetime.now()))"
   ]
  },
  {
   "cell_type": "markdown",
   "metadata": {},
   "source": [
    "#Achieved Sentiment-Prediction Accuracy"
   ]
  },
  {
   "cell_type": "markdown",
   "metadata": {},
   "source": [
    "##Are inferred vectors close to the precalculated ones?"
   ]
  },
  {
   "cell_type": "code",
   "execution_count": 12,
   "metadata": {
    "collapsed": false
   },
   "outputs": [
    {
     "name": "stdout",
     "output_type": "stream",
     "text": [
      "for doc 16108...\n",
      "Doc2Vec(dm/c,d100,n5,w5,mc8,s0.0001,t16):\n",
      " [('AnsID:29157', 0.8235429525375366), ('AnsID:29223', 0.4447145462036133), ('AnsID:5477', 0.4174382984638214)]\n",
      "Doc2Vec(dbow,d100,n5,mc10,s0.0001,t16):\n",
      " [('AnsID:29157', 0.8550589084625244), ('AnsID:34344', 0.5546094179153442), ('AnsID:113676', 0.5431535243988037)]\n",
      "Doc2Vec(dm/m,d100,n5,w8,mc8,s0.0001,t16):\n",
      " [('AnsID:29157', 0.8124358654022217), ('AnsID:65882', 0.4623816907405853), ('AnsID:32045', 0.46219533681869507)]\n"
     ]
    }
   ],
   "source": [
    "doc_id = np.random.randint(simple_models[0].docvecs.count)  # pick random doc; re-run cell for more examples\n",
    "print('for doc %d...' % doc_id)\n",
    "for model in simple_models:\n",
    "    inferred_docvec = model.infer_vector(alldocs[doc_id].words)\n",
    "    print('%s:\\n %s' % (model, model.docvecs.most_similar([inferred_docvec], topn=3)))"
   ]
  },
  {
   "cell_type": "markdown",
   "metadata": {},
   "source": [
    "##Do close documents seem more related than distant ones?¶"
   ]
  },
  {
   "cell_type": "code",
   "execution_count": 30,
   "metadata": {
    "collapsed": true
   },
   "outputs": [],
   "source": [
    "def findidx(listtuple, tagkey):\n",
    "    for idx,tup  in enumerate(listtuple):\n",
    "        if tup.tags[0] == tagkey:\n",
    "            print tup.tags\n",
    "            #PAIR_FOUND = True\n",
    "            location = idx\n",
    "            return location\n",
    "            break\n",
    "    "
   ]
  },
  {
   "cell_type": "code",
   "execution_count": 36,
   "metadata": {
    "collapsed": false,
    "scrolled": true
   },
   "outputs": [
    {
     "name": "stdout",
     "output_type": "stream",
     "text": [
      "TARGET (5297): «i believe belsely said that ci over refnumber is indicative of a possible moderate problem , while over refnumber is more severe . in addition , though , you should look at the variance shared by sets of variables in the high condition indices . there is debate ( or was , last time i read this literature ) on whether collinearity that involved one variable and the intercept was problematic or not , and whether centering the offending variable got rid of the problem , or simply moved it elsewhere .»\n",
      "\n",
      "SIMILAR/DISSIMILAR DOCS PER MODEL Doc2Vec(dm/c,d100,n5,w5,mc8,s0.0001,t16):\n",
      "\n",
      "['AnsID:103492']\n",
      "MOST ('AnsID:103492', 0.4484512209892273): «i 'm not sure that this is an appropriate question for this forum since it deals only with the use of a particular software package , but the option refcode specifies that the residuals are independent , but that their variance may differ according to variable refcode . iow , residuals for observations with different values of refcode may have different variance . this is a way to model heteroskedasticity . it is explained in detail in the section of the user 's manual [ me ] ( reflink ) dealing with refcode ( fyi , the command refcode was renamed refcode in stata refnumber ) .»\n",
      "\n",
      "['AnsID:169028']\n",
      "MEDIAN ('AnsID:169028', -0.0010252930223941803): «as @ mention noted , there is no r-squared for logistic regression . while there are several 'pseudo-r-squared ' options available , i would advise against using them - there are simply too many and none of them properly get at the issue you are trying to solve . remember that the purpose of logistic regression is different from ols regression . in the latter , you minimize the squared error , and the r^ refnumber is conceptually straightforward - the total % variance accounted for by the model . in contrast , logistic regression seeks classification accuracy . this can be assessed numerically in several ways , using such metrics as auc ( area under the roc curve ) , confusion matrices , positive predictive value ( ppv ) , etc , etc . for auc roc , i suggest you look into r package 'proc ' . for confusion matrices , ppv , etc. , try r package 'caret ' .»\n",
      "\n",
      "['AnsID:135533']\n",
      "LEAST ('AnsID:135533', -0.4218975901603699): «indipendence means exactly that the joint pdf is the product of the individual pdfs . if we are talking about probability theory , and the densities are not indipendent , then you have to specify how they depend on each other . about entropy , an easy way of seeing it is through conditional entropy : the conditional entropy refvariable is the extra amount of entropy that you get from refvariable by knowing refvariable . then you can write refformula of course , if refvariable depends completely from refvariable , then refvariable . if instead the information of refvariable that you get from refvariable is null , therefore refvariable and refvariable are indipendent , then refvariable . in this way , you can quantify the joint entropy from the individual distributions and their dependence . the conditional entropy is computed as refformula so the most convenient way of writing the dependence of the two variables would be through their conditional denisty , refvariable .»\n",
      "\n"
     ]
    }
   ],
   "source": [
    "import random\n",
    "\n",
    "doc_id = np.random.randint(simple_models[0].docvecs.count)  # pick random doc, re-run cell for more examples\n",
    "model = random.choice(simple_models)  # and a random model\n",
    "sims = model.docvecs.most_similar(doc_id, topn=model.docvecs.count)  # get *all* similar documents\n",
    "print(u'TARGET (%d): «%s»\\n' % (doc_id, ' '.join(alldocs[doc_id].words)))\n",
    "print(u'SIMILAR/DISSIMILAR DOCS PER MODEL %s:\\n' % model)\n",
    "for label, index in [('MOST', 0), ('MEDIAN', len(sims)//2), ('LEAST', len(sims) - 1)]:\n",
    "    loc = findidx(alldocs, sims[index][0])\n",
    "    print(u'%s %s: «%s»\\n' % (label, sims[index], ' '.join(alldocs[loc].words)))"
   ]
  },
  {
   "cell_type": "code",
   "execution_count": 31,
   "metadata": {
    "collapsed": false
   },
   "outputs": [
    {
     "name": "stdout",
     "output_type": "stream",
     "text": [
      "['AnsID:199838']\n"
     ]
    },
    {
     "data": {
      "text/plain": [
       "74209"
      ]
     },
     "execution_count": 31,
     "metadata": {},
     "output_type": "execute_result"
    }
   ],
   "source": [
    "findidx(alldocs,sims[0][0])"
   ]
  },
  {
   "cell_type": "code",
   "execution_count": 24,
   "metadata": {
    "collapsed": false
   },
   "outputs": [
    {
     "data": {
      "text/plain": [
       "'AnsID:199838'"
      ]
     },
     "execution_count": 24,
     "metadata": {},
     "output_type": "execute_result"
    }
   ],
   "source": [
    "sims[0][0]"
   ]
  },
  {
   "cell_type": "code",
   "execution_count": 25,
   "metadata": {
    "collapsed": false
   },
   "outputs": [
    {
     "data": {
      "text/plain": [
       "['AnsID:5']"
      ]
     },
     "execution_count": 25,
     "metadata": {},
     "output_type": "execute_result"
    }
   ],
   "source": [
    "alldocs[0].tags"
   ]
  },
  {
   "cell_type": "code",
   "execution_count": null,
   "metadata": {
    "collapsed": true
   },
   "outputs": [],
   "source": []
  }
 ],
 "metadata": {
  "kernelspec": {
   "display_name": "Python 2",
   "language": "python",
   "name": "python2"
  },
  "language_info": {
   "codemirror_mode": {
    "name": "ipython",
    "version": 2
   },
   "file_extension": ".py",
   "mimetype": "text/x-python",
   "name": "python",
   "nbconvert_exporter": "python",
   "pygments_lexer": "ipython2",
   "version": "2.7.11"
  }
 },
 "nbformat": 4,
 "nbformat_minor": 0
}
